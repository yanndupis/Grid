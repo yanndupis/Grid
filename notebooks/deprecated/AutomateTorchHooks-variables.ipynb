{
 "cells": [
  {
   "cell_type": "markdown",
   "metadata": {},
   "source": [
    "### Notes"
   ]
  },
  {
   "cell_type": "markdown",
   "metadata": {},
   "source": [
    "Note, this requires using PyTorch v0.3.1.  Somewhere between 0.3.1 and 0.4.0 parts of the backend were significantly rewritten, preventing us from performing the following hacks. (Likely has to do with them fusing Variable and Tensor).  That may change once their new API stabilizes.\n",
    "\n",
    "The nice thing about how this is working is that it should be general enough to work for compute, tree, and federated modes of Grid, depending on how the `receive` function works under the hood."
   ]
  },
  {
   "cell_type": "code",
   "execution_count": 1,
   "metadata": {},
   "outputs": [
    {
     "name": "stdout",
     "output_type": "stream",
     "text": [
      "0.3.0.post4\n"
     ]
    }
   ],
   "source": [
    "import torch\n",
    "import inspect\n",
    "from torch.autograd import Variable\n",
    "import random\n",
    "import re\n",
    "from functools import wraps, partial, partialmethod\n",
    "from types import *\n",
    "import imp\n",
    "# from contextlib import contextmanager\n",
    "\n",
    "print(torch.__version__)"
   ]
  },
  {
   "cell_type": "code",
   "execution_count": 2,
   "metadata": {
    "scrolled": true
   },
   "outputs": [
    {
     "name": "stderr",
     "output_type": "stream",
     "text": [
      "/Users/morgangiraud/.virtualenvs/openmined/lib/python3.6/site-packages/h5py-2.7.1-py3.6-macosx-10.13-x86_64.egg/h5py/__init__.py:36: FutureWarning: Conversion of the second argument of issubdtype from `float` to `np.floating` is deprecated. In future, it will be treated as `np.float64 == np.dtype(float).type`.\n",
      "  from ._conv import register_converters as _register_converters\n",
      "Using TensorFlow backend.\n"
     ]
    },
    {
     "name": "stdout",
     "output_type": "stream",
     "text": [
      "\n",
      "\u001b[34mUPDATE: \u001b[0mConnecting to IPFS... this can take a few seconds...\n",
      "\n",
      "\u001b[32mSUCCESS: \u001b[0mConnected!!! - My ID: QmXhfzHqbtMNTzYHGC31Fdd3tTuMzwbGYgn671GAxeoRer\n",
      "\n",
      "\u001b[34mUPDATE: \u001b[0mQuerying known workers...\n",
      "\tWORKER: /p2p-circuit/ipfs/QmXkWUybbTnfvFH8SUcrug6RGTLYTB23gSockKLxueR1vQ...\u001b[32mSUCCESS!!!\u001b[0m\n",
      "\tWORKER: /p2p-circuit/ipfs/Qme8SQLibzaAPQSS4GRFQCqAXqVPVknZeDLPqeePYYka8d...\u001b[31mFAIL!!!\u001b[0m\n",
      "\tWORKER: /p2p-circuit/ipfs/Qmaosc64H6Y29VFCFYJzJXCX9AuRp7RCsekLmajHNVEARD...\u001b[31mFAIL!!!\u001b[0m\n",
      "\tWORKER: /p2p-circuit/ipfs/QmQabt3SWuDvjse9z7GAcH2BGQv4wH8bumkd4x5oXN2obX...\u001b[32mSUCCESS!!!\u001b[0m\n",
      "\n",
      "\u001b[34mUPDATE: \u001b[0mSearching for IPFS nodes - 14 found overall - 1 are OpenMined workers          \n",
      "\n",
      "\u001b[32mSUCCESS: \u001b[0mFound 1 OpenMined nodes!!!\n",
      "\n"
     ]
    }
   ],
   "source": [
    "from grid.clients.torch import TorchClient\n",
    "client = TorchClient(verbose = False)"
   ]
  },
  {
   "cell_type": "code",
   "execution_count": 3,
   "metadata": {},
   "outputs": [],
   "source": [
    "service_self = client.services['torch_service']"
   ]
  },
  {
   "cell_type": "code",
   "execution_count": 4,
   "metadata": {},
   "outputs": [],
   "source": [
    "tensor_types = [torch.FloatTensor,\n",
    "                torch.DoubleTensor,\n",
    "                torch.HalfTensor,\n",
    "                torch.ByteTensor,\n",
    "                torch.CharTensor,\n",
    "                torch.ShortTensor,\n",
    "                torch.IntTensor,\n",
    "                torch.LongTensor]"
   ]
  },
  {
   "cell_type": "code",
   "execution_count": 5,
   "metadata": {},
   "outputs": [],
   "source": [
    "def assign_workers_function(worker_ids):\n",
    "    def decorate(func):\n",
    "        @wraps(func)\n",
    "        def send_to_workers(*args, **kwargs):\n",
    "            part = func(*args, **kwargs)\n",
    "            command = compile_command(part)\n",
    "            for worker in worker_ids:\n",
    "                print(\"Placeholder print for sending command to worker {}\".format(worker))\n",
    "                args, kwargs = send_command(command)\n",
    "            receive_commands(worker_ids)  ## Probably needs to happen async\n",
    "            return args, kwargs\n",
    "        return send_to_workers\n",
    "    return decorate"
   ]
  },
  {
   "cell_type": "code",
   "execution_count": 6,
   "metadata": {},
   "outputs": [],
   "source": [
    "def assign_workers_method(worker_ids):\n",
    "    def decorate(method):\n",
    "        @wraps(method)\n",
    "        def send_to_workers(self, *args, **kwargs):\n",
    "            part = method(self, *args, **kwargs)\n",
    "            if self.is_pointer_to_remote:\n",
    "                command = compile_command(part)\n",
    "                for worker in worker_ids:\n",
    "                    print(\"Placeholder print for sending command to worker {}\".format(worker))\n",
    "                    args, kwargs = send_command(command)\n",
    "                receive_commands(worker_ids)  ## Probably needs to happen async\n",
    "                return args, kwargs\n",
    "            else:\n",
    "                result = part.func(self, *args, **kwargs)\n",
    "                my_service = self.worker.services['torch_service']\n",
    "                if type(result) in tensor_types:\n",
    "                    my_service.register_object(result, False)\n",
    "                elif type(result) == torch.autograd.variable.Variable:\n",
    "                    import ipdb; ipdb.set_trace()\n",
    "                    my_service.register_object(result.data, False)\n",
    "                    if result.requires_grad is True and result.volatile is False:\n",
    "                        def var_hook(grad):\n",
    "                            import ipdb; ipdb.set_trace()\n",
    "                            print(\"hooking on:\", self.id)\n",
    "                            if not hasattr(grad, 'owner'):\n",
    "                                my_service.register_object(grad, False)\n",
    "                            return grad\n",
    "                        result.register_hook(var_hook)\n",
    "                return result\n",
    "        return send_to_workers\n",
    "    return decorate"
   ]
  },
  {
   "cell_type": "code",
   "execution_count": 7,
   "metadata": {},
   "outputs": [],
   "source": [
    "def pass_func_args(func):\n",
    "    @wraps(func)\n",
    "    def pass_args(*args, **kwargs):\n",
    "        return partial(func, *args, **kwargs)\n",
    "    return pass_args\n",
    "\n",
    "def pass_method_args(method):\n",
    "    @wraps(method)\n",
    "    def pass_args(*args, **kwargs):\n",
    "        return partialmethod(method, *args, **kwargs)\n",
    "    return pass_args"
   ]
  },
  {
   "cell_type": "code",
   "execution_count": 8,
   "metadata": {},
   "outputs": [],
   "source": [
    "def send_command(command):\n",
    "    print(command['command'])\n",
    "    print([type(arg) for arg in command['args']])\n",
    "    print([type(pair) for pair in command['kwargs']])\n",
    "    print('===========')\n",
    "    print()\n",
    "    return command['args'], command['kwargs']"
   ]
  },
  {
   "cell_type": "code",
   "execution_count": 9,
   "metadata": {},
   "outputs": [],
   "source": [
    "def receive_commands(worker_ids):\n",
    "    print('Placeholder print for receiving commands from workers in the following list')\n",
    "    print(worker_ids)"
   ]
  },
  {
   "cell_type": "code",
   "execution_count": 10,
   "metadata": {},
   "outputs": [],
   "source": [
    "def compile_command(partial_func):\n",
    "    func = partial_func.func\n",
    "    args = partial_func.args\n",
    "    kwargs = partial_func.keywords\n",
    "    command = {}\n",
    "    command['command'] = func.__name__\n",
    "    command['command_type'] = type(func)\n",
    "    command['args'] = args\n",
    "    command['kwargs'] = kwargs\n",
    "    command['arg_types'] = [type(x) for x in args]\n",
    "    command['kwarg_types'] = [type(kwargs[x]) for x in kwargs]\n",
    "    return command"
   ]
  },
  {
   "cell_type": "code",
   "execution_count": 11,
   "metadata": {},
   "outputs": [],
   "source": [
    "x = torch.FloatTensor([1,1])"
   ]
  },
  {
   "cell_type": "code",
   "execution_count": 12,
   "metadata": {},
   "outputs": [
    {
     "name": "stdout",
     "output_type": "stream",
     "text": [
      "CPU times: user 2.18 s, sys: 86.7 ms, total: 2.26 s\n",
      "Wall time: 2.29 s\n"
     ]
    }
   ],
   "source": [
    "%%time\n",
    "for x in range(100000):\n",
    "    y = torch.FloatTensor([[2,2],[2,2]])\n",
    "    z = torch.FloatTensor([[1,1],[1,1]])\n",
    "    res = y.add(z)\n",
    "    "
   ]
  },
  {
   "cell_type": "code",
   "execution_count": 13,
   "metadata": {
    "scrolled": true
   },
   "outputs": [
    {
     "name": "stdout",
     "output_type": "stream",
     "text": [
      "Attribute skipped: __class__, __delattr__, __dict__, __dir__, __doc__, __eq__, __format__, __ge__, __getattribute__, __gt__, __hash__, __init__, __init_subclass__, __le__, __lt__, __module__, __ne__, __new__, __reduce__, __reduce_ex__, __repr__, __setattr__, __sizeof__, __str__, __subclasshook__, __weakref__, _cdata, _new_with_metadata_file, _torch, data, de, get, is_cuda, is_sparse, ndimension, nelement, numel, old__repr__, process_command, send, ser, shape, size, storage_type\n",
      "\n",
      "Attribute overloaded: __add__, __and__, __array__, __array_wrap__, __bool__, __deepcopy__, __delitem__, __div__, __float__, __getitem__, __getstate__, __iadd__, __iand__, __idiv__, __ilshift__, __imul__, __int__, __invert__, __ior__, __ipow__, __irshift__, __isub__, __iter__, __itruediv__, __ixor__, __len__, __long__, __lshift__, __matmul__, __mod__, __mul__, __neg__, __nonzero__, __or__, __pow__, __radd__, __rdiv__, __rmul__, __rpow__, __rshift__, __rsub__, __rtruediv__, __setitem__, __setstate__, __sub__, __truediv__, __xor__, _advanced_index_add, _advanced_index_select, _check_advanced_indexing, _set_index, _sparse_mask, _write_metadata, abs, abs_, acos, acos_, add, add_, addbmm, addbmm_, addcdiv, addcdiv_, addcmul, addcmul_, addmm, addmm_, addmv, addmv_, addr, addr_, apply_, asin, asin_, atan, atan2, atan2_, atan_, baddbmm, baddbmm_, bernoulli, bernoulli_, bmm, btrifact, btrisolve, byte, cauchy_, ceil, ceil_, char, chunk, clamp, clamp_, clone, contiguous, copy_, cos, cos_, cosh, cosh_, cpu, cross, cuda, cumprod, cumsum, data_ptr, diag, dim, dist, div, div_, dot, double, eig, element_size, eq, eq_, equal, erf, erf_, erfinv, erfinv_, exp, exp_, expand, expand_as, exponential_, fill_, float, floor, floor_, fmod, fmod_, frac, frac_, gather, ge, ge_, gels, geometric_, geqrf, ger, gesv, gt, gt_, half, histc, index, index_add_, index_copy_, index_fill_, index_select, int, inverse, is_contiguous, is_pinned, is_same_size, is_set_to, is_shared, is_signed, kthvalue, le, le_, lerp, lerp_, lgamma, lgamma_, log, log1p, log1p_, log_, log_normal_, long, lt, lt_, map2_, map_, masked_copy_, masked_fill_, masked_scatter_, masked_select, matmul, max, mean, median, min, mm, mode, mul, mul_, multinomial, mv, narrow, ne, ne_, neg, neg_, new, nonzero, norm, normal_, numpy, orgqr, ormqr, permute, pin_memory, potrf, potri, potrs, pow, pow_, prod, pstrf, put_, qr, random_, reciprocal, reciprocal_, remainder, remainder_, renorm, renorm_, repeat, resize_, resize_as_, round, round_, rsqrt, rsqrt_, scatter_, scatter_add_, select, set_, share_memory_, short, sigmoid, sigmoid_, sign, sign_, sin, sin_, sinh, sinh_, sort, split, sqrt, sqrt_, squeeze, squeeze_, std, storage, storage_offset, stride, sub, sub_, sum, svd, symeig, t, t_, take, tan, tan_, tanh, tanh_, tolist, topk, trace, transpose, transpose_, tril, tril_, triu, triu_, trtrs, trunc, trunc_, type, type_as, unfold, uniform_, unsqueeze, unsqueeze_, var, view, view_as, zero_\n",
      "\n",
      "CPU times: user 14 ms, sys: 1.03 ms, total: 15 ms\n",
      "Wall time: 15.1 ms\n"
     ]
    }
   ],
   "source": [
    "%%time\n",
    "\n",
    "for attr in dir(torch):\n",
    "    if attr == 'typename':\n",
    "        continue\n",
    "    if type(torch.__getattribute__(attr)) in [FunctionType, BuiltinFunctionType]:\n",
    "        torch.__setattr__(attr, assign_workers_function(['A1','B1', 'B2'])(pass_func_args(torch.__getattribute__(attr))))\n",
    "\n",
    "exclude = ['ndimension', 'nelement', 'size','numel', 'ser', 'de']\n",
    "skipped = []\n",
    "overloaded = []\n",
    "for attr in dir(torch.FloatTensor):\n",
    "    lit = getattr(torch.FloatTensor, attr)\n",
    "    is_desc = inspect.ismethoddescriptor(lit)\n",
    "    is_func = type(lit)==FunctionType\n",
    "    is_mappingproxy = attr == '__dict__'\n",
    "    try:\n",
    "        is_service_func = 'TorchService' in lit.__qualname__\n",
    "    except:\n",
    "        is_service_func = False\n",
    "    is_base = attr in dir(object)\n",
    "    is_old = re.match('old*', attr) is not None\n",
    "    if attr in exclude:\n",
    "        skipped.append(attr)\n",
    "        continue\n",
    "    if (is_desc or (is_func and not is_service_func)) and not is_base and not is_old:\n",
    "        overloaded.append(attr)\n",
    "\n",
    "        setattr(torch.FloatTensor, 'old_{}'.format(attr), lit)\n",
    "        setattr(torch.FloatTensor, attr, assign_workers_method(['A1','B1', 'B2'])(pass_method_args(lit)))\n",
    "    else:\n",
    "        skipped.append(attr)\n",
    "\n",
    "print(\"Attribute skipped: %s\\n\" % \", \".join(skipped))\n",
    "print(\"Attribute overloaded: %s\\n\" % \", \".join(overloaded))"
   ]
  },
  {
   "cell_type": "code",
   "execution_count": 14,
   "metadata": {},
   "outputs": [
    {
     "name": "stdout",
     "output_type": "stream",
     "text": [
      "CPU times: user 2.94 s, sys: 113 ms, total: 3.06 s\n",
      "Wall time: 3.06 s\n"
     ]
    }
   ],
   "source": [
    "%%time\n",
    "for x in range(100000):\n",
    "    y = torch.FloatTensor([[2,2],[2,2]])\n",
    "    z = torch.FloatTensor([[1,1],[1,1]])\n",
    "    res = y.add(z)"
   ]
  },
  {
   "cell_type": "code",
   "execution_count": 15,
   "metadata": {},
   "outputs": [
    {
     "name": "stdout",
     "output_type": "stream",
     "text": [
      "False\n",
      "961403038\n"
     ]
    }
   ],
   "source": [
    "x = y.add(z)\n",
    "print(x.is_pointer_to_remote)\n",
    "print(x.id)"
   ]
  },
  {
   "cell_type": "code",
   "execution_count": 16,
   "metadata": {},
   "outputs": [
    {
     "data": {
      "text/plain": [
       "\n",
       " 3  3\n",
       " 3  3\n",
       "[torch.FloatTensor of size 2x2]"
      ]
     },
     "execution_count": 16,
     "metadata": {},
     "output_type": "execute_result"
    }
   ],
   "source": [
    "x"
   ]
  },
  {
   "cell_type": "code",
   "execution_count": 17,
   "metadata": {},
   "outputs": [
    {
     "data": {
      "text/plain": [
       "\n",
       " 0  0\n",
       " 0  0\n",
       "[torch.FloatTensor of size 2x2]"
      ]
     },
     "execution_count": 17,
     "metadata": {},
     "output_type": "execute_result"
    }
   ],
   "source": [
    "x.fill_(0)"
   ]
  },
  {
   "cell_type": "code",
   "execution_count": 18,
   "metadata": {},
   "outputs": [
    {
     "name": "stdout",
     "output_type": "stream",
     "text": [
      "\n",
      " 0  0\n",
      " 0  0\n",
      "[torch.FloatTensor of size 2x2]\n",
      "\n"
     ]
    }
   ],
   "source": [
    "print(x)"
   ]
  },
  {
   "cell_type": "code",
   "execution_count": 19,
   "metadata": {},
   "outputs": [],
   "source": [
    "x.is_pointer_to_remote = True\n",
    "x.owner = 'other_guy'"
   ]
  },
  {
   "cell_type": "code",
   "execution_count": 20,
   "metadata": {},
   "outputs": [
    {
     "name": "stdout",
     "output_type": "stream",
     "text": [
      "Placeholder print for sending command to worker A1\n",
      "normal_\n",
      "[<class 'torch.FloatTensor'>]\n",
      "[]\n",
      "===========\n",
      "\n",
      "Placeholder print for sending command to worker B1\n",
      "normal_\n",
      "[<class 'torch.FloatTensor'>]\n",
      "[]\n",
      "===========\n",
      "\n",
      "Placeholder print for sending command to worker B2\n",
      "normal_\n",
      "[<class 'torch.FloatTensor'>]\n",
      "[]\n",
      "===========\n",
      "\n",
      "Placeholder print for receiving commands from workers in the following list\n",
      "['A1', 'B1', 'B2']\n"
     ]
    },
    {
     "data": {
      "text/plain": [
       "(([ torch.FloatTensor - Location:other_guy ],), {})"
      ]
     },
     "execution_count": 20,
     "metadata": {},
     "output_type": "execute_result"
    }
   ],
   "source": [
    "x.normal_()"
   ]
  },
  {
   "cell_type": "code",
   "execution_count": 21,
   "metadata": {},
   "outputs": [
    {
     "name": "stdout",
     "output_type": "stream",
     "text": [
      "Placeholder print for sending command to worker A1\n",
      "uniform_\n",
      "[<class 'torch.FloatTensor'>]\n",
      "[]\n",
      "===========\n",
      "\n",
      "Placeholder print for sending command to worker B1\n",
      "uniform_\n",
      "[<class 'torch.FloatTensor'>]\n",
      "[]\n",
      "===========\n",
      "\n",
      "Placeholder print for sending command to worker B2\n",
      "uniform_\n",
      "[<class 'torch.FloatTensor'>]\n",
      "[]\n",
      "===========\n",
      "\n",
      "Placeholder print for receiving commands from workers in the following list\n",
      "['A1', 'B1', 'B2']\n"
     ]
    },
    {
     "data": {
      "text/plain": [
       "(([ torch.FloatTensor - Location:other_guy ],), {})"
      ]
     },
     "execution_count": 21,
     "metadata": {},
     "output_type": "execute_result"
    }
   ],
   "source": [
    "x.uniform_()"
   ]
  },
  {
   "cell_type": "code",
   "execution_count": 22,
   "metadata": {},
   "outputs": [
    {
     "name": "stdout",
     "output_type": "stream",
     "text": [
      "Placeholder print for sending command to worker A1\n",
      "add\n",
      "[<class 'torch.FloatTensor'>, <class 'torch.FloatTensor'>]\n",
      "[]\n",
      "===========\n",
      "\n",
      "Placeholder print for sending command to worker B1\n",
      "add\n",
      "[<class 'torch.FloatTensor'>, <class 'torch.FloatTensor'>]\n",
      "[]\n",
      "===========\n",
      "\n",
      "Placeholder print for sending command to worker B2\n",
      "add\n",
      "[<class 'torch.FloatTensor'>, <class 'torch.FloatTensor'>]\n",
      "[]\n",
      "===========\n",
      "\n",
      "Placeholder print for receiving commands from workers in the following list\n",
      "['A1', 'B1', 'B2']\n"
     ]
    },
    {
     "data": {
      "text/plain": [
       "(([ torch.FloatTensor - Location:other_guy ],\n",
       "  [ torch.FloatTensor - Location:other_guy ]),\n",
       " {})"
      ]
     },
     "execution_count": 22,
     "metadata": {},
     "output_type": "execute_result"
    }
   ],
   "source": [
    "torch.add(x, x)"
   ]
  },
  {
   "cell_type": "markdown",
   "metadata": {},
   "source": [
    "### Variable"
   ]
  },
  {
   "cell_type": "code",
   "execution_count": 23,
   "metadata": {},
   "outputs": [
    {
     "name": "stdout",
     "output_type": "stream",
     "text": [
      "Attribute skipped: __class__, __delattr__, __dict__, __dir__, __doc__, __eq__, __format__, __ge__, __getattribute__, __gt__, __hash__, __init__, __init_subclass__, __le__, __lt__, __module__, __ne__, __new__, __reduce__, __reduce_ex__, __repr__, __setattr__, __sizeof__, __str__, __subclasshook__, __weakref__, _backward_hooks, _execution_engine, _fallthrough_methods, _grad, _grad_fn, _torch, _version, cat, data, grad, grad_fn, is_leaf, numel, old___setattr__, ones_like, output_nr, requires_grad, volatile, zeros_like\n",
      "\n",
      "Attribute overloaded: __add__, __and__, __bool__, __deepcopy__, __div__, __float__, __getattr__, __getitem__, __iadd__, __iand__, __idiv__, __ilshift__, __imul__, __int__, __ior__, __ipow__, __irshift__, __isub__, __iter__, __ixor__, __len__, __long__, __lshift__, __matmul__, __mod__, __mul__, __neg__, __nonzero__, __or__, __pow__, __radd__, __rdiv__, __rmul__, __rpow__, __rshift__, __rsub__, __rtruediv__, __setitem__, __setstate__, __sub__, __truediv__, __xor__, _advanced_index_add, _get_type, _unnarrow, abs, abs_, acos, acos_, add, add_, addbmm, addbmm_, addcdiv, addcdiv_, addcmul, addcmul_, addmm, addmm_, addmv, addmv_, addr, addr_, all, any, asin, asin_, atan, atan2, atan2_, atan_, backward, baddbmm, baddbmm_, bernoulli, bmm, btrifact, btrisolve, byte, ceil, ceil_, char, chunk, clamp, clone, contiguous, cos, cos_, cosh, cosh_, cpu, cross, cuda, cumprod, cumsum, data_ptr, detach, detach_, diag, dist, div, div_, dot, double, eig, eq, eq_, equal, erf, erf_, erfinv, erfinv_, exp, exp_, expand, expand_as, fill_, float, floor, floor_, fmod, fmod_, frac, frac_, gather, ge, ge_, gels, geometric_, geqrf, ger, gesv, get_device, gt, gt_, half, histc, index_add, index_add_, index_copy, index_copy_, index_fill, index_fill_, index_select, int, inverse, is_contiguous, is_same_size, is_set_to, kthvalue, le, le_, lerp, lerp_, lgamma, lgamma_, log, log1p, log1p_, log_, log_normal_, long, lt, lt_, masked_copy, masked_copy_, masked_fill, masked_fill_, masked_scatter, masked_scatter_, masked_select, matmul, max, mean, median, min, mm, mode, mul, mul_, multinomial, mv, narrow, ne, ne_, neg, neg_, nonzero, norm, orgqr, ormqr, permute, potrf, potri, potrs, pow, pow_, prod, pstrf, put_, qr, reciprocal, reciprocal_, register_hook, reinforce, remainder, remainder_, renorm, repeat, resize, resize_as, retain_grad, round, round_, rsqrt, rsqrt_, scatter, scatter_, scatter_add, scatter_add_, select, set_, short, sigmoid, sigmoid_, sign, sign_, sin, sin_, sinh, sinh_, sort, split, sqrt, sqrt_, squeeze, squeeze_, std, storage_offset, sub, sub_, sum, svd, symeig, t, t_, take, tan, tan_, tanh, tanh_, topk, trace, transpose, transpose_, tril, tril_, triu, triu_, trtrs, trunc, trunc_, type, type_as, unfold, unsqueeze, unsqueeze_, var, view, view_as, zero_\n",
      "\n"
     ]
    }
   ],
   "source": [
    "def new___init__(self,tensor,owner=service_self, *args, **kwargs):\n",
    "    super(Variable, self).__init__(*args, **kwargs)\n",
    "    import ipdb; ipdb.set_trace()\n",
    "    if not hasattr(self.data, 'owner'):\n",
    "        owner.register_object(self.data,False)\n",
    "    if self.grad is not None and not hasattr(self.grad, 'owner'):\n",
    "        owner.register_object(self.grad,False)\n",
    "    owner.register_object(self,False)\n",
    "Variable.__init__ = new___init__\n",
    "\n",
    "def new___setattr__(self, *args, **kwargs):\n",
    "    print('mutation!', args)\n",
    "    if args[0] == 'grad':\n",
    "        import ipdb; ipdb.set_trace()\n",
    "    return self.old___setattr__(*args, **kwargs)\n",
    "Variable.old___setattr__ = Variable.__setattr__\n",
    "Variable.__setattr__ = new___setattr__\n",
    "\n",
    "exclude = ['ndimension', 'nelement', 'size','numel', 'ser', 'de']\n",
    "overloaded = []\n",
    "skipped = []\n",
    "for attr in dir(Variable):\n",
    "    lit = getattr(Variable, attr)\n",
    "    is_desc = inspect.ismethoddescriptor(lit)\n",
    "    is_func = type(lit)==FunctionType\n",
    "    is_mappingproxy = attr == '__dict__'\n",
    "    try:\n",
    "        is_service_func = 'TorchService' in lit.__qualname__\n",
    "    except:\n",
    "        is_service_func = False\n",
    "    is_base = attr in dir(object)\n",
    "    is_old = re.match('old*', attr) is not None\n",
    "    if attr in exclude:\n",
    "        skipped.append(attr)\n",
    "        continue\n",
    "    if (is_desc or (is_func and not is_service_func)) and not is_base and not is_old:\n",
    "        overloaded.append(attr)\n",
    "        setattr(Variable, 'old_{}'.format(attr), lit)\n",
    "        setattr(Variable, attr, assign_workers_method(['A1','B1', 'B2'])(pass_method_args(lit)))\n",
    "    else:\n",
    "        skipped.append(attr)\n",
    "\n",
    "print(\"Attribute skipped: %s\\n\" % \", \".join(skipped))\n",
    "print(\"Attribute overloaded: %s\\n\" % \", \".join(overloaded))"
   ]
  },
  {
   "cell_type": "code",
   "execution_count": 24,
   "metadata": {},
   "outputs": [
    {
     "name": "stdout",
     "output_type": "stream",
     "text": [
      "x.owner: QmXhfzHqbtMNTzYHGC31Fdd3tTuMzwbGYgn671GAxeoRer\n",
      "> \u001b[0;32m<ipython-input-23-21db014a1001>\u001b[0m(4)\u001b[0;36mnew___init__\u001b[0;34m()\u001b[0m\n",
      "\u001b[0;32m      3 \u001b[0;31m    \u001b[0;32mimport\u001b[0m \u001b[0mipdb\u001b[0m\u001b[0;34m;\u001b[0m \u001b[0mipdb\u001b[0m\u001b[0;34m.\u001b[0m\u001b[0mset_trace\u001b[0m\u001b[0;34m(\u001b[0m\u001b[0;34m)\u001b[0m\u001b[0;34m\u001b[0m\u001b[0m\n",
      "\u001b[0m\u001b[0;32m----> 4 \u001b[0;31m    \u001b[0;32mif\u001b[0m \u001b[0;32mnot\u001b[0m \u001b[0mhasattr\u001b[0m\u001b[0;34m(\u001b[0m\u001b[0mself\u001b[0m\u001b[0;34m.\u001b[0m\u001b[0mdata\u001b[0m\u001b[0;34m,\u001b[0m \u001b[0;34m'owner'\u001b[0m\u001b[0;34m)\u001b[0m\u001b[0;34m:\u001b[0m\u001b[0;34m\u001b[0m\u001b[0m\n",
      "\u001b[0m\u001b[0;32m      5 \u001b[0;31m        \u001b[0mowner\u001b[0m\u001b[0;34m.\u001b[0m\u001b[0mregister_object\u001b[0m\u001b[0;34m(\u001b[0m\u001b[0mself\u001b[0m\u001b[0;34m.\u001b[0m\u001b[0mdata\u001b[0m\u001b[0;34m,\u001b[0m\u001b[0;32mFalse\u001b[0m\u001b[0;34m)\u001b[0m\u001b[0;34m\u001b[0m\u001b[0m\n",
      "\u001b[0m\n",
      "ipdb> self\n",
      "Variable containing:\n",
      " 1\n",
      " 1\n",
      "[torch.FloatTensor of size 2]\n",
      "\n",
      "ipdb> self.data\n",
      "\n",
      " 1\n",
      " 1\n",
      "[torch.FloatTensor of size 2]\n",
      "\n",
      "ipdb> self.data.owner\n",
      "'QmXhfzHqbtMNTzYHGC31Fdd3tTuMzwbGYgn671GAxeoRer'\n",
      "ipdb> c\n",
      "mutation! ('id', 4827823782)\n",
      "mutation! ('owner', 'QmXhfzHqbtMNTzYHGC31Fdd3tTuMzwbGYgn671GAxeoRer')\n",
      "mutation! ('worker', <grid.clients.torch.TorchClient object at 0x10e644668>)\n",
      "mutation! ('is_pointer_to_remote', False)\n",
      "v.data.owner: QmXhfzHqbtMNTzYHGC31Fdd3tTuMzwbGYgn671GAxeoRer\n"
     ]
    }
   ],
   "source": [
    "x = torch.FloatTensor([1,1])\n",
    "print(\"x.owner: %s\" % x.owner)\n",
    "v = Variable(x, requires_grad=True)\n",
    "print(\"v.data.owner: %s\" % v.data.owner)"
   ]
  },
  {
   "cell_type": "code",
   "execution_count": 25,
   "metadata": {},
   "outputs": [
    {
     "data": {
      "text/plain": [
       "False"
      ]
     },
     "execution_count": 25,
     "metadata": {},
     "output_type": "execute_result"
    }
   ],
   "source": [
    "v.is_pointer_to_remote"
   ]
  },
  {
   "cell_type": "code",
   "execution_count": 26,
   "metadata": {},
   "outputs": [
    {
     "data": {
      "text/plain": [
       "torch.autograd.variable.Variable"
      ]
     },
     "execution_count": 26,
     "metadata": {},
     "output_type": "execute_result"
    }
   ],
   "source": [
    "type(v)"
   ]
  },
  {
   "cell_type": "code",
   "execution_count": 31,
   "metadata": {},
   "outputs": [
    {
     "name": "stdout",
     "output_type": "stream",
     "text": [
      "> \u001b[0;32m<ipython-input-6-1450201fc71f>\u001b[0m(20)\u001b[0;36msend_to_workers\u001b[0;34m()\u001b[0m\n",
      "\u001b[0;32m     19 \u001b[0;31m                    \u001b[0;32mimport\u001b[0m \u001b[0mipdb\u001b[0m\u001b[0;34m;\u001b[0m \u001b[0mipdb\u001b[0m\u001b[0;34m.\u001b[0m\u001b[0mset_trace\u001b[0m\u001b[0;34m(\u001b[0m\u001b[0;34m)\u001b[0m\u001b[0;34m\u001b[0m\u001b[0m\n",
      "\u001b[0m\u001b[0;32m---> 20 \u001b[0;31m                    \u001b[0mmy_service\u001b[0m\u001b[0;34m.\u001b[0m\u001b[0mregister_object\u001b[0m\u001b[0;34m(\u001b[0m\u001b[0mresult\u001b[0m\u001b[0;34m.\u001b[0m\u001b[0mdata\u001b[0m\u001b[0;34m,\u001b[0m \u001b[0;32mFalse\u001b[0m\u001b[0;34m)\u001b[0m\u001b[0;34m\u001b[0m\u001b[0m\n",
      "\u001b[0m\u001b[0;32m     21 \u001b[0;31m                    \u001b[0;32mif\u001b[0m \u001b[0mresult\u001b[0m\u001b[0;34m.\u001b[0m\u001b[0mrequires_grad\u001b[0m \u001b[0;32mis\u001b[0m \u001b[0;32mTrue\u001b[0m \u001b[0;32mand\u001b[0m \u001b[0mresult\u001b[0m\u001b[0;34m.\u001b[0m\u001b[0mvolatile\u001b[0m \u001b[0;32mis\u001b[0m \u001b[0;32mFalse\u001b[0m\u001b[0;34m:\u001b[0m\u001b[0;34m\u001b[0m\u001b[0m\n",
      "\u001b[0m\n",
      "ipdb> c\n"
     ]
    },
    {
     "ename": "RecursionError",
     "evalue": "maximum recursion depth exceeded",
     "output_type": "error",
     "traceback": [
      "\u001b[0;31m---------------------------------------------------------------------------\u001b[0m",
      "\u001b[0;31mRecursionError\u001b[0m                            Traceback (most recent call last)",
      "\u001b[0;32m<ipython-input-31-005696bf4e70>\u001b[0m in \u001b[0;36m<module>\u001b[0;34m()\u001b[0m\n\u001b[0;32m----> 1\u001b[0;31m \u001b[0mz\u001b[0m \u001b[0;34m=\u001b[0m \u001b[0mv\u001b[0m \u001b[0;34m*\u001b[0m \u001b[0;36m2\u001b[0m\u001b[0;34m\u001b[0m\u001b[0m\n\u001b[0m\u001b[1;32m      2\u001b[0m print(\n\u001b[1;32m      3\u001b[0m     \u001b[0mz\u001b[0m\u001b[0;34m.\u001b[0m\u001b[0mis_pointer_to_remote\u001b[0m\u001b[0;34m,\u001b[0m\u001b[0;34m\u001b[0m\u001b[0m\n\u001b[1;32m      4\u001b[0m     \u001b[0mz\u001b[0m\u001b[0;34m.\u001b[0m\u001b[0mdata\u001b[0m\u001b[0;34m.\u001b[0m\u001b[0mis_pointer_to_remote\u001b[0m\u001b[0;34m,\u001b[0m\u001b[0;34m\u001b[0m\u001b[0m\n\u001b[1;32m      5\u001b[0m     \u001b[0mz\u001b[0m\u001b[0;34m.\u001b[0m\u001b[0mdata\u001b[0m\u001b[0;34m.\u001b[0m\u001b[0mowner\u001b[0m\u001b[0;34m\u001b[0m\u001b[0m\n",
      "\u001b[0;32m<ipython-input-6-1450201fc71f>\u001b[0m in \u001b[0;36msend_to_workers\u001b[0;34m(self, *args, **kwargs)\u001b[0m\n\u001b[1;32m     18\u001b[0m                 \u001b[0;32melif\u001b[0m \u001b[0mtype\u001b[0m\u001b[0;34m(\u001b[0m\u001b[0mresult\u001b[0m\u001b[0;34m)\u001b[0m \u001b[0;34m==\u001b[0m \u001b[0mtorch\u001b[0m\u001b[0;34m.\u001b[0m\u001b[0mautograd\u001b[0m\u001b[0;34m.\u001b[0m\u001b[0mvariable\u001b[0m\u001b[0;34m.\u001b[0m\u001b[0mVariable\u001b[0m\u001b[0;34m:\u001b[0m\u001b[0;34m\u001b[0m\u001b[0m\n\u001b[1;32m     19\u001b[0m                     \u001b[0;32mimport\u001b[0m \u001b[0mipdb\u001b[0m\u001b[0;34m;\u001b[0m \u001b[0mipdb\u001b[0m\u001b[0;34m.\u001b[0m\u001b[0mset_trace\u001b[0m\u001b[0;34m(\u001b[0m\u001b[0;34m)\u001b[0m\u001b[0;34m\u001b[0m\u001b[0m\n\u001b[0;32m---> 20\u001b[0;31m                     \u001b[0mmy_service\u001b[0m\u001b[0;34m.\u001b[0m\u001b[0mregister_object\u001b[0m\u001b[0;34m(\u001b[0m\u001b[0mresult\u001b[0m\u001b[0;34m.\u001b[0m\u001b[0mdata\u001b[0m\u001b[0;34m,\u001b[0m \u001b[0;32mFalse\u001b[0m\u001b[0;34m)\u001b[0m\u001b[0;34m\u001b[0m\u001b[0m\n\u001b[0m\u001b[1;32m     21\u001b[0m                     \u001b[0;32mif\u001b[0m \u001b[0mresult\u001b[0m\u001b[0;34m.\u001b[0m\u001b[0mrequires_grad\u001b[0m \u001b[0;32mis\u001b[0m \u001b[0;32mTrue\u001b[0m \u001b[0;32mand\u001b[0m \u001b[0mresult\u001b[0m\u001b[0;34m.\u001b[0m\u001b[0mvolatile\u001b[0m \u001b[0;32mis\u001b[0m \u001b[0;32mFalse\u001b[0m\u001b[0;34m:\u001b[0m\u001b[0;34m\u001b[0m\u001b[0m\n\u001b[1;32m     22\u001b[0m                         \u001b[0;32mdef\u001b[0m \u001b[0mvar_hook\u001b[0m\u001b[0;34m(\u001b[0m\u001b[0mgrad\u001b[0m\u001b[0;34m)\u001b[0m\u001b[0;34m:\u001b[0m\u001b[0;34m\u001b[0m\u001b[0m\n",
      "\u001b[0;32m<ipython-input-6-1450201fc71f>\u001b[0m in \u001b[0;36msend_to_workers\u001b[0;34m(self, *args, **kwargs)\u001b[0m\n\u001b[1;32m      4\u001b[0m         \u001b[0;32mdef\u001b[0m \u001b[0msend_to_workers\u001b[0m\u001b[0;34m(\u001b[0m\u001b[0mself\u001b[0m\u001b[0;34m,\u001b[0m \u001b[0;34m*\u001b[0m\u001b[0margs\u001b[0m\u001b[0;34m,\u001b[0m \u001b[0;34m**\u001b[0m\u001b[0mkwargs\u001b[0m\u001b[0;34m)\u001b[0m\u001b[0;34m:\u001b[0m\u001b[0;34m\u001b[0m\u001b[0m\n\u001b[1;32m      5\u001b[0m             \u001b[0mpart\u001b[0m \u001b[0;34m=\u001b[0m \u001b[0mmethod\u001b[0m\u001b[0;34m(\u001b[0m\u001b[0mself\u001b[0m\u001b[0;34m,\u001b[0m \u001b[0;34m*\u001b[0m\u001b[0margs\u001b[0m\u001b[0;34m,\u001b[0m \u001b[0;34m**\u001b[0m\u001b[0mkwargs\u001b[0m\u001b[0;34m)\u001b[0m\u001b[0;34m\u001b[0m\u001b[0m\n\u001b[0;32m----> 6\u001b[0;31m             \u001b[0;32mif\u001b[0m \u001b[0mself\u001b[0m\u001b[0;34m.\u001b[0m\u001b[0mis_pointer_to_remote\u001b[0m\u001b[0;34m:\u001b[0m\u001b[0;34m\u001b[0m\u001b[0m\n\u001b[0m\u001b[1;32m      7\u001b[0m                 \u001b[0mcommand\u001b[0m \u001b[0;34m=\u001b[0m \u001b[0mcompile_command\u001b[0m\u001b[0;34m(\u001b[0m\u001b[0mpart\u001b[0m\u001b[0;34m)\u001b[0m\u001b[0;34m\u001b[0m\u001b[0m\n\u001b[1;32m      8\u001b[0m                 \u001b[0;32mfor\u001b[0m \u001b[0mworker\u001b[0m \u001b[0;32min\u001b[0m \u001b[0mworker_ids\u001b[0m\u001b[0;34m:\u001b[0m\u001b[0;34m\u001b[0m\u001b[0m\n",
      "... last 1 frames repeated, from the frame below ...\n",
      "\u001b[0;32m<ipython-input-6-1450201fc71f>\u001b[0m in \u001b[0;36msend_to_workers\u001b[0;34m(self, *args, **kwargs)\u001b[0m\n\u001b[1;32m      4\u001b[0m         \u001b[0;32mdef\u001b[0m \u001b[0msend_to_workers\u001b[0m\u001b[0;34m(\u001b[0m\u001b[0mself\u001b[0m\u001b[0;34m,\u001b[0m \u001b[0;34m*\u001b[0m\u001b[0margs\u001b[0m\u001b[0;34m,\u001b[0m \u001b[0;34m**\u001b[0m\u001b[0mkwargs\u001b[0m\u001b[0;34m)\u001b[0m\u001b[0;34m:\u001b[0m\u001b[0;34m\u001b[0m\u001b[0m\n\u001b[1;32m      5\u001b[0m             \u001b[0mpart\u001b[0m \u001b[0;34m=\u001b[0m \u001b[0mmethod\u001b[0m\u001b[0;34m(\u001b[0m\u001b[0mself\u001b[0m\u001b[0;34m,\u001b[0m \u001b[0;34m*\u001b[0m\u001b[0margs\u001b[0m\u001b[0;34m,\u001b[0m \u001b[0;34m**\u001b[0m\u001b[0mkwargs\u001b[0m\u001b[0;34m)\u001b[0m\u001b[0;34m\u001b[0m\u001b[0m\n\u001b[0;32m----> 6\u001b[0;31m             \u001b[0;32mif\u001b[0m \u001b[0mself\u001b[0m\u001b[0;34m.\u001b[0m\u001b[0mis_pointer_to_remote\u001b[0m\u001b[0;34m:\u001b[0m\u001b[0;34m\u001b[0m\u001b[0m\n\u001b[0m\u001b[1;32m      7\u001b[0m                 \u001b[0mcommand\u001b[0m \u001b[0;34m=\u001b[0m \u001b[0mcompile_command\u001b[0m\u001b[0;34m(\u001b[0m\u001b[0mpart\u001b[0m\u001b[0;34m)\u001b[0m\u001b[0;34m\u001b[0m\u001b[0m\n\u001b[1;32m      8\u001b[0m                 \u001b[0;32mfor\u001b[0m \u001b[0mworker\u001b[0m \u001b[0;32min\u001b[0m \u001b[0mworker_ids\u001b[0m\u001b[0;34m:\u001b[0m\u001b[0;34m\u001b[0m\u001b[0m\n",
      "\u001b[0;31mRecursionError\u001b[0m: maximum recursion depth exceeded"
     ]
    }
   ],
   "source": [
    "z = v * 2\n",
    "print(\n",
    "    z.is_pointer_to_remote, \n",
    "    z.data.is_pointer_to_remote, \n",
    "    z.data.owner\n",
    ")"
   ]
  },
  {
   "cell_type": "code",
   "execution_count": null,
   "metadata": {},
   "outputs": [],
   "source": [
    "v.volatile"
   ]
  },
  {
   "cell_type": "code",
   "execution_count": null,
   "metadata": {},
   "outputs": [],
   "source": [
    "z"
   ]
  },
  {
   "cell_type": "code",
   "execution_count": 29,
   "metadata": {},
   "outputs": [
    {
     "ename": "AttributeError",
     "evalue": "'torch.FloatTensor' object has no attribute 'backward'",
     "output_type": "error",
     "traceback": [
      "\u001b[0;31m---------------------------------------------------------------------------\u001b[0m",
      "\u001b[0;31mAttributeError\u001b[0m                            Traceback (most recent call last)",
      "\u001b[0;32m<ipython-input-29-40c0c9b0bbab>\u001b[0m in \u001b[0;36m<module>\u001b[0;34m()\u001b[0m\n\u001b[0;32m----> 1\u001b[0;31m \u001b[0mz\u001b[0m\u001b[0;34m.\u001b[0m\u001b[0mbackward\u001b[0m\u001b[0;34m(\u001b[0m\u001b[0;34m)\u001b[0m\u001b[0;34m\u001b[0m\u001b[0m\n\u001b[0m",
      "\u001b[0;31mAttributeError\u001b[0m: 'torch.FloatTensor' object has no attribute 'backward'"
     ]
    }
   ],
   "source": [
    "z.backward()"
   ]
  },
  {
   "cell_type": "code",
   "execution_count": null,
   "metadata": {},
   "outputs": [
    {
     "name": "stdout",
     "output_type": "stream",
     "text": [
      "> \u001b[0;32m/Users/morgangiraud/Sites/openmined/Grid/grid/services/torch/torch_service.py\u001b[0m(228)\u001b[0;36m__repr__\u001b[0;34m()\u001b[0m\n",
      "\u001b[0;32m    227 \u001b[0;31m                \u001b[0;32mimport\u001b[0m \u001b[0mipdb\u001b[0m\u001b[0;34m;\u001b[0m \u001b[0mipdb\u001b[0m\u001b[0;34m.\u001b[0m\u001b[0mset_trace\u001b[0m\u001b[0;34m(\u001b[0m\u001b[0;34m)\u001b[0m\u001b[0;34m\u001b[0m\u001b[0m\n",
      "\u001b[0m\u001b[0;32m--> 228 \u001b[0;31m            \u001b[0;32mif\u001b[0m\u001b[0;34m(\u001b[0m\u001b[0mservice_self\u001b[0m\u001b[0;34m.\u001b[0m\u001b[0mworker\u001b[0m\u001b[0;34m.\u001b[0m\u001b[0mid\u001b[0m \u001b[0;34m==\u001b[0m \u001b[0mself\u001b[0m\u001b[0;34m.\u001b[0m\u001b[0mowner\u001b[0m\u001b[0;34m)\u001b[0m\u001b[0;34m:\u001b[0m\u001b[0;34m\u001b[0m\u001b[0m\n",
      "\u001b[0m\u001b[0;32m    229 \u001b[0;31m                \u001b[0;32mreturn\u001b[0m \u001b[0mself\u001b[0m\u001b[0;34m.\u001b[0m\u001b[0mold__repr__\u001b[0m\u001b[0;34m(\u001b[0m\u001b[0;34m)\u001b[0m\u001b[0;34m\u001b[0m\u001b[0m\n",
      "\u001b[0m\n",
      "ipdb> self\n",
      "*** AttributeError: 'torch.FloatTensor' object has no attribute 'owner'\n",
      "ipdb> self.owner\n",
      "*** AttributeError: 'torch.FloatTensor' object has no attribute 'owner'\n",
      "ipdb> type(self)\n",
      "<class 'torch.FloatTensor'>\n",
      "ipdb> w\n",
      "  \u001b[0;32m/usr/local/Cellar/python/3.6.4_3/Frameworks/Python.framework/Versions/3.6/lib/python3.6/runpy.py\u001b[0m(193)\u001b[0;36m_run_module_as_main\u001b[0;34m()\u001b[0m\n",
      "\u001b[1;32m    192 \u001b[0m    return _run_code(code, main_globals, None,\n",
      "\u001b[0;32m--> 193 \u001b[0;31m                     \"__main__\", mod_spec)\n",
      "\u001b[0m\u001b[1;32m    194 \u001b[0m\u001b[0;34m\u001b[0m\u001b[0m\n",
      "\n",
      "  \u001b[0;32m/usr/local/Cellar/python/3.6.4_3/Frameworks/Python.framework/Versions/3.6/lib/python3.6/runpy.py\u001b[0m(85)\u001b[0;36m_run_code\u001b[0;34m()\u001b[0m\n",
      "\u001b[1;32m     84 \u001b[0m                       __spec__ = mod_spec)\n",
      "\u001b[0;32m---> 85 \u001b[0;31m    \u001b[0mexec\u001b[0m\u001b[0;34m(\u001b[0m\u001b[0mcode\u001b[0m\u001b[0;34m,\u001b[0m \u001b[0mrun_globals\u001b[0m\u001b[0;34m)\u001b[0m\u001b[0;34m\u001b[0m\u001b[0m\n",
      "\u001b[0m\u001b[1;32m     86 \u001b[0m    \u001b[0;32mreturn\u001b[0m \u001b[0mrun_globals\u001b[0m\u001b[0;34m\u001b[0m\u001b[0m\n",
      "\n",
      "  \u001b[0;32m/Users/morgangiraud/.virtualenvs/openmined/lib/python3.6/site-packages/ipykernel-4.8.2-py3.6.egg/ipykernel_launcher.py\u001b[0m(16)\u001b[0;36m<module>\u001b[0;34m()\u001b[0m\n",
      "\u001b[1;32m     14 \u001b[0m\u001b[0;34m\u001b[0m\u001b[0m\n",
      "\u001b[1;32m     15 \u001b[0m    \u001b[0;32mfrom\u001b[0m \u001b[0mipykernel\u001b[0m \u001b[0;32mimport\u001b[0m \u001b[0mkernelapp\u001b[0m \u001b[0;32mas\u001b[0m \u001b[0mapp\u001b[0m\u001b[0;34m\u001b[0m\u001b[0m\n",
      "\u001b[0;32m---> 16 \u001b[0;31m    \u001b[0mapp\u001b[0m\u001b[0;34m.\u001b[0m\u001b[0mlaunch_new_instance\u001b[0m\u001b[0;34m(\u001b[0m\u001b[0;34m)\u001b[0m\u001b[0;34m\u001b[0m\u001b[0m\n",
      "\u001b[0m\n",
      "  \u001b[0;32m/Users/morgangiraud/.virtualenvs/openmined/lib/python3.6/site-packages/traitlets-4.3.2-py3.6.egg/traitlets/config/application.py\u001b[0m(658)\u001b[0;36mlaunch_instance\u001b[0;34m()\u001b[0m\n",
      "\u001b[1;32m    657 \u001b[0m        \u001b[0mapp\u001b[0m\u001b[0;34m.\u001b[0m\u001b[0minitialize\u001b[0m\u001b[0;34m(\u001b[0m\u001b[0margv\u001b[0m\u001b[0;34m)\u001b[0m\u001b[0;34m\u001b[0m\u001b[0m\n",
      "\u001b[0;32m--> 658 \u001b[0;31m        \u001b[0mapp\u001b[0m\u001b[0;34m.\u001b[0m\u001b[0mstart\u001b[0m\u001b[0;34m(\u001b[0m\u001b[0;34m)\u001b[0m\u001b[0;34m\u001b[0m\u001b[0m\n",
      "\u001b[0m\u001b[1;32m    659 \u001b[0m\u001b[0;34m\u001b[0m\u001b[0m\n",
      "\n",
      "  \u001b[0;32m/Users/morgangiraud/.virtualenvs/openmined/lib/python3.6/site-packages/ipykernel-4.8.2-py3.6.egg/ipykernel/kernelapp.py\u001b[0m(486)\u001b[0;36mstart\u001b[0;34m()\u001b[0m\n",
      "\u001b[1;32m    485 \u001b[0m        \u001b[0;32mtry\u001b[0m\u001b[0;34m:\u001b[0m\u001b[0;34m\u001b[0m\u001b[0m\n",
      "\u001b[0;32m--> 486 \u001b[0;31m            \u001b[0mself\u001b[0m\u001b[0;34m.\u001b[0m\u001b[0mio_loop\u001b[0m\u001b[0;34m.\u001b[0m\u001b[0mstart\u001b[0m\u001b[0;34m(\u001b[0m\u001b[0;34m)\u001b[0m\u001b[0;34m\u001b[0m\u001b[0m\n",
      "\u001b[0m\u001b[1;32m    487 \u001b[0m        \u001b[0;32mexcept\u001b[0m \u001b[0mKeyboardInterrupt\u001b[0m\u001b[0;34m:\u001b[0m\u001b[0;34m\u001b[0m\u001b[0m\n",
      "\n",
      "  \u001b[0;32m/Users/morgangiraud/.virtualenvs/openmined/lib/python3.6/site-packages/tornado-5.0-py3.6-macosx-10.13-x86_64.egg/tornado/platform/asyncio.py\u001b[0m(112)\u001b[0;36mstart\u001b[0;34m()\u001b[0m\n",
      "\u001b[1;32m    111 \u001b[0m            \u001b[0masyncio\u001b[0m\u001b[0;34m.\u001b[0m\u001b[0mset_event_loop\u001b[0m\u001b[0;34m(\u001b[0m\u001b[0mself\u001b[0m\u001b[0;34m.\u001b[0m\u001b[0masyncio_loop\u001b[0m\u001b[0;34m)\u001b[0m\u001b[0;34m\u001b[0m\u001b[0m\n",
      "\u001b[0;32m--> 112 \u001b[0;31m            \u001b[0mself\u001b[0m\u001b[0;34m.\u001b[0m\u001b[0masyncio_loop\u001b[0m\u001b[0;34m.\u001b[0m\u001b[0mrun_forever\u001b[0m\u001b[0;34m(\u001b[0m\u001b[0;34m)\u001b[0m\u001b[0;34m\u001b[0m\u001b[0m\n",
      "\u001b[0m\u001b[1;32m    113 \u001b[0m        \u001b[0;32mfinally\u001b[0m\u001b[0;34m:\u001b[0m\u001b[0;34m\u001b[0m\u001b[0m\n",
      "\n",
      "  \u001b[0;32m/usr/local/Cellar/python/3.6.4_3/Frameworks/Python.framework/Versions/3.6/lib/python3.6/asyncio/base_events.py\u001b[0m(421)\u001b[0;36mrun_forever\u001b[0;34m()\u001b[0m\n",
      "\u001b[1;32m    420 \u001b[0m            \u001b[0;32mwhile\u001b[0m \u001b[0;32mTrue\u001b[0m\u001b[0;34m:\u001b[0m\u001b[0;34m\u001b[0m\u001b[0m\n",
      "\u001b[0;32m--> 421 \u001b[0;31m                \u001b[0mself\u001b[0m\u001b[0;34m.\u001b[0m\u001b[0m_run_once\u001b[0m\u001b[0;34m(\u001b[0m\u001b[0;34m)\u001b[0m\u001b[0;34m\u001b[0m\u001b[0m\n",
      "\u001b[0m\u001b[1;32m    422 \u001b[0m                \u001b[0;32mif\u001b[0m \u001b[0mself\u001b[0m\u001b[0;34m.\u001b[0m\u001b[0m_stopping\u001b[0m\u001b[0;34m:\u001b[0m\u001b[0;34m\u001b[0m\u001b[0m\n",
      "\n",
      "  \u001b[0;32m/usr/local/Cellar/python/3.6.4_3/Frameworks/Python.framework/Versions/3.6/lib/python3.6/asyncio/base_events.py\u001b[0m(1431)\u001b[0;36m_run_once\u001b[0;34m()\u001b[0m\n",
      "\u001b[1;32m   1430 \u001b[0m            \u001b[0;32melse\u001b[0m\u001b[0;34m:\u001b[0m\u001b[0;34m\u001b[0m\u001b[0m\n",
      "\u001b[0;32m-> 1431 \u001b[0;31m                \u001b[0mhandle\u001b[0m\u001b[0;34m.\u001b[0m\u001b[0m_run\u001b[0m\u001b[0;34m(\u001b[0m\u001b[0;34m)\u001b[0m\u001b[0;34m\u001b[0m\u001b[0m\n",
      "\u001b[0m\u001b[1;32m   1432 \u001b[0m        \u001b[0mhandle\u001b[0m \u001b[0;34m=\u001b[0m \u001b[0;32mNone\u001b[0m  \u001b[0;31m# Needed to break cycles when an exception occurs.\u001b[0m\u001b[0;34m\u001b[0m\u001b[0m\n",
      "\n",
      "  \u001b[0;32m/usr/local/Cellar/python/3.6.4_3/Frameworks/Python.framework/Versions/3.6/lib/python3.6/asyncio/events.py\u001b[0m(145)\u001b[0;36m_run\u001b[0;34m()\u001b[0m\n",
      "\u001b[1;32m    144 \u001b[0m        \u001b[0;32mtry\u001b[0m\u001b[0;34m:\u001b[0m\u001b[0;34m\u001b[0m\u001b[0m\n",
      "\u001b[0;32m--> 145 \u001b[0;31m            \u001b[0mself\u001b[0m\u001b[0;34m.\u001b[0m\u001b[0m_callback\u001b[0m\u001b[0;34m(\u001b[0m\u001b[0;34m*\u001b[0m\u001b[0mself\u001b[0m\u001b[0;34m.\u001b[0m\u001b[0m_args\u001b[0m\u001b[0;34m)\u001b[0m\u001b[0;34m\u001b[0m\u001b[0m\n",
      "\u001b[0m\u001b[1;32m    146 \u001b[0m        \u001b[0;32mexcept\u001b[0m \u001b[0mException\u001b[0m \u001b[0;32mas\u001b[0m \u001b[0mexc\u001b[0m\u001b[0;34m:\u001b[0m\u001b[0;34m\u001b[0m\u001b[0m\n",
      "\n",
      "  \u001b[0;32m/Users/morgangiraud/.virtualenvs/openmined/lib/python3.6/site-packages/tornado-5.0-py3.6-macosx-10.13-x86_64.egg/tornado/ioloop.py\u001b[0m(760)\u001b[0;36m_run_callback\u001b[0;34m()\u001b[0m\n",
      "\u001b[1;32m    759 \u001b[0m        \u001b[0;32mtry\u001b[0m\u001b[0;34m:\u001b[0m\u001b[0;34m\u001b[0m\u001b[0m\n",
      "\u001b[0;32m--> 760 \u001b[0;31m            \u001b[0mret\u001b[0m \u001b[0;34m=\u001b[0m \u001b[0mcallback\u001b[0m\u001b[0;34m(\u001b[0m\u001b[0;34m)\u001b[0m\u001b[0;34m\u001b[0m\u001b[0m\n",
      "\u001b[0m\u001b[1;32m    761 \u001b[0m            \u001b[0;32mif\u001b[0m \u001b[0mret\u001b[0m \u001b[0;32mis\u001b[0m \u001b[0;32mnot\u001b[0m \u001b[0;32mNone\u001b[0m\u001b[0;34m:\u001b[0m\u001b[0;34m\u001b[0m\u001b[0m\n",
      "\n",
      "  \u001b[0;32m/Users/morgangiraud/.virtualenvs/openmined/lib/python3.6/site-packages/tornado-5.0-py3.6-macosx-10.13-x86_64.egg/tornado/stack_context.py\u001b[0m(276)\u001b[0;36mnull_wrapper\u001b[0;34m()\u001b[0m\n",
      "\u001b[1;32m    275 \u001b[0m                \u001b[0m_state\u001b[0m\u001b[0;34m.\u001b[0m\u001b[0mcontexts\u001b[0m \u001b[0;34m=\u001b[0m \u001b[0mcap_contexts\u001b[0m\u001b[0;34m[\u001b[0m\u001b[0;36m0\u001b[0m\u001b[0;34m]\u001b[0m\u001b[0;34m\u001b[0m\u001b[0m\n",
      "\u001b[0;32m--> 276 \u001b[0;31m                \u001b[0;32mreturn\u001b[0m \u001b[0mfn\u001b[0m\u001b[0;34m(\u001b[0m\u001b[0;34m*\u001b[0m\u001b[0margs\u001b[0m\u001b[0;34m,\u001b[0m \u001b[0;34m**\u001b[0m\u001b[0mkwargs\u001b[0m\u001b[0;34m)\u001b[0m\u001b[0;34m\u001b[0m\u001b[0m\n",
      "\u001b[0m\u001b[1;32m    277 \u001b[0m            \u001b[0;32mfinally\u001b[0m\u001b[0;34m:\u001b[0m\u001b[0;34m\u001b[0m\u001b[0m\n",
      "\n",
      "  \u001b[0;32m/Users/morgangiraud/.virtualenvs/openmined/lib/python3.6/site-packages/pyzmq-17.0.0-py3.6-macosx-10.13-x86_64.egg/zmq/eventloop/zmqstream.py\u001b[0m(536)\u001b[0;36m<lambda>\u001b[0;34m()\u001b[0m\n",
      "\u001b[1;32m    535 \u001b[0m            \u001b[0;31m# explicitly schedule handling to avoid missing events due to edge-triggered FDs\u001b[0m\u001b[0;34m\u001b[0m\u001b[0;34m\u001b[0m\u001b[0m\n",
      "\u001b[0;32m--> 536 \u001b[0;31m            \u001b[0mself\u001b[0m\u001b[0;34m.\u001b[0m\u001b[0mio_loop\u001b[0m\u001b[0;34m.\u001b[0m\u001b[0madd_callback\u001b[0m\u001b[0;34m(\u001b[0m\u001b[0;32mlambda\u001b[0m \u001b[0;34m:\u001b[0m \u001b[0mself\u001b[0m\u001b[0;34m.\u001b[0m\u001b[0m_handle_events\u001b[0m\u001b[0;34m(\u001b[0m\u001b[0mself\u001b[0m\u001b[0;34m.\u001b[0m\u001b[0msocket\u001b[0m\u001b[0;34m,\u001b[0m \u001b[0;36m0\u001b[0m\u001b[0;34m)\u001b[0m\u001b[0;34m)\u001b[0m\u001b[0;34m\u001b[0m\u001b[0m\n",
      "\u001b[0m\u001b[1;32m    537 \u001b[0m\u001b[0;34m\u001b[0m\u001b[0m\n",
      "\n",
      "  \u001b[0;32m/Users/morgangiraud/.virtualenvs/openmined/lib/python3.6/site-packages/pyzmq-17.0.0-py3.6-macosx-10.13-x86_64.egg/zmq/eventloop/zmqstream.py\u001b[0m(450)\u001b[0;36m_handle_events\u001b[0;34m()\u001b[0m\n",
      "\u001b[1;32m    449 \u001b[0m            \u001b[0;32mif\u001b[0m \u001b[0mzmq_events\u001b[0m \u001b[0;34m&\u001b[0m \u001b[0mzmq\u001b[0m\u001b[0;34m.\u001b[0m\u001b[0mPOLLIN\u001b[0m \u001b[0;32mand\u001b[0m \u001b[0mself\u001b[0m\u001b[0;34m.\u001b[0m\u001b[0mreceiving\u001b[0m\u001b[0;34m(\u001b[0m\u001b[0;34m)\u001b[0m\u001b[0;34m:\u001b[0m\u001b[0;34m\u001b[0m\u001b[0m\n",
      "\u001b[0;32m--> 450 \u001b[0;31m                \u001b[0mself\u001b[0m\u001b[0;34m.\u001b[0m\u001b[0m_handle_recv\u001b[0m\u001b[0;34m(\u001b[0m\u001b[0;34m)\u001b[0m\u001b[0;34m\u001b[0m\u001b[0m\n",
      "\u001b[0m\u001b[1;32m    451 \u001b[0m                \u001b[0;32mif\u001b[0m \u001b[0;32mnot\u001b[0m \u001b[0mself\u001b[0m\u001b[0;34m.\u001b[0m\u001b[0msocket\u001b[0m\u001b[0;34m:\u001b[0m\u001b[0;34m\u001b[0m\u001b[0m\n",
      "\n",
      "  \u001b[0;32m/Users/morgangiraud/.virtualenvs/openmined/lib/python3.6/site-packages/pyzmq-17.0.0-py3.6-macosx-10.13-x86_64.egg/zmq/eventloop/zmqstream.py\u001b[0m(480)\u001b[0;36m_handle_recv\u001b[0;34m()\u001b[0m\n",
      "\u001b[1;32m    479 \u001b[0m                \u001b[0mcallback\u001b[0m \u001b[0;34m=\u001b[0m \u001b[0mself\u001b[0m\u001b[0;34m.\u001b[0m\u001b[0m_recv_callback\u001b[0m\u001b[0;34m\u001b[0m\u001b[0m\n",
      "\u001b[0;32m--> 480 \u001b[0;31m                \u001b[0mself\u001b[0m\u001b[0;34m.\u001b[0m\u001b[0m_run_callback\u001b[0m\u001b[0;34m(\u001b[0m\u001b[0mcallback\u001b[0m\u001b[0;34m,\u001b[0m \u001b[0mmsg\u001b[0m\u001b[0;34m)\u001b[0m\u001b[0;34m\u001b[0m\u001b[0m\n",
      "\u001b[0m\u001b[1;32m    481 \u001b[0m\u001b[0;34m\u001b[0m\u001b[0m\n",
      "\n",
      "  \u001b[0;32m/Users/morgangiraud/.virtualenvs/openmined/lib/python3.6/site-packages/pyzmq-17.0.0-py3.6-macosx-10.13-x86_64.egg/zmq/eventloop/zmqstream.py\u001b[0m(432)\u001b[0;36m_run_callback\u001b[0;34m()\u001b[0m\n",
      "\u001b[1;32m    431 \u001b[0m            \u001b[0;32mwith\u001b[0m \u001b[0mstack_context\u001b[0m\u001b[0;34m.\u001b[0m\u001b[0mNullContext\u001b[0m\u001b[0;34m(\u001b[0m\u001b[0;34m)\u001b[0m\u001b[0;34m:\u001b[0m\u001b[0;34m\u001b[0m\u001b[0m\n",
      "\u001b[0;32m--> 432 \u001b[0;31m                \u001b[0mcallback\u001b[0m\u001b[0;34m(\u001b[0m\u001b[0;34m*\u001b[0m\u001b[0margs\u001b[0m\u001b[0;34m,\u001b[0m \u001b[0;34m**\u001b[0m\u001b[0mkwargs\u001b[0m\u001b[0;34m)\u001b[0m\u001b[0;34m\u001b[0m\u001b[0m\n",
      "\u001b[0m\u001b[1;32m    433 \u001b[0m        \u001b[0;32mexcept\u001b[0m\u001b[0;34m:\u001b[0m\u001b[0;34m\u001b[0m\u001b[0m\n",
      "\n",
      "  \u001b[0;32m/Users/morgangiraud/.virtualenvs/openmined/lib/python3.6/site-packages/tornado-5.0-py3.6-macosx-10.13-x86_64.egg/tornado/stack_context.py\u001b[0m(276)\u001b[0;36mnull_wrapper\u001b[0;34m()\u001b[0m\n",
      "\u001b[1;32m    275 \u001b[0m                \u001b[0m_state\u001b[0m\u001b[0;34m.\u001b[0m\u001b[0mcontexts\u001b[0m \u001b[0;34m=\u001b[0m \u001b[0mcap_contexts\u001b[0m\u001b[0;34m[\u001b[0m\u001b[0;36m0\u001b[0m\u001b[0;34m]\u001b[0m\u001b[0;34m\u001b[0m\u001b[0m\n",
      "\u001b[0;32m--> 276 \u001b[0;31m                \u001b[0;32mreturn\u001b[0m \u001b[0mfn\u001b[0m\u001b[0;34m(\u001b[0m\u001b[0;34m*\u001b[0m\u001b[0margs\u001b[0m\u001b[0;34m,\u001b[0m \u001b[0;34m**\u001b[0m\u001b[0mkwargs\u001b[0m\u001b[0;34m)\u001b[0m\u001b[0;34m\u001b[0m\u001b[0m\n",
      "\u001b[0m\u001b[1;32m    277 \u001b[0m            \u001b[0;32mfinally\u001b[0m\u001b[0;34m:\u001b[0m\u001b[0;34m\u001b[0m\u001b[0m\n",
      "\n",
      "  \u001b[0;32m/Users/morgangiraud/.virtualenvs/openmined/lib/python3.6/site-packages/ipykernel-4.8.2-py3.6.egg/ipykernel/kernelbase.py\u001b[0m(283)\u001b[0;36mdispatcher\u001b[0;34m()\u001b[0m\n",
      "\u001b[1;32m    282 \u001b[0m            \u001b[0;32mdef\u001b[0m \u001b[0mdispatcher\u001b[0m\u001b[0;34m(\u001b[0m\u001b[0mmsg\u001b[0m\u001b[0;34m)\u001b[0m\u001b[0;34m:\u001b[0m\u001b[0;34m\u001b[0m\u001b[0m\n",
      "\u001b[0;32m--> 283 \u001b[0;31m                \u001b[0;32mreturn\u001b[0m \u001b[0mself\u001b[0m\u001b[0;34m.\u001b[0m\u001b[0mdispatch_shell\u001b[0m\u001b[0;34m(\u001b[0m\u001b[0mstream\u001b[0m\u001b[0;34m,\u001b[0m \u001b[0mmsg\u001b[0m\u001b[0;34m)\u001b[0m\u001b[0;34m\u001b[0m\u001b[0m\n",
      "\u001b[0m\u001b[1;32m    284 \u001b[0m            \u001b[0;32mreturn\u001b[0m \u001b[0mdispatcher\u001b[0m\u001b[0;34m\u001b[0m\u001b[0m\n",
      "\n",
      "  \u001b[0;32m/Users/morgangiraud/.virtualenvs/openmined/lib/python3.6/site-packages/ipykernel-4.8.2-py3.6.egg/ipykernel/kernelbase.py\u001b[0m(233)\u001b[0;36mdispatch_shell\u001b[0;34m()\u001b[0m\n",
      "\u001b[1;32m    232 \u001b[0m            \u001b[0;32mtry\u001b[0m\u001b[0;34m:\u001b[0m\u001b[0;34m\u001b[0m\u001b[0m\n",
      "\u001b[0;32m--> 233 \u001b[0;31m                \u001b[0mhandler\u001b[0m\u001b[0;34m(\u001b[0m\u001b[0mstream\u001b[0m\u001b[0;34m,\u001b[0m \u001b[0midents\u001b[0m\u001b[0;34m,\u001b[0m \u001b[0mmsg\u001b[0m\u001b[0;34m)\u001b[0m\u001b[0;34m\u001b[0m\u001b[0m\n",
      "\u001b[0m\u001b[1;32m    234 \u001b[0m            \u001b[0;32mexcept\u001b[0m \u001b[0mException\u001b[0m\u001b[0;34m:\u001b[0m\u001b[0;34m\u001b[0m\u001b[0m\n",
      "\n",
      "  \u001b[0;32m/Users/morgangiraud/.virtualenvs/openmined/lib/python3.6/site-packages/ipykernel-4.8.2-py3.6.egg/ipykernel/kernelbase.py\u001b[0m(399)\u001b[0;36mexecute_request\u001b[0;34m()\u001b[0m\n",
      "\u001b[1;32m    398 \u001b[0m        reply_content = self.do_execute(code, silent, store_history,\n",
      "\u001b[0;32m--> 399 \u001b[0;31m                                        user_expressions, allow_stdin)\n",
      "\u001b[0m\u001b[1;32m    400 \u001b[0m\u001b[0;34m\u001b[0m\u001b[0m\n",
      "\n",
      "  \u001b[0;32m/Users/morgangiraud/.virtualenvs/openmined/lib/python3.6/site-packages/ipykernel-4.8.2-py3.6.egg/ipykernel/ipkernel.py\u001b[0m(208)\u001b[0;36mdo_execute\u001b[0;34m()\u001b[0m\n",
      "\u001b[1;32m    207 \u001b[0m        \u001b[0;32mtry\u001b[0m\u001b[0;34m:\u001b[0m\u001b[0;34m\u001b[0m\u001b[0m\n",
      "\u001b[0;32m--> 208 \u001b[0;31m            \u001b[0mres\u001b[0m \u001b[0;34m=\u001b[0m \u001b[0mshell\u001b[0m\u001b[0;34m.\u001b[0m\u001b[0mrun_cell\u001b[0m\u001b[0;34m(\u001b[0m\u001b[0mcode\u001b[0m\u001b[0;34m,\u001b[0m \u001b[0mstore_history\u001b[0m\u001b[0;34m=\u001b[0m\u001b[0mstore_history\u001b[0m\u001b[0;34m,\u001b[0m \u001b[0msilent\u001b[0m\u001b[0;34m=\u001b[0m\u001b[0msilent\u001b[0m\u001b[0;34m)\u001b[0m\u001b[0;34m\u001b[0m\u001b[0m\n",
      "\u001b[0m\u001b[1;32m    209 \u001b[0m        \u001b[0;32mfinally\u001b[0m\u001b[0;34m:\u001b[0m\u001b[0;34m\u001b[0m\u001b[0m\n",
      "\n",
      "  \u001b[0;32m/Users/morgangiraud/.virtualenvs/openmined/lib/python3.6/site-packages/ipykernel-4.8.2-py3.6.egg/ipykernel/zmqshell.py\u001b[0m(537)\u001b[0;36mrun_cell\u001b[0;34m()\u001b[0m\n",
      "\u001b[1;32m    536 \u001b[0m        \u001b[0mself\u001b[0m\u001b[0;34m.\u001b[0m\u001b[0m_last_traceback\u001b[0m \u001b[0;34m=\u001b[0m \u001b[0;32mNone\u001b[0m\u001b[0;34m\u001b[0m\u001b[0m\n",
      "\u001b[0;32m--> 537 \u001b[0;31m        \u001b[0;32mreturn\u001b[0m \u001b[0msuper\u001b[0m\u001b[0;34m(\u001b[0m\u001b[0mZMQInteractiveShell\u001b[0m\u001b[0;34m,\u001b[0m \u001b[0mself\u001b[0m\u001b[0;34m)\u001b[0m\u001b[0;34m.\u001b[0m\u001b[0mrun_cell\u001b[0m\u001b[0;34m(\u001b[0m\u001b[0;34m*\u001b[0m\u001b[0margs\u001b[0m\u001b[0;34m,\u001b[0m \u001b[0;34m**\u001b[0m\u001b[0mkwargs\u001b[0m\u001b[0;34m)\u001b[0m\u001b[0;34m\u001b[0m\u001b[0m\n",
      "\u001b[0m\u001b[1;32m    538 \u001b[0m\u001b[0;34m\u001b[0m\u001b[0m\n",
      "\n",
      "  \u001b[0;32m/Users/morgangiraud/.virtualenvs/openmined/lib/python3.6/site-packages/ipython-6.2.1-py3.6.egg/IPython/core/interactiveshell.py\u001b[0m(2728)\u001b[0;36mrun_cell\u001b[0;34m()\u001b[0m\n",
      "\u001b[1;32m   2727 \u001b[0m                has_raised = self.run_ast_nodes(code_ast.body, cell_name,\n",
      "\u001b[0;32m-> 2728 \u001b[0;31m                   interactivity=interactivity, compiler=compiler, result=result)\n",
      "\u001b[0m\u001b[1;32m   2729 \u001b[0m\u001b[0;34m\u001b[0m\u001b[0m\n",
      "\n",
      "  \u001b[0;32m/Users/morgangiraud/.virtualenvs/openmined/lib/python3.6/site-packages/ipython-6.2.1-py3.6.egg/IPython/core/interactiveshell.py\u001b[0m(2856)\u001b[0;36mrun_ast_nodes\u001b[0;34m()\u001b[0m\n",
      "\u001b[1;32m   2855 \u001b[0m                \u001b[0mcode\u001b[0m \u001b[0;34m=\u001b[0m \u001b[0mcompiler\u001b[0m\u001b[0;34m(\u001b[0m\u001b[0mmod\u001b[0m\u001b[0;34m,\u001b[0m \u001b[0mcell_name\u001b[0m\u001b[0;34m,\u001b[0m \u001b[0;34m\"single\"\u001b[0m\u001b[0;34m)\u001b[0m\u001b[0;34m\u001b[0m\u001b[0m\n",
      "\u001b[0;32m-> 2856 \u001b[0;31m                \u001b[0;32mif\u001b[0m \u001b[0mself\u001b[0m\u001b[0;34m.\u001b[0m\u001b[0mrun_code\u001b[0m\u001b[0;34m(\u001b[0m\u001b[0mcode\u001b[0m\u001b[0;34m,\u001b[0m \u001b[0mresult\u001b[0m\u001b[0;34m)\u001b[0m\u001b[0;34m:\u001b[0m\u001b[0;34m\u001b[0m\u001b[0m\n",
      "\u001b[0m\u001b[1;32m   2857 \u001b[0m                    \u001b[0;32mreturn\u001b[0m \u001b[0;32mTrue\u001b[0m\u001b[0;34m\u001b[0m\u001b[0m\n",
      "\n",
      "  \u001b[0;32m/Users/morgangiraud/.virtualenvs/openmined/lib/python3.6/site-packages/ipython-6.2.1-py3.6.egg/IPython/core/interactiveshell.py\u001b[0m(2910)\u001b[0;36mrun_code\u001b[0;34m()\u001b[0m\n",
      "\u001b[1;32m   2909 \u001b[0m                \u001b[0;31m#rprint('Running code', repr(code_obj)) # dbg\u001b[0m\u001b[0;34m\u001b[0m\u001b[0;34m\u001b[0m\u001b[0m\n",
      "\u001b[0;32m-> 2910 \u001b[0;31m                \u001b[0mexec\u001b[0m\u001b[0;34m(\u001b[0m\u001b[0mcode_obj\u001b[0m\u001b[0;34m,\u001b[0m \u001b[0mself\u001b[0m\u001b[0;34m.\u001b[0m\u001b[0muser_global_ns\u001b[0m\u001b[0;34m,\u001b[0m \u001b[0mself\u001b[0m\u001b[0;34m.\u001b[0m\u001b[0muser_ns\u001b[0m\u001b[0;34m)\u001b[0m\u001b[0;34m\u001b[0m\u001b[0m\n",
      "\u001b[0m\u001b[1;32m   2911 \u001b[0m            \u001b[0;32mfinally\u001b[0m\u001b[0;34m:\u001b[0m\u001b[0;34m\u001b[0m\u001b[0m\n",
      "\n",
      "  \u001b[0;32m<ipython-input-30-121b281ea4c9>\u001b[0m(1)\u001b[0;36m<module>\u001b[0;34m()\u001b[0m\n",
      "\u001b[0;32m----> 1 \u001b[0;31m\u001b[0mprint\u001b[0m\u001b[0;34m(\u001b[0m\u001b[0mv\u001b[0m\u001b[0;34m.\u001b[0m\u001b[0mgrad\u001b[0m\u001b[0;34m)\u001b[0m\u001b[0;34m\u001b[0m\u001b[0m\n",
      "\u001b[0m\n",
      "  \u001b[0;32m/Users/morgangiraud/.virtualenvs/openmined/lib/python3.6/site-packages/torch-0.3.0.post4-py3.6-macosx-10.13-x86_64.egg/torch/autograd/variable.py\u001b[0m(119)\u001b[0;36m__repr__\u001b[0;34m()\u001b[0m\n",
      "\u001b[1;32m    118 \u001b[0m    \u001b[0;32mdef\u001b[0m \u001b[0m__repr__\u001b[0m\u001b[0;34m(\u001b[0m\u001b[0mself\u001b[0m\u001b[0;34m)\u001b[0m\u001b[0;34m:\u001b[0m\u001b[0;34m\u001b[0m\u001b[0m\n",
      "\u001b[0;32m--> 119 \u001b[0;31m        \u001b[0;32mreturn\u001b[0m \u001b[0;34m'Variable containing:'\u001b[0m \u001b[0;34m+\u001b[0m \u001b[0mself\u001b[0m\u001b[0;34m.\u001b[0m\u001b[0mdata\u001b[0m\u001b[0;34m.\u001b[0m\u001b[0m__repr__\u001b[0m\u001b[0;34m(\u001b[0m\u001b[0;34m)\u001b[0m\u001b[0;34m\u001b[0m\u001b[0m\n",
      "\u001b[0m\u001b[1;32m    120 \u001b[0m\u001b[0;34m\u001b[0m\u001b[0m\n",
      "\n",
      "> \u001b[0;32m/Users/morgangiraud/Sites/openmined/Grid/grid/services/torch/torch_service.py\u001b[0m(228)\u001b[0;36m__repr__\u001b[0;34m()\u001b[0m\n",
      "\u001b[0;32m    227 \u001b[0;31m                \u001b[0;32mimport\u001b[0m \u001b[0mipdb\u001b[0m\u001b[0;34m;\u001b[0m \u001b[0mipdb\u001b[0m\u001b[0;34m.\u001b[0m\u001b[0mset_trace\u001b[0m\u001b[0;34m(\u001b[0m\u001b[0;34m)\u001b[0m\u001b[0;34m\u001b[0m\u001b[0m\n",
      "\u001b[0m\u001b[0;32m--> 228 \u001b[0;31m            \u001b[0;32mif\u001b[0m\u001b[0;34m(\u001b[0m\u001b[0mservice_self\u001b[0m\u001b[0;34m.\u001b[0m\u001b[0mworker\u001b[0m\u001b[0;34m.\u001b[0m\u001b[0mid\u001b[0m \u001b[0;34m==\u001b[0m \u001b[0mself\u001b[0m\u001b[0;34m.\u001b[0m\u001b[0mowner\u001b[0m\u001b[0;34m)\u001b[0m\u001b[0;34m:\u001b[0m\u001b[0;34m\u001b[0m\u001b[0m\n",
      "\u001b[0m\u001b[0;32m    229 \u001b[0;31m                \u001b[0;32mreturn\u001b[0m \u001b[0mself\u001b[0m\u001b[0;34m.\u001b[0m\u001b[0mold__repr__\u001b[0m\u001b[0;34m(\u001b[0m\u001b[0;34m)\u001b[0m\u001b[0;34m\u001b[0m\u001b[0m\n",
      "\u001b[0m\n"
     ]
    }
   ],
   "source": [
    "print(v.grad)"
   ]
  },
  {
   "cell_type": "code",
   "execution_count": null,
   "metadata": {},
   "outputs": [],
   "source": []
  },
  {
   "cell_type": "code",
   "execution_count": null,
   "metadata": {},
   "outputs": [],
   "source": []
  }
 ],
 "metadata": {
  "kernelspec": {
   "display_name": "Python 3",
   "language": "python",
   "name": "python3"
  },
  "language_info": {
   "codemirror_mode": {
    "name": "ipython",
    "version": 3
   },
   "file_extension": ".py",
   "mimetype": "text/x-python",
   "name": "python",
   "nbconvert_exporter": "python",
   "pygments_lexer": "ipython3",
   "version": "3.6.4"
  }
 },
 "nbformat": 4,
 "nbformat_minor": 2
}
