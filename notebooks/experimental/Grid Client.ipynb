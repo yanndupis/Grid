{
 "cells": [
  {
   "cell_type": "markdown",
   "metadata": {},
   "source": [
    "# Instructions\n",
    "\n",
    "This notebook shows you basic commands for either running a worker that trains other peoples models (Section 1: Run Worker) or to train your own model on the grid using the client (Section 2: Run Client). Before running this notebook, you need to have:\n",
    "\n",
    "- installed IPFS (https://ipfs.io/docs/install/)\n",
    "- run the command `ipfs daemon --enable-pubsub-experiment`\n",
    "- run `python3 setup.py install` from the root directory of the OpenMined/Grid project (this project)\n",
    "\n",
    "Then you're ready to run this notebook!"
   ]
  },
  {
   "cell_type": "code",
   "execution_count": 1,
   "metadata": {},
   "outputs": [
    {
     "name": "stderr",
     "output_type": "stream",
     "text": [
      "Using TensorFlow backend.\n"
     ]
    },
    {
     "ename": "KeyboardInterrupt",
     "evalue": "",
     "output_type": "error",
     "traceback": [
      "\u001b[0;31m---------------------------------------------------------------------------\u001b[0m",
      "\u001b[0;31mKeyboardInterrupt\u001b[0m                         Traceback (most recent call last)",
      "\u001b[0;32m<ipython-input-1-94de24bb74ff>\u001b[0m in \u001b[0;36m<module>\u001b[0;34m()\u001b[0m\n\u001b[0;32m----> 1\u001b[0;31m \u001b[0;32mfrom\u001b[0m \u001b[0mgrid\u001b[0m \u001b[0;32mimport\u001b[0m \u001b[0mipfsapi\u001b[0m\u001b[0;34m\u001b[0m\u001b[0m\n\u001b[0m\u001b[1;32m      2\u001b[0m \u001b[0;32mimport\u001b[0m \u001b[0mbase64\u001b[0m\u001b[0;34m\u001b[0m\u001b[0m\n\u001b[1;32m      3\u001b[0m \u001b[0;32mimport\u001b[0m \u001b[0mrandom\u001b[0m\u001b[0;34m\u001b[0m\u001b[0m\n\u001b[1;32m      4\u001b[0m \u001b[0;32mimport\u001b[0m \u001b[0mtorch\u001b[0m\u001b[0;34m\u001b[0m\u001b[0m\n\u001b[1;32m      5\u001b[0m \u001b[0;32mimport\u001b[0m \u001b[0mkeras\u001b[0m\u001b[0;34m\u001b[0m\u001b[0m\n",
      "\u001b[0;32m/Users/atrask/anaconda/lib/python3.6/importlib/_bootstrap.py\u001b[0m in \u001b[0;36m_find_and_load\u001b[0;34m(name, import_)\u001b[0m\n",
      "\u001b[0;32m/Users/atrask/anaconda/lib/python3.6/importlib/_bootstrap.py\u001b[0m in \u001b[0;36m_find_and_load_unlocked\u001b[0;34m(name, import_)\u001b[0m\n",
      "\u001b[0;32m/Users/atrask/anaconda/lib/python3.6/importlib/_bootstrap.py\u001b[0m in \u001b[0;36m_load_unlocked\u001b[0;34m(spec)\u001b[0m\n",
      "\u001b[0;32m/Users/atrask/anaconda/lib/python3.6/importlib/_bootstrap.py\u001b[0m in \u001b[0;36m_load_backward_compatible\u001b[0;34m(spec)\u001b[0m\n",
      "\u001b[0;32m/Users/atrask/anaconda/lib/python3.6/site-packages/grid-0.1.0-py3.6.egg/grid/__init__.py\u001b[0m in \u001b[0;36m<module>\u001b[0;34m()\u001b[0m\n\u001b[1;32m      3\u001b[0m \u001b[0;32mfrom\u001b[0m \u001b[0mgrid\u001b[0m\u001b[0;34m.\u001b[0m\u001b[0mserver\u001b[0m\u001b[0;34m.\u001b[0m\u001b[0mgrid\u001b[0m \u001b[0;32mimport\u001b[0m \u001b[0mServer\u001b[0m \u001b[0;32mas\u001b[0m \u001b[0mGridWorker\u001b[0m\u001b[0;34m\u001b[0m\u001b[0m\n\u001b[1;32m      4\u001b[0m \u001b[0;32mfrom\u001b[0m \u001b[0mgrid\u001b[0m\u001b[0;34m.\u001b[0m\u001b[0mpubsub\u001b[0m \u001b[0;32mimport\u001b[0m \u001b[0;34m*\u001b[0m\u001b[0;34m\u001b[0m\u001b[0m\n\u001b[0;32m----> 5\u001b[0;31m \u001b[0;32mfrom\u001b[0m \u001b[0mgrid\u001b[0m\u001b[0;34m.\u001b[0m\u001b[0mlib\u001b[0m \u001b[0;32mimport\u001b[0m \u001b[0;34m*\u001b[0m\u001b[0;34m\u001b[0m\u001b[0m\n\u001b[0m",
      "\u001b[0;32m/Users/atrask/anaconda/lib/python3.6/importlib/_bootstrap.py\u001b[0m in \u001b[0;36m_find_and_load\u001b[0;34m(name, import_)\u001b[0m\n",
      "\u001b[0;32m/Users/atrask/anaconda/lib/python3.6/importlib/_bootstrap.py\u001b[0m in \u001b[0;36m_find_and_load_unlocked\u001b[0;34m(name, import_)\u001b[0m\n",
      "\u001b[0;32m/Users/atrask/anaconda/lib/python3.6/importlib/_bootstrap.py\u001b[0m in \u001b[0;36m_load_unlocked\u001b[0;34m(spec)\u001b[0m\n",
      "\u001b[0;32m/Users/atrask/anaconda/lib/python3.6/importlib/_bootstrap.py\u001b[0m in \u001b[0;36m_load_backward_compatible\u001b[0;34m(spec)\u001b[0m\n",
      "\u001b[0;32m/Users/atrask/anaconda/lib/python3.6/site-packages/grid-0.1.0-py3.6.egg/grid/lib/__init__.py\u001b[0m in \u001b[0;36m<module>\u001b[0;34m()\u001b[0m\n\u001b[0;32m----> 1\u001b[0;31m \u001b[0;32mfrom\u001b[0m \u001b[0mgrid\u001b[0m\u001b[0;34m.\u001b[0m\u001b[0mlib\u001b[0m\u001b[0;34m.\u001b[0m\u001b[0moutput_pipe\u001b[0m \u001b[0;32mimport\u001b[0m \u001b[0mOutputPipe\u001b[0m\u001b[0;34m\u001b[0m\u001b[0m\n\u001b[0m\u001b[1;32m      2\u001b[0m \u001b[0;32mfrom\u001b[0m \u001b[0mgrid\u001b[0m\u001b[0;34m.\u001b[0m\u001b[0mlib\u001b[0m\u001b[0;34m.\u001b[0m\u001b[0mutils\u001b[0m \u001b[0;32mimport\u001b[0m \u001b[0;34m*\u001b[0m\u001b[0;34m\u001b[0m\u001b[0m\n",
      "\u001b[0;32m/Users/atrask/anaconda/lib/python3.6/importlib/_bootstrap.py\u001b[0m in \u001b[0;36m_find_and_load\u001b[0;34m(name, import_)\u001b[0m\n",
      "\u001b[0;32m/Users/atrask/anaconda/lib/python3.6/importlib/_bootstrap.py\u001b[0m in \u001b[0;36m_find_and_load_unlocked\u001b[0;34m(name, import_)\u001b[0m\n",
      "\u001b[0;32m/Users/atrask/anaconda/lib/python3.6/importlib/_bootstrap.py\u001b[0m in \u001b[0;36m_load_unlocked\u001b[0;34m(spec)\u001b[0m\n",
      "\u001b[0;32m/Users/atrask/anaconda/lib/python3.6/importlib/_bootstrap.py\u001b[0m in \u001b[0;36m_load_backward_compatible\u001b[0;34m(spec)\u001b[0m\n",
      "\u001b[0;32m/Users/atrask/anaconda/lib/python3.6/site-packages/grid-0.1.0-py3.6.egg/grid/lib/output_pipe.py\u001b[0m in \u001b[0;36m<module>\u001b[0;34m()\u001b[0m\n\u001b[0;32m----> 1\u001b[0;31m \u001b[0;32mimport\u001b[0m \u001b[0mkeras\u001b[0m\u001b[0;34m\u001b[0m\u001b[0m\n\u001b[0m\u001b[1;32m      2\u001b[0m \u001b[0;32mfrom\u001b[0m \u001b[0;34m.\u001b[0m \u001b[0;32mimport\u001b[0m \u001b[0mutils\u001b[0m\u001b[0;34m\u001b[0m\u001b[0m\n\u001b[1;32m      3\u001b[0m \u001b[0;32mfrom\u001b[0m \u001b[0mtime\u001b[0m \u001b[0;32mimport\u001b[0m \u001b[0msleep\u001b[0m\u001b[0;34m\u001b[0m\u001b[0m\n\u001b[1;32m      4\u001b[0m \u001b[0;34m\u001b[0m\u001b[0m\n\u001b[1;32m      5\u001b[0m \u001b[0;34m\u001b[0m\u001b[0m\n",
      "\u001b[0;32m/Users/atrask/anaconda/lib/python3.6/site-packages/keras/__init__.py\u001b[0m in \u001b[0;36m<module>\u001b[0;34m()\u001b[0m\n\u001b[1;32m      2\u001b[0m \u001b[0;34m\u001b[0m\u001b[0m\n\u001b[1;32m      3\u001b[0m \u001b[0;32mfrom\u001b[0m \u001b[0;34m.\u001b[0m \u001b[0;32mimport\u001b[0m \u001b[0mutils\u001b[0m\u001b[0;34m\u001b[0m\u001b[0m\n\u001b[0;32m----> 4\u001b[0;31m \u001b[0;32mfrom\u001b[0m \u001b[0;34m.\u001b[0m \u001b[0;32mimport\u001b[0m \u001b[0mactivations\u001b[0m\u001b[0;34m\u001b[0m\u001b[0m\n\u001b[0m\u001b[1;32m      5\u001b[0m \u001b[0;32mfrom\u001b[0m \u001b[0;34m.\u001b[0m \u001b[0;32mimport\u001b[0m \u001b[0mapplications\u001b[0m\u001b[0;34m\u001b[0m\u001b[0m\n\u001b[1;32m      6\u001b[0m \u001b[0;32mfrom\u001b[0m \u001b[0;34m.\u001b[0m \u001b[0;32mimport\u001b[0m \u001b[0mbackend\u001b[0m\u001b[0;34m\u001b[0m\u001b[0m\n",
      "\u001b[0;32m/Users/atrask/anaconda/lib/python3.6/site-packages/keras/activations.py\u001b[0m in \u001b[0;36m<module>\u001b[0;34m()\u001b[0m\n\u001b[1;32m      4\u001b[0m \u001b[0;32mfrom\u001b[0m \u001b[0;34m.\u001b[0m \u001b[0;32mimport\u001b[0m \u001b[0mbackend\u001b[0m \u001b[0;32mas\u001b[0m \u001b[0mK\u001b[0m\u001b[0;34m\u001b[0m\u001b[0m\n\u001b[1;32m      5\u001b[0m \u001b[0;32mfrom\u001b[0m \u001b[0;34m.\u001b[0m\u001b[0mutils\u001b[0m\u001b[0;34m.\u001b[0m\u001b[0mgeneric_utils\u001b[0m \u001b[0;32mimport\u001b[0m \u001b[0mdeserialize_keras_object\u001b[0m\u001b[0;34m\u001b[0m\u001b[0m\n\u001b[0;32m----> 6\u001b[0;31m \u001b[0;32mfrom\u001b[0m \u001b[0;34m.\u001b[0m\u001b[0mengine\u001b[0m \u001b[0;32mimport\u001b[0m \u001b[0mLayer\u001b[0m\u001b[0;34m\u001b[0m\u001b[0m\n\u001b[0m\u001b[1;32m      7\u001b[0m \u001b[0;34m\u001b[0m\u001b[0m\n\u001b[1;32m      8\u001b[0m \u001b[0;34m\u001b[0m\u001b[0m\n",
      "\u001b[0;32m/Users/atrask/anaconda/lib/python3.6/site-packages/keras/engine/__init__.py\u001b[0m in \u001b[0;36m<module>\u001b[0;34m()\u001b[0m\n\u001b[1;32m      6\u001b[0m \u001b[0;32mfrom\u001b[0m \u001b[0;34m.\u001b[0m\u001b[0mtopology\u001b[0m \u001b[0;32mimport\u001b[0m \u001b[0mLayer\u001b[0m\u001b[0;34m\u001b[0m\u001b[0m\n\u001b[1;32m      7\u001b[0m \u001b[0;32mfrom\u001b[0m \u001b[0;34m.\u001b[0m\u001b[0mtopology\u001b[0m \u001b[0;32mimport\u001b[0m \u001b[0mget_source_inputs\u001b[0m\u001b[0;34m\u001b[0m\u001b[0m\n\u001b[0;32m----> 8\u001b[0;31m \u001b[0;32mfrom\u001b[0m \u001b[0;34m.\u001b[0m\u001b[0mtraining\u001b[0m \u001b[0;32mimport\u001b[0m \u001b[0mModel\u001b[0m\u001b[0;34m\u001b[0m\u001b[0m\n\u001b[0m",
      "\u001b[0;32m/Users/atrask/anaconda/lib/python3.6/site-packages/keras/engine/training.py\u001b[0m in \u001b[0;36m<module>\u001b[0;34m()\u001b[0m\n\u001b[1;32m     23\u001b[0m \u001b[0;32mfrom\u001b[0m \u001b[0;34m.\u001b[0m\u001b[0;34m.\u001b[0m \u001b[0;32mimport\u001b[0m \u001b[0mmetrics\u001b[0m \u001b[0;32mas\u001b[0m \u001b[0mmetrics_module\u001b[0m\u001b[0;34m\u001b[0m\u001b[0m\n\u001b[1;32m     24\u001b[0m \u001b[0;32mfrom\u001b[0m \u001b[0;34m.\u001b[0m\u001b[0;34m.\u001b[0m\u001b[0mutils\u001b[0m\u001b[0;34m.\u001b[0m\u001b[0mgeneric_utils\u001b[0m \u001b[0;32mimport\u001b[0m \u001b[0mProgbar\u001b[0m\u001b[0;34m\u001b[0m\u001b[0m\n\u001b[0;32m---> 25\u001b[0;31m \u001b[0;32mfrom\u001b[0m \u001b[0;34m.\u001b[0m\u001b[0;34m.\u001b[0m \u001b[0;32mimport\u001b[0m \u001b[0mcallbacks\u001b[0m \u001b[0;32mas\u001b[0m \u001b[0mcbks\u001b[0m\u001b[0;34m\u001b[0m\u001b[0m\n\u001b[0m\u001b[1;32m     26\u001b[0m \u001b[0;32mfrom\u001b[0m \u001b[0;34m.\u001b[0m\u001b[0;34m.\u001b[0m\u001b[0mlegacy\u001b[0m \u001b[0;32mimport\u001b[0m \u001b[0minterfaces\u001b[0m\u001b[0;34m\u001b[0m\u001b[0m\n\u001b[1;32m     27\u001b[0m \u001b[0;34m\u001b[0m\u001b[0m\n",
      "\u001b[0;32m/Users/atrask/anaconda/lib/python3.6/site-packages/keras/callbacks.py\u001b[0m in \u001b[0;36m<module>\u001b[0;34m()\u001b[0m\n\u001b[1;32m     24\u001b[0m \u001b[0;32mif\u001b[0m \u001b[0mK\u001b[0m\u001b[0;34m.\u001b[0m\u001b[0mbackend\u001b[0m\u001b[0;34m(\u001b[0m\u001b[0;34m)\u001b[0m \u001b[0;34m==\u001b[0m \u001b[0;34m'tensorflow'\u001b[0m\u001b[0;34m:\u001b[0m\u001b[0;34m\u001b[0m\u001b[0m\n\u001b[1;32m     25\u001b[0m     \u001b[0;32mimport\u001b[0m \u001b[0mtensorflow\u001b[0m \u001b[0;32mas\u001b[0m \u001b[0mtf\u001b[0m\u001b[0;34m\u001b[0m\u001b[0m\n\u001b[0;32m---> 26\u001b[0;31m     \u001b[0;32mfrom\u001b[0m \u001b[0mtensorflow\u001b[0m\u001b[0;34m.\u001b[0m\u001b[0mcontrib\u001b[0m\u001b[0;34m.\u001b[0m\u001b[0mtensorboard\u001b[0m\u001b[0;34m.\u001b[0m\u001b[0mplugins\u001b[0m \u001b[0;32mimport\u001b[0m \u001b[0mprojector\u001b[0m\u001b[0;34m\u001b[0m\u001b[0m\n\u001b[0m\u001b[1;32m     27\u001b[0m \u001b[0;34m\u001b[0m\u001b[0m\n\u001b[1;32m     28\u001b[0m \u001b[0;34m\u001b[0m\u001b[0m\n",
      "\u001b[0;32m/Users/atrask/anaconda/lib/python3.6/site-packages/tensorflow/contrib/__init__.py\u001b[0m in \u001b[0;36m<module>\u001b[0;34m()\u001b[0m\n\u001b[1;32m     20\u001b[0m \u001b[0;34m\u001b[0m\u001b[0m\n\u001b[1;32m     21\u001b[0m \u001b[0;31m# Add projects here, they will show up under tf.contrib.\u001b[0m\u001b[0;34m\u001b[0m\u001b[0;34m\u001b[0m\u001b[0m\n\u001b[0;32m---> 22\u001b[0;31m \u001b[0;32mfrom\u001b[0m \u001b[0mtensorflow\u001b[0m\u001b[0;34m.\u001b[0m\u001b[0mcontrib\u001b[0m \u001b[0;32mimport\u001b[0m \u001b[0mbayesflow\u001b[0m\u001b[0;34m\u001b[0m\u001b[0m\n\u001b[0m\u001b[1;32m     23\u001b[0m \u001b[0;32mfrom\u001b[0m \u001b[0mtensorflow\u001b[0m\u001b[0;34m.\u001b[0m\u001b[0mcontrib\u001b[0m \u001b[0;32mimport\u001b[0m \u001b[0mcloud\u001b[0m\u001b[0;34m\u001b[0m\u001b[0m\n\u001b[1;32m     24\u001b[0m \u001b[0;32mfrom\u001b[0m \u001b[0mtensorflow\u001b[0m\u001b[0;34m.\u001b[0m\u001b[0mcontrib\u001b[0m \u001b[0;32mimport\u001b[0m \u001b[0mcompiler\u001b[0m\u001b[0;34m\u001b[0m\u001b[0m\n",
      "\u001b[0;32m/Users/atrask/anaconda/lib/python3.6/site-packages/tensorflow/contrib/bayesflow/__init__.py\u001b[0m in \u001b[0;36m<module>\u001b[0;34m()\u001b[0m\n\u001b[1;32m     22\u001b[0m \u001b[0;34m\u001b[0m\u001b[0m\n\u001b[1;32m     23\u001b[0m \u001b[0;31m# pylint: disable=unused-import,line-too-long\u001b[0m\u001b[0;34m\u001b[0m\u001b[0;34m\u001b[0m\u001b[0m\n\u001b[0;32m---> 24\u001b[0;31m \u001b[0;32mfrom\u001b[0m \u001b[0mtensorflow\u001b[0m\u001b[0;34m.\u001b[0m\u001b[0mcontrib\u001b[0m\u001b[0;34m.\u001b[0m\u001b[0mbayesflow\u001b[0m\u001b[0;34m.\u001b[0m\u001b[0mpython\u001b[0m\u001b[0;34m.\u001b[0m\u001b[0mops\u001b[0m \u001b[0;32mimport\u001b[0m \u001b[0mcsiszar_divergence\u001b[0m\u001b[0;34m\u001b[0m\u001b[0m\n\u001b[0m\u001b[1;32m     25\u001b[0m \u001b[0;32mfrom\u001b[0m \u001b[0mtensorflow\u001b[0m\u001b[0;34m.\u001b[0m\u001b[0mcontrib\u001b[0m\u001b[0;34m.\u001b[0m\u001b[0mbayesflow\u001b[0m\u001b[0;34m.\u001b[0m\u001b[0mpython\u001b[0m\u001b[0;34m.\u001b[0m\u001b[0mops\u001b[0m \u001b[0;32mimport\u001b[0m \u001b[0mentropy\u001b[0m\u001b[0;34m\u001b[0m\u001b[0m\n\u001b[1;32m     26\u001b[0m \u001b[0;32mfrom\u001b[0m \u001b[0mtensorflow\u001b[0m\u001b[0;34m.\u001b[0m\u001b[0mcontrib\u001b[0m\u001b[0;34m.\u001b[0m\u001b[0mbayesflow\u001b[0m\u001b[0;34m.\u001b[0m\u001b[0mpython\u001b[0m\u001b[0;34m.\u001b[0m\u001b[0mops\u001b[0m \u001b[0;32mimport\u001b[0m \u001b[0mmonte_carlo\u001b[0m\u001b[0;34m\u001b[0m\u001b[0m\n",
      "\u001b[0;32m/Users/atrask/anaconda/lib/python3.6/site-packages/tensorflow/contrib/bayesflow/python/ops/csiszar_divergence.py\u001b[0m in \u001b[0;36m<module>\u001b[0;34m()\u001b[0m\n\u001b[1;32m     24\u001b[0m \u001b[0;31m# go/tf-wildcard-import\u001b[0m\u001b[0;34m\u001b[0m\u001b[0;34m\u001b[0m\u001b[0m\n\u001b[1;32m     25\u001b[0m \u001b[0;31m# pylint: disable=wildcard-import\u001b[0m\u001b[0;34m\u001b[0m\u001b[0;34m\u001b[0m\u001b[0m\n\u001b[0;32m---> 26\u001b[0;31m \u001b[0;32mfrom\u001b[0m \u001b[0mtensorflow\u001b[0m\u001b[0;34m.\u001b[0m\u001b[0mcontrib\u001b[0m\u001b[0;34m.\u001b[0m\u001b[0mbayesflow\u001b[0m\u001b[0;34m.\u001b[0m\u001b[0mpython\u001b[0m\u001b[0;34m.\u001b[0m\u001b[0mops\u001b[0m\u001b[0;34m.\u001b[0m\u001b[0mcsiszar_divergence_impl\u001b[0m \u001b[0;32mimport\u001b[0m \u001b[0;34m*\u001b[0m\u001b[0;34m\u001b[0m\u001b[0m\n\u001b[0m\u001b[1;32m     27\u001b[0m \u001b[0;31m# pylint: enable=wildcard-import\u001b[0m\u001b[0;34m\u001b[0m\u001b[0;34m\u001b[0m\u001b[0m\n\u001b[1;32m     28\u001b[0m \u001b[0;32mfrom\u001b[0m \u001b[0mtensorflow\u001b[0m\u001b[0;34m.\u001b[0m\u001b[0mpython\u001b[0m\u001b[0;34m.\u001b[0m\u001b[0mutil\u001b[0m\u001b[0;34m.\u001b[0m\u001b[0mall_util\u001b[0m \u001b[0;32mimport\u001b[0m \u001b[0mremove_undocumented\u001b[0m\u001b[0;34m\u001b[0m\u001b[0m\n",
      "\u001b[0;32m/Users/atrask/anaconda/lib/python3.6/site-packages/tensorflow/contrib/bayesflow/python/ops/csiszar_divergence_impl.py\u001b[0m in \u001b[0;36m<module>\u001b[0;34m()\u001b[0m\n\u001b[1;32m     40\u001b[0m \u001b[0;32mimport\u001b[0m \u001b[0mnumpy\u001b[0m \u001b[0;32mas\u001b[0m \u001b[0mnp\u001b[0m\u001b[0;34m\u001b[0m\u001b[0m\n\u001b[1;32m     41\u001b[0m \u001b[0;34m\u001b[0m\u001b[0m\n\u001b[0;32m---> 42\u001b[0;31m \u001b[0;32mfrom\u001b[0m \u001b[0mtensorflow\u001b[0m\u001b[0;34m.\u001b[0m\u001b[0mcontrib\u001b[0m \u001b[0;32mimport\u001b[0m \u001b[0mframework\u001b[0m \u001b[0;32mas\u001b[0m \u001b[0mcontrib_framework\u001b[0m\u001b[0;34m\u001b[0m\u001b[0m\n\u001b[0m\u001b[1;32m     43\u001b[0m \u001b[0;32mfrom\u001b[0m \u001b[0mtensorflow\u001b[0m\u001b[0;34m.\u001b[0m\u001b[0mcontrib\u001b[0m\u001b[0;34m.\u001b[0m\u001b[0mbayesflow\u001b[0m\u001b[0;34m.\u001b[0m\u001b[0mpython\u001b[0m\u001b[0;34m.\u001b[0m\u001b[0mops\u001b[0m \u001b[0;32mimport\u001b[0m \u001b[0mmonte_carlo_impl\u001b[0m \u001b[0;32mas\u001b[0m \u001b[0mmonte_carlo\u001b[0m\u001b[0;34m\u001b[0m\u001b[0m\n\u001b[1;32m     44\u001b[0m \u001b[0;32mfrom\u001b[0m \u001b[0mtensorflow\u001b[0m\u001b[0;34m.\u001b[0m\u001b[0mpython\u001b[0m\u001b[0;34m.\u001b[0m\u001b[0mframework\u001b[0m \u001b[0;32mimport\u001b[0m \u001b[0mops\u001b[0m\u001b[0;34m\u001b[0m\u001b[0m\n",
      "\u001b[0;32m/Users/atrask/anaconda/lib/python3.6/site-packages/tensorflow/contrib/framework/__init__.py\u001b[0m in \u001b[0;36m<module>\u001b[0;34m()\u001b[0m\n\u001b[1;32m     87\u001b[0m \u001b[0;31m# pylint: disable=unused-import,wildcard-import\u001b[0m\u001b[0;34m\u001b[0m\u001b[0;34m\u001b[0m\u001b[0m\n\u001b[1;32m     88\u001b[0m \u001b[0;32mfrom\u001b[0m \u001b[0mtensorflow\u001b[0m\u001b[0;34m.\u001b[0m\u001b[0mcontrib\u001b[0m\u001b[0;34m.\u001b[0m\u001b[0mframework\u001b[0m\u001b[0;34m.\u001b[0m\u001b[0mpython\u001b[0m\u001b[0;34m.\u001b[0m\u001b[0mframework\u001b[0m \u001b[0;32mimport\u001b[0m \u001b[0;34m*\u001b[0m\u001b[0;34m\u001b[0m\u001b[0m\n\u001b[0;32m---> 89\u001b[0;31m \u001b[0;32mfrom\u001b[0m \u001b[0mtensorflow\u001b[0m\u001b[0;34m.\u001b[0m\u001b[0mcontrib\u001b[0m\u001b[0;34m.\u001b[0m\u001b[0mframework\u001b[0m\u001b[0;34m.\u001b[0m\u001b[0mpython\u001b[0m\u001b[0;34m.\u001b[0m\u001b[0mops\u001b[0m \u001b[0;32mimport\u001b[0m \u001b[0;34m*\u001b[0m\u001b[0;34m\u001b[0m\u001b[0m\n\u001b[0m\u001b[1;32m     90\u001b[0m \u001b[0;31m# pylint: enable=unused-import,wildcard-import\u001b[0m\u001b[0;34m\u001b[0m\u001b[0;34m\u001b[0m\u001b[0m\n\u001b[1;32m     91\u001b[0m \u001b[0;34m\u001b[0m\u001b[0m\n",
      "\u001b[0;32m/Users/atrask/anaconda/lib/python3.6/site-packages/tensorflow/contrib/framework/python/ops/__init__.py\u001b[0m in \u001b[0;36m<module>\u001b[0;34m()\u001b[0m\n\u001b[1;32m     25\u001b[0m \u001b[0;32mfrom\u001b[0m \u001b[0mtensorflow\u001b[0m\u001b[0;34m.\u001b[0m\u001b[0mcontrib\u001b[0m\u001b[0;34m.\u001b[0m\u001b[0mframework\u001b[0m\u001b[0;34m.\u001b[0m\u001b[0mpython\u001b[0m\u001b[0;34m.\u001b[0m\u001b[0mops\u001b[0m\u001b[0;34m.\u001b[0m\u001b[0mops\u001b[0m \u001b[0;32mimport\u001b[0m \u001b[0;34m*\u001b[0m\u001b[0;34m\u001b[0m\u001b[0m\n\u001b[1;32m     26\u001b[0m \u001b[0;32mfrom\u001b[0m \u001b[0mtensorflow\u001b[0m\u001b[0;34m.\u001b[0m\u001b[0mcontrib\u001b[0m\u001b[0;34m.\u001b[0m\u001b[0mframework\u001b[0m\u001b[0;34m.\u001b[0m\u001b[0mpython\u001b[0m\u001b[0;34m.\u001b[0m\u001b[0mops\u001b[0m\u001b[0;34m.\u001b[0m\u001b[0mprettyprint_ops\u001b[0m \u001b[0;32mimport\u001b[0m \u001b[0;34m*\u001b[0m\u001b[0;34m\u001b[0m\u001b[0m\n\u001b[0;32m---> 27\u001b[0;31m \u001b[0;32mfrom\u001b[0m \u001b[0mtensorflow\u001b[0m\u001b[0;34m.\u001b[0m\u001b[0mcontrib\u001b[0m\u001b[0;34m.\u001b[0m\u001b[0mframework\u001b[0m\u001b[0;34m.\u001b[0m\u001b[0mpython\u001b[0m\u001b[0;34m.\u001b[0m\u001b[0mops\u001b[0m\u001b[0;34m.\u001b[0m\u001b[0mvariables\u001b[0m \u001b[0;32mimport\u001b[0m \u001b[0;34m*\u001b[0m\u001b[0;34m\u001b[0m\u001b[0m\n\u001b[0m\u001b[1;32m     28\u001b[0m \u001b[0;31m# pylint: enable=wildcard-import\u001b[0m\u001b[0;34m\u001b[0m\u001b[0;34m\u001b[0m\u001b[0m\n",
      "\u001b[0;32m/Users/atrask/anaconda/lib/python3.6/site-packages/tensorflow/contrib/framework/python/ops/variables.py\u001b[0m in \u001b[0;36m<module>\u001b[0;34m()\u001b[0m\n\u001b[1;32m    167\u001b[0m              \u001b[0mregularizer\u001b[0m\u001b[0;34m=\u001b[0m\u001b[0;32mNone\u001b[0m\u001b[0;34m,\u001b[0m \u001b[0mtrainable\u001b[0m\u001b[0;34m=\u001b[0m\u001b[0;32mTrue\u001b[0m\u001b[0;34m,\u001b[0m \u001b[0mcollections\u001b[0m\u001b[0;34m=\u001b[0m\u001b[0;32mNone\u001b[0m\u001b[0;34m,\u001b[0m\u001b[0;34m\u001b[0m\u001b[0m\n\u001b[1;32m    168\u001b[0m              \u001b[0mcaching_device\u001b[0m\u001b[0;34m=\u001b[0m\u001b[0;32mNone\u001b[0m\u001b[0;34m,\u001b[0m \u001b[0mdevice\u001b[0m\u001b[0;34m=\u001b[0m\u001b[0;32mNone\u001b[0m\u001b[0;34m,\u001b[0m\u001b[0;34m\u001b[0m\u001b[0m\n\u001b[0;32m--> 169\u001b[0;31m              partitioner=None, custom_getter=None, use_resource=None):\n\u001b[0m\u001b[1;32m    170\u001b[0m   \"\"\"Gets an existing variable with these parameters or creates a new one.\n\u001b[1;32m    171\u001b[0m \u001b[0;34m\u001b[0m\u001b[0m\n",
      "\u001b[0;32m/Users/atrask/anaconda/lib/python3.6/site-packages/tensorflow/contrib/framework/python/ops/arg_scope.py\u001b[0m in \u001b[0;36madd_arg_scope\u001b[0;34m(func)\u001b[0m\n\u001b[1;32m    182\u001b[0m   \u001b[0m_add_op\u001b[0m\u001b[0;34m(\u001b[0m\u001b[0mfunc\u001b[0m\u001b[0;34m)\u001b[0m\u001b[0;34m\u001b[0m\u001b[0m\n\u001b[1;32m    183\u001b[0m   \u001b[0msetattr\u001b[0m\u001b[0;34m(\u001b[0m\u001b[0mfunc_with_args\u001b[0m\u001b[0;34m,\u001b[0m \u001b[0;34m'_key_op'\u001b[0m\u001b[0;34m,\u001b[0m \u001b[0m_key_op\u001b[0m\u001b[0;34m(\u001b[0m\u001b[0mfunc\u001b[0m\u001b[0;34m)\u001b[0m\u001b[0;34m)\u001b[0m\u001b[0;34m\u001b[0m\u001b[0m\n\u001b[0;32m--> 184\u001b[0;31m   \u001b[0;32mreturn\u001b[0m \u001b[0mtf_decorator\u001b[0m\u001b[0;34m.\u001b[0m\u001b[0mmake_decorator\u001b[0m\u001b[0;34m(\u001b[0m\u001b[0mfunc\u001b[0m\u001b[0;34m,\u001b[0m \u001b[0mfunc_with_args\u001b[0m\u001b[0;34m)\u001b[0m\u001b[0;34m\u001b[0m\u001b[0m\n\u001b[0m\u001b[1;32m    185\u001b[0m \u001b[0;34m\u001b[0m\u001b[0m\n\u001b[1;32m    186\u001b[0m \u001b[0;34m\u001b[0m\u001b[0m\n",
      "\u001b[0;32m/Users/atrask/anaconda/lib/python3.6/site-packages/tensorflow/python/util/tf_decorator.py\u001b[0m in \u001b[0;36mmake_decorator\u001b[0;34m(target, decorator_func, decorator_name, decorator_doc, decorator_argspec)\u001b[0m\n\u001b[1;32m     84\u001b[0m   \"\"\"\n\u001b[1;32m     85\u001b[0m   \u001b[0;32mif\u001b[0m \u001b[0mdecorator_name\u001b[0m \u001b[0;32mis\u001b[0m \u001b[0;32mNone\u001b[0m\u001b[0;34m:\u001b[0m\u001b[0;34m\u001b[0m\u001b[0m\n\u001b[0;32m---> 86\u001b[0;31m     \u001b[0mdecorator_name\u001b[0m \u001b[0;34m=\u001b[0m \u001b[0m_inspect\u001b[0m\u001b[0;34m.\u001b[0m\u001b[0mstack\u001b[0m\u001b[0;34m(\u001b[0m\u001b[0;34m)\u001b[0m\u001b[0;34m[\u001b[0m\u001b[0;36m1\u001b[0m\u001b[0;34m]\u001b[0m\u001b[0;34m[\u001b[0m\u001b[0;36m3\u001b[0m\u001b[0;34m]\u001b[0m  \u001b[0;31m# Caller's name.\u001b[0m\u001b[0;34m\u001b[0m\u001b[0m\n\u001b[0m\u001b[1;32m     87\u001b[0m   decorator = TFDecorator(decorator_name, target, decorator_doc,\n\u001b[1;32m     88\u001b[0m                           decorator_argspec)\n",
      "\u001b[0;32m/Users/atrask/anaconda/lib/python3.6/inspect.py\u001b[0m in \u001b[0;36mstack\u001b[0;34m(context)\u001b[0m\n\u001b[1;32m   1462\u001b[0m \u001b[0;32mdef\u001b[0m \u001b[0mstack\u001b[0m\u001b[0;34m(\u001b[0m\u001b[0mcontext\u001b[0m\u001b[0;34m=\u001b[0m\u001b[0;36m1\u001b[0m\u001b[0;34m)\u001b[0m\u001b[0;34m:\u001b[0m\u001b[0;34m\u001b[0m\u001b[0m\n\u001b[1;32m   1463\u001b[0m     \u001b[0;34m\"\"\"Return a list of records for the stack above the caller's frame.\"\"\"\u001b[0m\u001b[0;34m\u001b[0m\u001b[0m\n\u001b[0;32m-> 1464\u001b[0;31m     \u001b[0;32mreturn\u001b[0m \u001b[0mgetouterframes\u001b[0m\u001b[0;34m(\u001b[0m\u001b[0msys\u001b[0m\u001b[0;34m.\u001b[0m\u001b[0m_getframe\u001b[0m\u001b[0;34m(\u001b[0m\u001b[0;36m1\u001b[0m\u001b[0;34m)\u001b[0m\u001b[0;34m,\u001b[0m \u001b[0mcontext\u001b[0m\u001b[0;34m)\u001b[0m\u001b[0;34m\u001b[0m\u001b[0m\n\u001b[0m\u001b[1;32m   1465\u001b[0m \u001b[0;34m\u001b[0m\u001b[0m\n\u001b[1;32m   1466\u001b[0m \u001b[0;32mdef\u001b[0m \u001b[0mtrace\u001b[0m\u001b[0;34m(\u001b[0m\u001b[0mcontext\u001b[0m\u001b[0;34m=\u001b[0m\u001b[0;36m1\u001b[0m\u001b[0;34m)\u001b[0m\u001b[0;34m:\u001b[0m\u001b[0;34m\u001b[0m\u001b[0m\n",
      "\u001b[0;32m/Users/atrask/anaconda/lib/python3.6/inspect.py\u001b[0m in \u001b[0;36mgetouterframes\u001b[0;34m(frame, context)\u001b[0m\n\u001b[1;32m   1439\u001b[0m     \u001b[0mframelist\u001b[0m \u001b[0;34m=\u001b[0m \u001b[0;34m[\u001b[0m\u001b[0;34m]\u001b[0m\u001b[0;34m\u001b[0m\u001b[0m\n\u001b[1;32m   1440\u001b[0m     \u001b[0;32mwhile\u001b[0m \u001b[0mframe\u001b[0m\u001b[0;34m:\u001b[0m\u001b[0;34m\u001b[0m\u001b[0m\n\u001b[0;32m-> 1441\u001b[0;31m         \u001b[0mframeinfo\u001b[0m \u001b[0;34m=\u001b[0m \u001b[0;34m(\u001b[0m\u001b[0mframe\u001b[0m\u001b[0;34m,\u001b[0m\u001b[0;34m)\u001b[0m \u001b[0;34m+\u001b[0m \u001b[0mgetframeinfo\u001b[0m\u001b[0;34m(\u001b[0m\u001b[0mframe\u001b[0m\u001b[0;34m,\u001b[0m \u001b[0mcontext\u001b[0m\u001b[0;34m)\u001b[0m\u001b[0;34m\u001b[0m\u001b[0m\n\u001b[0m\u001b[1;32m   1442\u001b[0m         \u001b[0mframelist\u001b[0m\u001b[0;34m.\u001b[0m\u001b[0mappend\u001b[0m\u001b[0;34m(\u001b[0m\u001b[0mFrameInfo\u001b[0m\u001b[0;34m(\u001b[0m\u001b[0;34m*\u001b[0m\u001b[0mframeinfo\u001b[0m\u001b[0;34m)\u001b[0m\u001b[0;34m)\u001b[0m\u001b[0;34m\u001b[0m\u001b[0m\n\u001b[1;32m   1443\u001b[0m         \u001b[0mframe\u001b[0m \u001b[0;34m=\u001b[0m \u001b[0mframe\u001b[0m\u001b[0;34m.\u001b[0m\u001b[0mf_back\u001b[0m\u001b[0;34m\u001b[0m\u001b[0m\n",
      "\u001b[0;32m/Users/atrask/anaconda/lib/python3.6/inspect.py\u001b[0m in \u001b[0;36mgetframeinfo\u001b[0;34m(frame, context)\u001b[0m\n\u001b[1;32m   1413\u001b[0m         \u001b[0mstart\u001b[0m \u001b[0;34m=\u001b[0m \u001b[0mlineno\u001b[0m \u001b[0;34m-\u001b[0m \u001b[0;36m1\u001b[0m \u001b[0;34m-\u001b[0m \u001b[0mcontext\u001b[0m\u001b[0;34m//\u001b[0m\u001b[0;36m2\u001b[0m\u001b[0;34m\u001b[0m\u001b[0m\n\u001b[1;32m   1414\u001b[0m         \u001b[0;32mtry\u001b[0m\u001b[0;34m:\u001b[0m\u001b[0;34m\u001b[0m\u001b[0m\n\u001b[0;32m-> 1415\u001b[0;31m             \u001b[0mlines\u001b[0m\u001b[0;34m,\u001b[0m \u001b[0mlnum\u001b[0m \u001b[0;34m=\u001b[0m \u001b[0mfindsource\u001b[0m\u001b[0;34m(\u001b[0m\u001b[0mframe\u001b[0m\u001b[0;34m)\u001b[0m\u001b[0;34m\u001b[0m\u001b[0m\n\u001b[0m\u001b[1;32m   1416\u001b[0m         \u001b[0;32mexcept\u001b[0m \u001b[0mOSError\u001b[0m\u001b[0;34m:\u001b[0m\u001b[0;34m\u001b[0m\u001b[0m\n\u001b[1;32m   1417\u001b[0m             \u001b[0mlines\u001b[0m \u001b[0;34m=\u001b[0m \u001b[0mindex\u001b[0m \u001b[0;34m=\u001b[0m \u001b[0;32mNone\u001b[0m\u001b[0;34m\u001b[0m\u001b[0m\n",
      "\u001b[0;32m/Users/atrask/anaconda/lib/python3.6/inspect.py\u001b[0m in \u001b[0;36mfindsource\u001b[0;34m(object)\u001b[0m\n\u001b[1;32m    748\u001b[0m             \u001b[0;32mraise\u001b[0m \u001b[0mOSError\u001b[0m\u001b[0;34m(\u001b[0m\u001b[0;34m'source code not available'\u001b[0m\u001b[0;34m)\u001b[0m\u001b[0;34m\u001b[0m\u001b[0m\n\u001b[1;32m    749\u001b[0m \u001b[0;34m\u001b[0m\u001b[0m\n\u001b[0;32m--> 750\u001b[0;31m     \u001b[0mmodule\u001b[0m \u001b[0;34m=\u001b[0m \u001b[0mgetmodule\u001b[0m\u001b[0;34m(\u001b[0m\u001b[0mobject\u001b[0m\u001b[0;34m,\u001b[0m \u001b[0mfile\u001b[0m\u001b[0;34m)\u001b[0m\u001b[0;34m\u001b[0m\u001b[0m\n\u001b[0m\u001b[1;32m    751\u001b[0m     \u001b[0;32mif\u001b[0m \u001b[0mmodule\u001b[0m\u001b[0;34m:\u001b[0m\u001b[0;34m\u001b[0m\u001b[0m\n\u001b[1;32m    752\u001b[0m         \u001b[0mlines\u001b[0m \u001b[0;34m=\u001b[0m \u001b[0mlinecache\u001b[0m\u001b[0;34m.\u001b[0m\u001b[0mgetlines\u001b[0m\u001b[0;34m(\u001b[0m\u001b[0mfile\u001b[0m\u001b[0;34m,\u001b[0m \u001b[0mmodule\u001b[0m\u001b[0;34m.\u001b[0m\u001b[0m__dict__\u001b[0m\u001b[0;34m)\u001b[0m\u001b[0;34m\u001b[0m\u001b[0m\n",
      "\u001b[0;32m/Users/atrask/anaconda/lib/python3.6/inspect.py\u001b[0m in \u001b[0;36mgetmodule\u001b[0;34m(object, _filename)\u001b[0m\n\u001b[1;32m    701\u001b[0m     \u001b[0;31m# Copy sys.modules in order to cope with changes while iterating\u001b[0m\u001b[0;34m\u001b[0m\u001b[0;34m\u001b[0m\u001b[0m\n\u001b[1;32m    702\u001b[0m     \u001b[0;32mfor\u001b[0m \u001b[0mmodname\u001b[0m\u001b[0;34m,\u001b[0m \u001b[0mmodule\u001b[0m \u001b[0;32min\u001b[0m \u001b[0mlist\u001b[0m\u001b[0;34m(\u001b[0m\u001b[0msys\u001b[0m\u001b[0;34m.\u001b[0m\u001b[0mmodules\u001b[0m\u001b[0;34m.\u001b[0m\u001b[0mitems\u001b[0m\u001b[0;34m(\u001b[0m\u001b[0;34m)\u001b[0m\u001b[0;34m)\u001b[0m\u001b[0;34m:\u001b[0m\u001b[0;34m\u001b[0m\u001b[0m\n\u001b[0;32m--> 703\u001b[0;31m         \u001b[0;32mif\u001b[0m \u001b[0mismodule\u001b[0m\u001b[0;34m(\u001b[0m\u001b[0mmodule\u001b[0m\u001b[0;34m)\u001b[0m \u001b[0;32mand\u001b[0m \u001b[0mhasattr\u001b[0m\u001b[0;34m(\u001b[0m\u001b[0mmodule\u001b[0m\u001b[0;34m,\u001b[0m \u001b[0;34m'__file__'\u001b[0m\u001b[0;34m)\u001b[0m\u001b[0;34m:\u001b[0m\u001b[0;34m\u001b[0m\u001b[0m\n\u001b[0m\u001b[1;32m    704\u001b[0m             \u001b[0mf\u001b[0m \u001b[0;34m=\u001b[0m \u001b[0mmodule\u001b[0m\u001b[0;34m.\u001b[0m\u001b[0m__file__\u001b[0m\u001b[0;34m\u001b[0m\u001b[0m\n\u001b[1;32m    705\u001b[0m             \u001b[0;32mif\u001b[0m \u001b[0mf\u001b[0m \u001b[0;34m==\u001b[0m \u001b[0m_filesbymodname\u001b[0m\u001b[0;34m.\u001b[0m\u001b[0mget\u001b[0m\u001b[0;34m(\u001b[0m\u001b[0mmodname\u001b[0m\u001b[0;34m,\u001b[0m \u001b[0;32mNone\u001b[0m\u001b[0;34m)\u001b[0m\u001b[0;34m:\u001b[0m\u001b[0;34m\u001b[0m\u001b[0m\n",
      "\u001b[0;31mKeyboardInterrupt\u001b[0m: "
     ]
    }
   ],
   "source": [
    "from grid import ipfsapi\n",
    "import base64\n",
    "import random\n",
    "import torch\n",
    "import keras\n",
    "import json\n",
    "from keras.models import Sequential\n",
    "from keras.layers.core import Dense, Dropout, Activation\n",
    "from keras.optimizers import SGD\n",
    "import numpy as np \n",
    "from grid.pubsub.client import Client"
   ]
  },
  {
   "cell_type": "markdown",
   "metadata": {},
   "source": [
    "# Run Worker"
   ]
  },
  {
   "cell_type": "markdown",
   "metadata": {},
   "source": [
    "# Run Client"
   ]
  },
  {
   "cell_type": "code",
   "execution_count": null,
   "metadata": {
    "collapsed": true
   },
   "outputs": [],
   "source": []
  },
  {
   "cell_type": "code",
   "execution_count": null,
   "metadata": {
    "collapsed": true
   },
   "outputs": [],
   "source": []
  },
  {
   "cell_type": "code",
   "execution_count": null,
   "metadata": {
    "collapsed": true
   },
   "outputs": [],
   "source": []
  },
  {
   "cell_type": "code",
   "execution_count": 2,
   "metadata": {},
   "outputs": [
    {
     "name": "stdout",
     "output_type": "stream",
     "text": [
      "SUBSCRIBING TO openmined_train_QmdSojmnF9Gy1TckVxK15gp5qS9stb1a45HuWvEGteGJnk\n",
      "Worker:2rjE4 - Epoch 0 of 200 - Valid Loss: 0.718432\n",
      "Worker:2rjE4 - Epoch 1 of 200 - Valid Loss: 0.713068\n",
      "Worker:2rjE4 - Epoch 2 of 200 - Valid Loss: 0.708317\n",
      "Worker:2rjE4 - Epoch 3 of 200 - Valid Loss: 0.703726\n",
      "Worker:2rjE4 - Epoch 4 of 200 - Valid Loss: 0.702679\n",
      "Worker:2rjE4 - Epoch 5 of 200 - Valid Loss: 0.695869\n",
      "Worker:2rjE4 - Epoch 6 of 200 - Valid Loss: 0.694962\n",
      "Worker:2rjE4 - Epoch 7 of 200 - Valid Loss: 0.691659\n",
      "Worker:2rjE4 - Epoch 8 of 200 - Valid Loss: 0.689115\n",
      "Worker:2rjE4 - Epoch 9 of 200 - Valid Loss: 0.684227\n",
      "Worker:2rjE4 - Epoch 10 of 200 - Valid Loss: 0.680182\n",
      "Worker:2rjE4 - Epoch 11 of 200 - Valid Loss: 0.678022\n",
      "Worker:2rjE4 - Epoch 12 of 200 - Valid Loss: 0.676090\n",
      "Worker:2rjE4 - Epoch 13 of 200 - Valid Loss: 0.670551\n",
      "Worker:2rjE4 - Epoch 14 of 200 - Valid Loss: 0.667953\n",
      "Worker:2rjE4 - Epoch 15 of 200 - Valid Loss: 0.664778\n",
      "Worker:2rjE4 - Epoch 16 of 200 - Valid Loss: 0.663917\n",
      "Worker:2rjE4 - Epoch 17 of 200 - Valid Loss: 0.660144\n",
      "Worker:2rjE4 - Epoch 18 of 200 - Valid Loss: 0.654111\n",
      "Worker:2rjE4 - Epoch 19 of 200 - Valid Loss: 0.653463\n",
      "Worker:2rjE4 - Epoch 20 of 200 - Valid Loss: 0.648876\n",
      "Worker:2rjE4 - Epoch 21 of 200 - Valid Loss: 0.643473\n",
      "Worker:2rjE4 - Epoch 22 of 200 - Valid Loss: 0.636331\n",
      "Worker:2rjE4 - Epoch 23 of 200 - Valid Loss: 0.635210\n",
      "Worker:2rjE4 - Epoch 24 of 200 - Valid Loss: 0.627419\n",
      "Worker:2rjE4 - Epoch 25 of 200 - Valid Loss: 0.623792\n",
      "Worker:2rjE4 - Epoch 26 of 200 - Valid Loss: 0.620980\n",
      "Worker:2rjE4 - Epoch 27 of 200 - Valid Loss: 0.615721\n",
      "Worker:2rjE4 - Epoch 28 of 200 - Valid Loss: 0.608461\n",
      "Worker:2rjE4 - Epoch 29 of 200 - Valid Loss: 0.602784\n",
      "Worker:2rjE4 - Epoch 30 of 200 - Valid Loss: 0.600303\n",
      "Worker:2rjE4 - Epoch 31 of 200 - Valid Loss: 0.595013\n",
      "Worker:2rjE4 - Epoch 32 of 200 - Valid Loss: 0.589560\n",
      "Worker:2rjE4 - Epoch 33 of 200 - Valid Loss: 0.583045\n",
      "Worker:2rjE4 - Epoch 34 of 200 - Valid Loss: 0.575497\n",
      "Worker:2rjE4 - Epoch 35 of 200 - Valid Loss: 0.571961\n",
      "Worker:2rjE4 - Epoch 36 of 200 - Valid Loss: 0.565034\n",
      "Worker:2rjE4 - Epoch 37 of 200 - Valid Loss: 0.558646\n",
      "Worker:2rjE4 - Epoch 38 of 200 - Valid Loss: 0.550588\n",
      "Worker:2rjE4 - Epoch 39 of 200 - Valid Loss: 0.547435\n",
      "Worker:2rjE4 - Epoch 40 of 200 - Valid Loss: 0.540583\n",
      "Worker:2rjE4 - Epoch 41 of 200 - Valid Loss: 0.529913\n",
      "Worker:2rjE4 - Epoch 42 of 200 - Valid Loss: 0.523124\n",
      "Worker:2rjE4 - Epoch 43 of 200 - Valid Loss: 0.518973\n",
      "Worker:2rjE4 - Epoch 44 of 200 - Valid Loss: 0.511905\n",
      "Worker:2rjE4 - Epoch 45 of 200 - Valid Loss: 0.504206\n",
      "Worker:2rjE4 - Epoch 46 of 200 - Valid Loss: 0.499454\n",
      "Worker:2rjE4 - Epoch 47 of 200 - Valid Loss: 0.489932\n",
      "Worker:2rjE4 - Epoch 48 of 200 - Valid Loss: 0.483637\n",
      "Worker:2rjE4 - Epoch 49 of 200 - Valid Loss: 0.476608\n",
      "Worker:2rjE4 - Epoch 50 of 200 - Valid Loss: 0.466209\n",
      "Worker:2rjE4 - Epoch 51 of 200 - Valid Loss: 0.462342\n",
      "Worker:2rjE4 - Epoch 52 of 200 - Valid Loss: 0.453621\n",
      "Worker:2rjE4 - Epoch 53 of 200 - Valid Loss: 0.446456\n",
      "Worker:2rjE4 - Epoch 54 of 200 - Valid Loss: 0.438795\n",
      "Worker:2rjE4 - Epoch 55 of 200 - Valid Loss: 0.430934\n",
      "Worker:2rjE4 - Epoch 56 of 200 - Valid Loss: 0.424090\n",
      "Worker:2rjE4 - Epoch 57 of 200 - Valid Loss: 0.416136\n",
      "Worker:2rjE4 - Epoch 58 of 200 - Valid Loss: 0.406853\n",
      "Worker:2rjE4 - Epoch 59 of 200 - Valid Loss: 0.401055\n",
      "Worker:2rjE4 - Epoch 60 of 200 - Valid Loss: 0.392299\n",
      "Worker:2rjE4 - Epoch 61 of 200 - Valid Loss: 0.384189\n",
      "Worker:2rjE4 - Epoch 62 of 200 - Valid Loss: 0.378946\n",
      "Worker:2rjE4 - Epoch 63 of 200 - Valid Loss: 0.369705\n",
      "Worker:2rjE4 - Epoch 64 of 200 - Valid Loss: 0.362033\n",
      "Worker:2rjE4 - Epoch 65 of 200 - Valid Loss: 0.356253\n",
      "Worker:2rjE4 - Epoch 66 of 200 - Valid Loss: 0.349247\n",
      "Worker:2rjE4 - Epoch 67 of 200 - Valid Loss: 0.342014\n",
      "Worker:2rjE4 - Epoch 68 of 200 - Valid Loss: 0.335499\n",
      "Worker:2rjE4 - Epoch 69 of 200 - Valid Loss: 0.328176\n",
      "Worker:2rjE4 - Epoch 70 of 200 - Valid Loss: 0.319884\n",
      "Worker:2rjE4 - Epoch 71 of 200 - Valid Loss: 0.314167\n",
      "Worker:2rjE4 - Epoch 72 of 200 - Valid Loss: 0.307722\n",
      "Worker:2rjE4 - Epoch 73 of 200 - Valid Loss: 0.299988\n",
      "Worker:2rjE4 - Epoch 74 of 200 - Valid Loss: 0.294656\n",
      "Worker:2rjE4 - Epoch 75 of 200 - Valid Loss: 0.288102\n",
      "Worker:2rjE4 - Epoch 76 of 200 - Valid Loss: 0.281605\n",
      "Worker:2rjE4 - Epoch 77 of 200 - Valid Loss: 0.274584\n",
      "Worker:2rjE4 - Epoch 78 of 200 - Valid Loss: 0.269720\n",
      "Worker:2rjE4 - Epoch 79 of 200 - Valid Loss: 0.263578\n",
      "Worker:2rjE4 - Epoch 80 of 200 - Valid Loss: 0.257930\n",
      "Worker:2rjE4 - Epoch 81 of 200 - Valid Loss: 0.252465\n",
      "Worker:2rjE4 - Epoch 82 of 200 - Valid Loss: 0.247078\n",
      "Worker:2rjE4 - Epoch 83 of 200 - Valid Loss: 0.241789\n",
      "Worker:2rjE4 - Epoch 84 of 200 - Valid Loss: 0.236297\n",
      "Worker:2rjE4 - Epoch 85 of 200 - Valid Loss: 0.231008\n",
      "Worker:2rjE4 - Epoch 86 of 200 - Valid Loss: 0.226007\n",
      "Worker:2rjE4 - Epoch 87 of 200 - Valid Loss: 0.221035\n",
      "Worker:2rjE4 - Epoch 88 of 200 - Valid Loss: 0.215491\n",
      "Worker:2rjE4 - Epoch 89 of 200 - Valid Loss: 0.211037\n",
      "Worker:2rjE4 - Epoch 90 of 200 - Valid Loss: 0.207094\n",
      "Worker:2rjE4 - Epoch 91 of 200 - Valid Loss: 0.202348\n",
      "Worker:2rjE4 - Epoch 92 of 200 - Valid Loss: 0.198021\n",
      "Worker:2rjE4 - Epoch 93 of 200 - Valid Loss: 0.193920\n",
      "Worker:2rjE4 - Epoch 94 of 200 - Valid Loss: 0.189823\n",
      "Worker:2rjE4 - Epoch 95 of 200 - Valid Loss: 0.185914\n",
      "Worker:2rjE4 - Epoch 96 of 200 - Valid Loss: 0.181984\n",
      "Worker:2rjE4 - Epoch 97 of 200 - Valid Loss: 0.178186\n",
      "Worker:2rjE4 - Epoch 98 of 200 - Valid Loss: 0.174411\n",
      "Worker:2rjE4 - Epoch 99 of 200 - Valid Loss: 0.170770\n",
      "Worker:2rjE4 - Epoch 100 of 200 - Valid Loss: 0.167453\n",
      "Worker:2rjE4 - Epoch 101 of 200 - Valid Loss: 0.163979\n",
      "Worker:2rjE4 - Epoch 102 of 200 - Valid Loss: 0.161031\n",
      "Worker:2rjE4 - Epoch 103 of 200 - Valid Loss: 0.157709\n",
      "Worker:2rjE4 - Epoch 104 of 200 - Valid Loss: 0.154718\n",
      "Worker:2rjE4 - Epoch 105 of 200 - Valid Loss: 0.151551\n",
      "Worker:2rjE4 - Epoch 106 of 200 - Valid Loss: 0.148714\n",
      "Worker:2rjE4 - Epoch 107 of 200 - Valid Loss: 0.145644\n",
      "Worker:2rjE4 - Epoch 108 of 200 - Valid Loss: 0.142833\n",
      "Worker:2rjE4 - Epoch 109 of 200 - Valid Loss: 0.140080\n",
      "Worker:2rjE4 - Epoch 110 of 200 - Valid Loss: 0.137699\n",
      "Worker:2rjE4 - Epoch 111 of 200 - Valid Loss: 0.135190\n",
      "Worker:2rjE4 - Epoch 112 of 200 - Valid Loss: 0.132470\n",
      "Worker:2rjE4 - Epoch 113 of 200 - Valid Loss: 0.130119\n",
      "Worker:2rjE4 - Epoch 114 of 200 - Valid Loss: 0.127917\n",
      "Worker:2rjE4 - Epoch 115 of 200 - Valid Loss: 0.125450\n",
      "Worker:2rjE4 - Epoch 116 of 200 - Valid Loss: 0.123281\n",
      "Worker:2rjE4 - Epoch 117 of 200 - Valid Loss: 0.121060\n",
      "Worker:2rjE4 - Epoch 118 of 200 - Valid Loss: 0.119177\n",
      "Worker:2rjE4 - Epoch 119 of 200 - Valid Loss: 0.117103\n",
      "Worker:2rjE4 - Epoch 120 of 200 - Valid Loss: 0.114941\n",
      "Worker:2rjE4 - Epoch 121 of 200 - Valid Loss: 0.113141\n",
      "Worker:2rjE4 - Epoch 122 of 200 - Valid Loss: 0.111269\n",
      "Worker:2rjE4 - Epoch 123 of 200 - Valid Loss: 0.109274\n",
      "Worker:2rjE4 - Epoch 124 of 200 - Valid Loss: 0.107580\n",
      "Worker:2rjE4 - Epoch 125 of 200 - Valid Loss: 0.105834\n",
      "Worker:2rjE4 - Epoch 126 of 200 - Valid Loss: 0.104120\n",
      "Worker:2rjE4 - Epoch 127 of 200 - Valid Loss: 0.102420\n",
      "Worker:2rjE4 - Epoch 128 of 200 - Valid Loss: 0.100870\n",
      "Worker:2rjE4 - Epoch 129 of 200 - Valid Loss: 0.099320\n",
      "Worker:2rjE4 - Epoch 130 of 200 - Valid Loss: 0.097723\n",
      "Worker:2rjE4 - Epoch 131 of 200 - Valid Loss: 0.096221\n",
      "Worker:2rjE4 - Epoch 132 of 200 - Valid Loss: 0.094778\n",
      "Worker:2rjE4 - Epoch 133 of 200 - Valid Loss: 0.093241\n",
      "Worker:2rjE4 - Epoch 134 of 200 - Valid Loss: 0.091947\n",
      "Worker:2rjE4 - Epoch 135 of 200 - Valid Loss: 0.090564\n",
      "Worker:2rjE4 - Epoch 136 of 200 - Valid Loss: 0.089232\n",
      "Worker:2rjE4 - Epoch 137 of 200 - Valid Loss: 0.087927\n",
      "Worker:2rjE4 - Epoch 138 of 200 - Valid Loss: 0.086634\n",
      "Worker:2rjE4 - Epoch 139 of 200 - Valid Loss: 0.085467\n",
      "Worker:2rjE4 - Epoch 140 of 200 - Valid Loss: 0.084176\n",
      "Worker:2rjE4 - Epoch 141 of 200 - Valid Loss: 0.083001\n",
      "Worker:2rjE4 - Epoch 142 of 200 - Valid Loss: 0.081905\n",
      "Worker:2rjE4 - Epoch 143 of 200 - Valid Loss: 0.080747\n",
      "Worker:2rjE4 - Epoch 144 of 200 - Valid Loss: 0.079649\n",
      "Worker:2rjE4 - Epoch 145 of 200 - Valid Loss: 0.078571\n",
      "Worker:2rjE4 - Epoch 146 of 200 - Valid Loss: 0.077478\n",
      "Worker:2rjE4 - Epoch 147 of 200 - Valid Loss: 0.076500\n",
      "Worker:2rjE4 - Epoch 148 of 200 - Valid Loss: 0.075491\n",
      "Worker:2rjE4 - Epoch 149 of 200 - Valid Loss: 0.074509\n",
      "Worker:2rjE4 - Epoch 150 of 200 - Valid Loss: 0.073532\n",
      "Worker:2rjE4 - Epoch 151 of 200 - Valid Loss: 0.072556\n",
      "Worker:2rjE4 - Epoch 152 of 200 - Valid Loss: 0.071670\n",
      "Worker:2rjE4 - Epoch 153 of 200 - Valid Loss: 0.070778\n",
      "Worker:2rjE4 - Epoch 154 of 200 - Valid Loss: 0.069846\n",
      "Worker:2rjE4 - Epoch 155 of 200 - Valid Loss: 0.068986\n",
      "Worker:2rjE4 - Epoch 156 of 200 - Valid Loss: 0.068145\n",
      "Worker:2rjE4 - Epoch 157 of 200 - Valid Loss: 0.067346\n",
      "Worker:2rjE4 - Epoch 158 of 200 - Valid Loss: 0.066497\n",
      "Worker:2rjE4 - Epoch 159 of 200 - Valid Loss: 0.065734\n",
      "Worker:2rjE4 - Epoch 160 of 200 - Valid Loss: 0.064940\n",
      "Worker:2rjE4 - Epoch 161 of 200 - Valid Loss: 0.064177\n"
     ]
    },
    {
     "name": "stdout",
     "output_type": "stream",
     "text": [
      "Worker:2rjE4 - Epoch 162 of 200 - Valid Loss: 0.063410\n",
      "Worker:2rjE4 - Epoch 163 of 200 - Valid Loss: 0.062702\n",
      "Worker:2rjE4 - Epoch 164 of 200 - Valid Loss: 0.061946\n",
      "Worker:2rjE4 - Epoch 165 of 200 - Valid Loss: 0.061266\n",
      "Worker:2rjE4 - Epoch 166 of 200 - Valid Loss: 0.060584\n",
      "Worker:2rjE4 - Epoch 167 of 200 - Valid Loss: 0.059905\n",
      "Worker:2rjE4 - Epoch 168 of 200 - Valid Loss: 0.059215\n",
      "Worker:2rjE4 - Epoch 169 of 200 - Valid Loss: 0.058557\n",
      "Worker:2rjE4 - Epoch 170 of 200 - Valid Loss: 0.057920\n",
      "Worker:2rjE4 - Epoch 171 of 200 - Valid Loss: 0.057284\n",
      "Worker:2rjE4 - Epoch 172 of 200 - Valid Loss: 0.056675\n",
      "Worker:2rjE4 - Epoch 173 of 200 - Valid Loss: 0.056081\n",
      "Worker:2rjE4 - Epoch 174 of 200 - Valid Loss: 0.055468\n",
      "Worker:2rjE4 - Epoch 175 of 200 - Valid Loss: 0.054904\n",
      "Worker:2rjE4 - Epoch 176 of 200 - Valid Loss: 0.054336\n",
      "Worker:2rjE4 - Epoch 177 of 200 - Valid Loss: 0.053773\n",
      "Worker:2rjE4 - Epoch 178 of 200 - Valid Loss: 0.053213\n",
      "Worker:2rjE4 - Epoch 179 of 200 - Valid Loss: 0.052667\n",
      "Worker:2rjE4 - Epoch 180 of 200 - Valid Loss: 0.052133\n",
      "Worker:2rjE4 - Epoch 181 of 200 - Valid Loss: 0.051616\n",
      "Worker:2rjE4 - Epoch 182 of 200 - Valid Loss: 0.051093\n",
      "Worker:2rjE4 - Epoch 183 of 200 - Valid Loss: 0.050589\n",
      "Worker:2rjE4 - Epoch 184 of 200 - Valid Loss: 0.050077\n",
      "Worker:2rjE4 - Epoch 185 of 200 - Valid Loss: 0.049601\n",
      "Worker:2rjE4 - Epoch 186 of 200 - Valid Loss: 0.049128\n",
      "Worker:2rjE4 - Epoch 187 of 200 - Valid Loss: 0.048652\n",
      "Worker:2rjE4 - Epoch 188 of 200 - Valid Loss: 0.048172\n",
      "Worker:2rjE4 - Epoch 189 of 200 - Valid Loss: 0.047731\n",
      "Worker:2rjE4 - Epoch 190 of 200 - Valid Loss: 0.047266\n",
      "Worker:2rjE4 - Epoch 191 of 200 - Valid Loss: 0.046841\n",
      "Worker:2rjE4 - Epoch 192 of 200 - Valid Loss: 0.046404\n",
      "Worker:2rjE4 - Epoch 193 of 200 - Valid Loss: 0.045976\n",
      "Worker:2rjE4 - Epoch 194 of 200 - Valid Loss: 0.045556\n",
      "Worker:2rjE4 - Epoch 195 of 200 - Valid Loss: 0.045127\n",
      "Worker:2rjE4 - Epoch 196 of 200 - Valid Loss: 0.044733\n",
      "Worker:2rjE4 - Epoch 197 of 200 - Valid Loss: 0.044327\n",
      "Worker:2rjE4 - Epoch 198 of 200 - Valid Loss: 0.043933\n",
      "Worker:2rjE4 - Epoch 199 of 200 - Valid Loss: 0.043537\n"
     ]
    }
   ],
   "source": [
    "from grid import ipfsapi\n",
    "import base64\n",
    "import random\n",
    "import torch\n",
    "import keras\n",
    "import json\n",
    "from keras.models import Sequential\n",
    "from keras.layers.core import Dense, Dropout, Activation\n",
    "from keras.optimizers import SGD\n",
    "import numpy as np \n",
    "from grid.pubsub.client import Client\n",
    "\n",
    "g = Client()\n",
    "\n",
    "input = np.array([[0,0],[0,1],[1,0],[1,1]])\n",
    "target = np.array([[0],[1],[1],[0]])\n",
    "\n",
    "model = Sequential()\n",
    "model.add(Dense(8, input_dim=2))\n",
    "model.add(Activation('tanh'))\n",
    "model.add(Dense(1))\n",
    "model.add(Activation('sigmoid'))\n",
    "\n",
    "sgd = SGD(lr=0.1)\n",
    "model.compile(loss='binary_crossentropy', optimizer=sgd)\n",
    "\n",
    "train_spec = g.fit(model,input,target,epochs=200,log_interval=10)"
   ]
  },
  {
   "cell_type": "code",
   "execution_count": 3,
   "metadata": {},
   "outputs": [
    {
     "data": {
      "text/plain": [
       "{'batch_size': 1,\n",
       " 'data_addr': 'QmRy2NX5y6LSynVS9DL9ZtJ51yV57CtVAQsLZyuqZ5AB9E',\n",
       " 'epochs': 200,\n",
       " 'framework': 'keras',\n",
       " 'log_interval': 10,\n",
       " 'model_addr': 'QmdSojmnF9Gy1TckVxK15gp5qS9stb1a45HuWvEGteGJnk',\n",
       " 'train_channel': 'openmined_train_QmdSojmnF9Gy1TckVxK15gp5qS9stb1a45HuWvEGteGJnk'}"
      ]
     },
     "execution_count": 3,
     "metadata": {},
     "output_type": "execute_result"
    }
   ],
   "source": [
    "train_spec"
   ]
  },
  {
   "cell_type": "code",
   "execution_count": null,
   "metadata": {
    "collapsed": true
   },
   "outputs": [],
   "source": [
    "len(grid.api.pubsub_peers()['Strings'])"
   ]
  },
  {
   "cell_type": "code",
   "execution_count": null,
   "metadata": {
    "collapsed": true
   },
   "outputs": [],
   "source": [
    "model.summary()"
   ]
  },
  {
   "cell_type": "markdown",
   "metadata": {},
   "source": [
    "# Run Worker"
   ]
  },
  {
   "cell_type": "code",
   "execution_count": null,
   "metadata": {
    "collapsed": true
   },
   "outputs": [],
   "source": [
    "grid.listen_to_channel(grid.fit_worker,'openmined_new_model')"
   ]
  },
  {
   "cell_type": "code",
   "execution_count": null,
   "metadata": {
    "collapsed": true
   },
   "outputs": [],
   "source": []
  },
  {
   "cell_type": "code",
   "execution_count": null,
   "metadata": {
    "collapsed": true
   },
   "outputs": [],
   "source": []
  },
  {
   "cell_type": "code",
   "execution_count": null,
   "metadata": {
    "collapsed": true,
    "scrolled": true
   },
   "outputs": [],
   "source": [
    "\n"
   ]
  },
  {
   "cell_type": "code",
   "execution_count": null,
   "metadata": {
    "collapsed": true
   },
   "outputs": [],
   "source": []
  },
  {
   "cell_type": "code",
   "execution_count": null,
   "metadata": {
    "collapsed": true
   },
   "outputs": [],
   "source": []
  },
  {
   "cell_type": "code",
   "execution_count": null,
   "metadata": {
    "collapsed": true
   },
   "outputs": [],
   "source": [
    "model.fit(X, y, batch_size=1, nb_epoch=1000)\n",
    "print(model.predict_proba(X))"
   ]
  },
  {
   "cell_type": "code",
   "execution_count": null,
   "metadata": {
    "collapsed": true
   },
   "outputs": [],
   "source": []
  },
  {
   "cell_type": "code",
   "execution_count": null,
   "metadata": {
    "collapsed": true
   },
   "outputs": [],
   "source": [
    "def process_message(decoded):\n",
    "    # send some sort of message\n",
    "    try:\n",
    "        # if message is a number... reply with the number + 1\n",
    "        api.pubsub_pub(topic='openmined_model_1',payload=int(decoded['data']) + 1)\n",
    "    except:\n",
    "        print(\"could not accumulate... message not an int\")\n",
    "    print(decoded['data'])\n",
    "\n",
    "# connect\n",
    "\n",
    "\n",
    "my_id = \"\"\n",
    "secret = random.randint(0,1000000)\n",
    "\n",
    "# send secret identity\n",
    "\n",
    "\n",
    "results = list()\n",
    "\n",
    "for encoded in g:\n",
    "    \n",
    "    if('from' in encoded):\n",
    "        # decode message\n",
    "        decoded = {}\n",
    "        decoded['from'] = base64.standard_b64decode(encoded['from'])\n",
    "        decoded['data'] = base64.standard_b64decode(encoded['data']).decode('ascii')\n",
    "        decoded['seqno'] = base64.standard_b64decode(encoded['seqno'])\n",
    "        decoded['topicIDs'] = encoded['topicIDs']\n",
    "        decoded['encoded'] = encoded\n",
    "        results.append(decoded)\n",
    "\n",
    "        # If I don't know who I am - wait for id\n",
    "        if(my_id == \"\"):\n",
    "            if(str(decoded['data'].split(\":\")[-1]) == str(secret)):\n",
    "                my_id = str(decoded['from'])\n",
    "                print(\"Id:\" + my_id)\n",
    "\n",
    "        # if I know who i am - process message\n",
    "        else:\n",
    "\n",
    "            if(str(decoded['from']) != my_id and decoded['data'][0:3] != 'id:'):\n",
    "                process_message(decoded)\n"
   ]
  },
  {
   "cell_type": "code",
   "execution_count": null,
   "metadata": {
    "collapsed": true
   },
   "outputs": [],
   "source": []
  },
  {
   "cell_type": "code",
   "execution_count": null,
   "metadata": {
    "collapsed": true
   },
   "outputs": [],
   "source": []
  }
 ],
 "metadata": {
  "kernelspec": {
   "display_name": "Python 3",
   "language": "python",
   "name": "python3"
  },
  "language_info": {
   "codemirror_mode": {
    "name": "ipython",
    "version": 3
   },
   "file_extension": ".py",
   "mimetype": "text/x-python",
   "name": "python",
   "nbconvert_exporter": "python",
   "pygments_lexer": "ipython3",
   "version": "3.6.1"
  }
 },
 "nbformat": 4,
 "nbformat_minor": 2
}
