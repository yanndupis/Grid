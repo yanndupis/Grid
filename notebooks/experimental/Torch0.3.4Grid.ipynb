{
 "cells": [
  {
   "cell_type": "code",
   "execution_count": 1,
   "metadata": {},
   "outputs": [],
   "source": [
    "import torch\n",
    "from torch.autograd import Variable\n",
    "import inspect\n",
    "import random\n",
    "import copy\n",
    "import json"
   ]
  },
  {
   "cell_type": "code",
   "execution_count": 2,
   "metadata": {},
   "outputs": [],
   "source": [
    "class Worker():\n",
    "    \n",
    "    objects = {}\n",
    "    \n",
    "    def __init__(self,addr=0):\n",
    "        self.addr = addr\n",
    "    \n",
    "    def register_object(self,obj,is_pointer_to_remote):\n",
    "        obj.id = random.randint(0, 1e10)\n",
    "        obj.owner = self\n",
    "        obj.is_pointer_to_remote = False\n",
    "        self.objects[obj.id] = obj\n",
    "        return obj\n",
    "    \n",
    "    def send_obj(self,obj,to):\n",
    "        to.receive_obj(obj.ser())\n",
    "        obj.is_pointer_to_remote = True\n",
    "        obj.owner = to\n",
    "        return obj\n",
    "    \n",
    "    def request_obj(self,obj):\n",
    "        response = obj.owner.receive_obj_request(obj.id)\n",
    "        return self.receive_obj(response)\n",
    "    \n",
    "    def receive_obj_request(self,obj_id):\n",
    "        return self.objects[obj_id].ser()\n",
    "    \n",
    "    def receive_obj(self,msg):\n",
    "        dic = json.loads(msg)\n",
    "        if(dic['type'] == 'torch.FloatTensor'):\n",
    "            obj = torch.FloatTensor.de(dic)\n",
    "            obj.is_pointer_to_remote = False\n",
    "            obj.owner = self\n",
    "            self.objects[obj.id] = obj\n",
    "            return obj\n",
    "    def send_command(self,command,to):\n",
    "        return to.receive_command(command)\n",
    "\n",
    "    def receive_command(self,command):\n",
    "        if(command['base_type'] == 'torch.FloatTensor'):\n",
    "            raw_response = torch.FloatTensor.process_command(self,command)\n",
    "        \n",
    "        return json.dumps(raw_response)\n",
    "            \n",
    "    \n",
    "    def process_response(self,response):\n",
    "        response = json.loads(response)\n",
    "        tensor_ids = response\n",
    "        out_tensors = list()\n",
    "        for raw_msg in tensor_ids:\n",
    "            msg = json.loads(raw_msg)\n",
    "            if(msg[\"type\"] == \"torch.FloatTensor\"):\n",
    "                obj = torch.FloatTensor.de(msg)\n",
    "            out_tensors.append(obj)\n",
    "            \n",
    "        if(len(out_tensors) > 1):\n",
    "            return out_tensors\n",
    "        elif(len(out_tensors) == 1):\n",
    "            return out_tensors[0]\n",
    "        else:\n",
    "            return None\n",
    "    \n",
    "    def function2json(self, obj, name, frame, ix):\n",
    "        \n",
    "        args, varargs, keywords, values = inspect.getargvalues(frame)\n",
    "        \n",
    "        command = {}\n",
    "        command['id'] = ix # This id is assigned as a placeholder for the data that the worker has\n",
    "        command['command'] = name\n",
    "        command['base_type'] = obj.type()\n",
    "        command['args'] = args\n",
    "        command['varargs'] =  varargs\n",
    "        command['keywords'] = keywords\n",
    "        command['values'] = [values[arg].id for arg in args]\n",
    "        command['types'] = [type(val) for val in command['values']]\n",
    "        \n",
    "        return command\n",
    "\n",
    "    def json2function(command):\n",
    "        \"\"\n",
    "\n",
    "    def object2json():\n",
    "        \"\"\n",
    "\n",
    "    def json2object():\n",
    "        \"\"\n",
    "        \n",
    "me = Worker(0)\n",
    "\n",
    "workers = list()\n",
    "for i in range(10):\n",
    "    workers.append(Worker(i+1))"
   ]
  },
  {
   "cell_type": "code",
   "execution_count": 3,
   "metadata": {},
   "outputs": [],
   "source": [
    "# GENERIC\n",
    "\n",
    "def assign_workers():\n",
    "    def decorate(func):\n",
    "        def send_to_workers(*args, **kwargs):\n",
    "            if(args[0].is_pointer_to_remote):\n",
    "                command = func(*args, **kwargs)\n",
    "                response = me.send_command(command,args[0].owner)\n",
    "                return me.process_response(response)\n",
    "                \n",
    "            else:\n",
    "                return func(*args, **kwargs)\n",
    "        return send_to_workers\n",
    "    return decorate\n",
    "\n",
    "\n",
    "# FLOAT TENSOR FUNCTIONS\n",
    "def hook_float_tensor___init__():\n",
    "    def new___init__(self,tensor,owner=me, *args, **kwargs):\n",
    "        super(torch.FloatTensor, self).__init__(*args, **kwargs)\n",
    "        self = owner.register_object(self,False)\n",
    "     \n",
    "    torch.FloatTensor.__init__ = new___init__\n",
    "\n",
    "\n",
    "def hook_float_tensor_add():\n",
    "    @assign_workers()\n",
    "    def new_add(self, other):\n",
    "        if(self.is_pointer_to_remote):\n",
    "            frame = inspect.currentframe()\n",
    "            command = self.owner.function2json(self,'add', frame, self.id)\n",
    "            return command\n",
    "        else:\n",
    "            result = self.old_add(other)\n",
    "            return me.register_object(result,True)\n",
    "\n",
    "    try:\n",
    "        torch.FloatTensor.old_add\n",
    "    except:\n",
    "        torch.FloatTensor.old_add = torch.FloatTensor.add\n",
    "        \n",
    "    torch.FloatTensor.add = new_add\n",
    "    \n",
    "def hook_float_tensor_serde():\n",
    "    def ser(self, include_data=True):\n",
    "\n",
    "        msg = {}\n",
    "        msg['type'] = 'torch.FloatTensor'\n",
    "        if(include_data):\n",
    "            msg['data'] = self.tolist()\n",
    "        msg['id'] = self.id\n",
    "        msg['owner'] = self.owner.addr\n",
    "        \n",
    "        return json.dumps(msg)\n",
    "\n",
    "    def de(msg):\n",
    "        if(type(msg) == str):\n",
    "            msg = json.loads(msg)\n",
    "        if('data' in msg.keys()):\n",
    "            v = torch.FloatTensor(msg['data'])\n",
    "            v.owner = workers[msg['owner']]\n",
    "        else:\n",
    "            v = torch.zeros(0)\n",
    "            v.owner = workers[msg['owner']]\n",
    "            \n",
    "        v.id = msg['id']\n",
    "        return v\n",
    "\n",
    "    torch.FloatTensor.ser = ser\n",
    "    torch.FloatTensor.de = de \n",
    "    \n",
    "def hook_float_tensor_send():\n",
    "    def send(self,new_owner):\n",
    "        self.owner.send_obj(self,new_owner)\n",
    "        return self\n",
    "\n",
    "    torch.FloatTensor.send = send\n",
    "    \n",
    "def hook_float_tensor_get():\n",
    "    def get(self):\n",
    "        self = me.request_obj(self)\n",
    "        return self\n",
    "    torch.FloatTensor.get = get\n",
    "    \n",
    "def hook_float_tensor_process_command():\n",
    "    def process_command(worker,command):\n",
    "        if(command['command'] == 'add'):\n",
    "            a = worker.objects[int(command['values'][0])]\n",
    "            b = worker.objects[int(command['values'][1])]\n",
    "            c = a.add(b)\n",
    "            return [c.ser(False)]\n",
    "        else:\n",
    "            return \"command not found\"\n",
    "        \"\"\n",
    "        \n",
    "    torch.FloatTensor.process_command = process_command\n",
    "    \n",
    "hook_float_tensor_add()\n",
    "hook_float_tensor___init__()\n",
    "hook_float_tensor_serde()\n",
    "hook_float_tensor_send()\n",
    "hook_float_tensor_process_command()\n",
    "hook_float_tensor_get()"
   ]
  },
  {
   "cell_type": "code",
   "execution_count": null,
   "metadata": {},
   "outputs": [],
   "source": []
  },
  {
   "cell_type": "code",
   "execution_count": 4,
   "metadata": {},
   "outputs": [],
   "source": [
    "a = torch.FloatTensor([1,2,3,4]).send(workers[5])\n",
    "b = torch.FloatTensor([1,1,1,1]).send(workers[5])\n",
    "\n",
    "c = a.add(b).get()"
   ]
  },
  {
   "cell_type": "code",
   "execution_count": 8,
   "metadata": {},
   "outputs": [
    {
     "data": {
      "text/plain": [
       "<__main__.Worker at 0x113da92b0>"
      ]
     },
     "execution_count": 8,
     "metadata": {},
     "output_type": "execute_result"
    }
   ],
   "source": [
    "a.owner"
   ]
  },
  {
   "cell_type": "code",
   "execution_count": 10,
   "metadata": {},
   "outputs": [],
   "source": [
    "d = c.add(b)"
   ]
  },
  {
   "cell_type": "code",
   "execution_count": 11,
   "metadata": {},
   "outputs": [
    {
     "data": {
      "text/plain": [
       "<__main__.Worker at 0x113da9278>"
      ]
     },
     "execution_count": 11,
     "metadata": {},
     "output_type": "execute_result"
    }
   ],
   "source": [
    "d.owner"
   ]
  },
  {
   "cell_type": "code",
   "execution_count": 7,
   "metadata": {},
   "outputs": [
    {
     "data": {
      "text/plain": [
       "\n",
       " 3\n",
       " 4\n",
       " 5\n",
       " 6\n",
       "[torch.FloatTensor of size 4]"
      ]
     },
     "execution_count": 7,
     "metadata": {},
     "output_type": "execute_result"
    }
   ],
   "source": [
    "d"
   ]
  },
  {
   "cell_type": "code",
   "execution_count": null,
   "metadata": {},
   "outputs": [],
   "source": []
  }
 ],
 "metadata": {
  "kernelspec": {
   "display_name": "Python 3",
   "language": "python",
   "name": "python3"
  },
  "language_info": {
   "codemirror_mode": {
    "name": "ipython",
    "version": 3
   },
   "file_extension": ".py",
   "mimetype": "text/x-python",
   "name": "python",
   "nbconvert_exporter": "python",
   "pygments_lexer": "ipython3",
   "version": "3.6.1"
  }
 },
 "nbformat": 4,
 "nbformat_minor": 2
}
