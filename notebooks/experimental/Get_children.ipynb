{
 "cells": [
  {
   "cell_type": "code",
   "execution_count": 215,
   "metadata": {
    "collapsed": false
   },
   "outputs": [],
   "source": [
    "from grid.ipfsapi.client import Client\n",
    "import json\n",
    "import numpy as np\n",
    "import pickle\n",
    "import base64\n",
    "client = Client()"
   ]
  },
  {
   "cell_type": "code",
   "execution_count": 229,
   "metadata": {
    "collapsed": false
   },
   "outputs": [],
   "source": [
    "\"\"\" This module contains an implementation of an IPFS\n",
    "version-control system, which is structured as a directed in-tree with nodes\n",
    "represented by the bytes representation of the VersionTreeNode class. \"\"\"\n",
    "from typing import Optional, Iterator\n",
    "\n",
    "from grid import ipfsapi\n",
    "\n",
    "# TODO: Unit tests.\n",
    "# TODO: Do we want to store the hash on the node after it's been committed?\n",
    "class VersionTreeNode:\n",
    "    \"\"\" Thin wrapper around a piece of IPFS-versioned data and the\n",
    "    IPFS multihash of its parent. \"\"\"\n",
    "    # Delimiter for serializing packed object. Should not be alphanumeric.\n",
    "    DELIMITER = b\"|\"\n",
    "\n",
    "    def __init__(self,\n",
    "                 contents: bytes,\n",
    "                 id_hash: Optional[str] = None,\n",
    "                 parent_hash: Optional[str] = None,\n",
    "                 ipfs_client: ipfsapi.Client = None):\n",
    "        \"\"\" parent_hash is a UTF-8 IPFS multihash identifying\n",
    "        this node's parent in the version tree. If parent_hash is None,\n",
    "        this node is the root of a version tree. \"\"\"\n",
    "        self.contents = contents\n",
    "        # Convert empty string to None to minimize typing bugs.\n",
    "        self.id_hash = id_hash or None\n",
    "        self.parent_hash = parent_hash or None\n",
    "        self.ipfs_client = ipfs_client\n",
    "\n",
    "    def commit(self, ipfs_client: ipfsapi.Client = None) -> str:\n",
    "        \"\"\" Commits the node to the version tree, and returns the\n",
    "        UTF-8 multihash representing its IPFS ID\"\"\"\n",
    "        \n",
    "        self.id_hash = (ipfs_client or self.ipfs_client).add_bytes(self.to_bytes())\n",
    "        return self.id_hash\n",
    "    \n",
    "    @classmethod\n",
    "    def get_node_by_hash(cls,\n",
    "                         multihash: str,\n",
    "                         ipfs_client: ipfsapi.Client) -> \"VersionTreeNode\":\n",
    "        \"\"\" Retrieve and deserialize a VersionTreeNode addressed\n",
    "        by it's UTF-8 multihash IPFS ID. \"\"\"\n",
    "        return cls.from_bytes(ipfs_client.cat(multihash))\n",
    "\n",
    "    def get_with_ancestors(\n",
    "            self,\n",
    "            ipfs_client: ipfsapi.Client = None) -> Iterator[\"VersionTreeNode\"]:\n",
    "        \"\"\" Return an iterator containing this node and all its\n",
    "        direct ancestors in the version tree, in that order. \"\"\"\n",
    "        yield self\n",
    "        parent_hash = self.parent_hash\n",
    "        while parent_hash is not None:\n",
    "            parent_node = self.get_node_by_hash(\n",
    "                parent_hash,\n",
    "                (ipfs_client or self.ipfs_client))\n",
    "            parent_hash = parent_node.parent_hash\n",
    "            yield parent_node\n",
    "\n",
    "    @classmethod\n",
    "    def get_node_with_ancestors_by_hash(\n",
    "            cls,\n",
    "            multihash: str,\n",
    "            ipfs_client: ipfsapi.Client) -> Iterator[\"VersionTreeNode\"]:\n",
    "        \"\"\" Convenience method to get an iterator of the node identified by the\n",
    "        provided UTF-8 IPFS multihash, along with all of its ancestors, in\n",
    "        that order.\"\"\"\n",
    "        return cls.get_node_by_hash(\n",
    "            multihash, ipfs_client).get_with_ancestors(ipfs_client)\n",
    "\n",
    "    def to_bytes(self) -> bytes:\n",
    "        \"\"\" For contents b\"foo\", parent_hash \"bar\", and DELIMITER b\"|\",\n",
    "        returns b\"foo|bar\" \"\"\"\n",
    "        parent_hash_bytes = self.parent_hash.encode(\"utf-8\") if \\\n",
    "            self.parent_hash else \\\n",
    "            b\"\"\n",
    "        id_hash_bytes = self.id_hash.encode(\"utf-8\") if \\\n",
    "            self.id_hash else \\\n",
    "            b\"\"\n",
    "        return self.DELIMITER.join((self.contents, id_hash_bytes, parent_hash_bytes))\n",
    "\n",
    "    @classmethod\n",
    "    def from_bytes(cls, b: bytes) -> \"VersionTreeNode\":\n",
    "        \"\"\" In case the contents section happens to contain the DELIMITER\n",
    "        string, only splits on the final occurrence of DELIMITER. The\n",
    "        multihash is hexadecimal, so it won't contain the non-hex DELIMITER.\"\"\"\n",
    "        contents, id_hash_bytes, parent_hash_bytes = b.rsplit(cls.DELIMITER, maxsplit=1)\n",
    "        return cls(contents, id_hash_bytes.decode(\"utf-8\"), parent_hash_bytes.decode(\"utf-8\"))\n",
    "    \n",
    "    def to_json(self):\n",
    "        message = {'id_hash': self.id_hash, 'parent_hash': self.parent_hash}\n",
    "        return json.dumps(message)\n",
    "    \n",
    "    def publish_children(self, ipfs_client: ipfsapi.Client):\n",
    "        \n",
    "        channel = 'children_of_' + str(self.parent_hash)\n",
    "        \n",
    "        ipfs_client.pubsub_pub(topic = channel, payload=self.to_json())\n",
    "        \n",
    "    def listen_for_children(self, ipfs_client: ipfsapi.Client):\n",
    "        channel = 'children_of_' + str(self.parent_hash)\n",
    "        \n",
    "        new_messages = ipfs_client.pubsub_sub(topic=channel, stream=True)\n",
    "        #message = self.decode_message(new_messages)\n",
    "        \n",
    "        for m in new_messages:\n",
    "            message = self.decode_message(m)\n",
    "            if message is not None:\n",
    "                print(message)\n",
    "        \n",
    "    \n",
    "    def decode_message(self, encoded):\n",
    "        if ('from' in encoded):\n",
    "            decoded = {}\n",
    "            decoded['from'] = base64.standard_b64decode(encoded['from'])\n",
    "            decoded['data'] = base64.standard_b64decode(\n",
    "                encoded['data']).decode('ascii')\n",
    "            decoded['seqno'] = base64.standard_b64decode(encoded['seqno'])\n",
    "            decoded['topicIDs'] = encoded['topicIDs']\n",
    "            decoded['encoded'] = encoded\n",
    "            return decoded\n",
    "        else:\n",
    "            return None "
   ]
  },
  {
   "cell_type": "code",
   "execution_count": 4,
   "metadata": {
    "collapsed": true
   },
   "outputs": [],
   "source": [
    "# When commit publish on channel children of\n",
    "# When commit listen for children\n",
    "# Will have to include in the VersionTreeNode the ipfs address"
   ]
  },
  {
   "cell_type": "code",
   "execution_count": 5,
   "metadata": {
    "collapsed": false
   },
   "outputs": [
    {
     "ename": "IndentationError",
     "evalue": "unindent does not match any outer indentation level (<tokenize>, line 13)",
     "output_type": "error",
     "traceback": [
      "\u001b[0;36m  File \u001b[0;32m\"<tokenize>\"\u001b[0;36m, line \u001b[0;32m13\u001b[0m\n\u001b[0;31m    def request_response(self, channel, message, response_handler, timeout=10):\u001b[0m\n\u001b[0m    ^\u001b[0m\n\u001b[0;31mIndentationError\u001b[0m\u001b[0;31m:\u001b[0m unindent does not match any outer indentation level\n"
     ]
    }
   ],
   "source": [
    "def publish(self, channel, message):\n",
    "        \"\"\"\n",
    "        This method sends a message over an IPFS channel. The number of people\n",
    "        who receive it is purely based on the number of people who happen\n",
    "        to be listening.\n",
    "        \"\"\"\n",
    "\n",
    "        if isinstance(message, dict) or isinstance(message, list):\n",
    "            self.api.pubsub_pub(topic=channel, payload=json.dumps(message))\n",
    "        else:\n",
    "            self.api.pubsub_pub(topic=channel, payload=message)\n",
    "\n",
    "    def request_response(self, channel, message, response_handler, timeout=10):\n",
    "        \"\"\"\n",
    "        This method makes a request over a channel to a specific node and\n",
    "        will hang until it receives a response from that node. Note that\n",
    "        the channel used for the response is random.\n",
    "        \"\"\"\n",
    "\n",
    "        random_channel = self.id + \"_\" + str(random.randint(0, 1e10))\n",
    "\n",
    "        def timeout_message(seconds):\n",
    "            time.sleep(int(seconds))\n",
    "            self.publish(\n",
    "                channel=random_channel,\n",
    "                message=[\"timeout after \" + str(seconds) + \" seconds\"])\n",
    "\n",
    "        def send():\n",
    "            self.publish(channel=channel, message=[message, random_channel])\n",
    "            t1 = Thread(target=timeout_message, args={timeout})\n",
    "            t1.start()\n",
    "\n",
    "        response = self.listen_to_channel_sync(random_channel,\n",
    "                                               response_handler, send)\n",
    "\n",
    "        if (len(response) == 1):\n",
    "            if ('timeout' in response[0]):\n",
    "                raise TimeoutError(response[0])\n",
    "        return response\n",
    "\n",
    "    def listen_to_channel_sync(self, *args):\n",
    "        \"\"\"\n",
    "        Synchronous version of listen_to_channel\n",
    "        \"\"\"\n",
    "\n",
    "        return self.listen_to_channel_impl(*args)\n",
    "\n",
    "    def listen_to_channel(self, *args):\n",
    "        \"\"\"\n",
    "        Listens for IPFS pubsub sub messages asynchronously.\n",
    "        This function will create the listener and call back your handler\n",
    "        function on a new thread.\n",
    "        \"\"\"\n",
    "        t1 = Thread(target=self.listen_to_channel_impl, args=args)\n",
    "        t1.start()\n",
    "\n",
    "    def listen_to_channel_impl(self,\n",
    "                               channel,\n",
    "                               handle_message,\n",
    "                               init_function=None,\n",
    "                               ignore_from_self=False):\n",
    "        \"\"\"\n",
    "        Do not call directly.  Use listen_to_channel or listen_to_channel_sync instead.\n",
    "        \"\"\"\n",
    "\n",
    "        first_proc = True\n",
    "\n",
    "        if channel not in self.subscribed:\n",
    "            new_messages = self.api.pubsub_sub(topic=channel, stream=True)\n",
    "            self.subscribed.append(channel)\n",
    "\n",
    "        else:\n",
    "            return\n",
    "\n",
    "        # new_messages is a generator which will keep yield new messages until\n",
    "        # you return from the loop. If you do return from the loop, we will no\n",
    "        # longer be subscribed.\n",
    "        for m in new_messages:\n",
    "            if init_function is not None and first_proc:\n",
    "                init_function()\n",
    "                first_proc = False\n",
    "\n",
    "            message = self.decode_message(m)\n",
    "            if message is not None:\n",
    "                fr = base58.encode(message['from'])\n",
    "                if not ignore_from_self or fr != self.id:\n",
    "                    out = handle_message(message)\n",
    "                    if out is not None:\n",
    "                        return out\n",
    "                else:\n",
    "                    print('ignore mssage from self')\n",
    "\n",
    "    def decode_message(self, encoded):\n",
    "        if ('from' in encoded):\n",
    "            decoded = {}\n",
    "            decoded['from'] = base64.standard_b64decode(encoded['from'])\n",
    "            decoded['data'] = base64.standard_b64decode(\n",
    "                encoded['data']).decode('ascii')\n",
    "            decoded['seqno'] = base64.standard_b64decode(encoded['seqno'])\n",
    "            decoded['topicIDs'] = encoded['topicIDs']\n",
    "            decoded['encoded'] = encoded\n",
    "            return decoded\n",
    "        else:\n",
    "            return None"
   ]
  },
  {
   "cell_type": "code",
   "execution_count": 230,
   "metadata": {
    "collapsed": false
   },
   "outputs": [],
   "source": [
    "om = 'openmined'\n",
    "\n",
    "#children_of = f'{om}:children_of'\n",
    "def children_of(id):\n",
    "    channel = \"children_of_\" + str(id)\n",
    "    return channel"
   ]
  },
  {
   "cell_type": "code",
   "execution_count": 231,
   "metadata": {
    "collapsed": false
   },
   "outputs": [],
   "source": [
    "import grid.ipfsapi.client"
   ]
  },
  {
   "cell_type": "code",
   "execution_count": 232,
   "metadata": {
    "collapsed": false
   },
   "outputs": [
    {
     "data": {
      "text/plain": [
       "'children_of_4353'"
      ]
     },
     "execution_count": 232,
     "metadata": {},
     "output_type": "execute_result"
    }
   ],
   "source": [
    "children_of(4353)"
   ]
  },
  {
   "cell_type": "code",
   "execution_count": 233,
   "metadata": {
    "collapsed": true
   },
   "outputs": [],
   "source": [
    "message = {'content' : [34,6,624,546], 'parent_id': '4353'}"
   ]
  },
  {
   "cell_type": "code",
   "execution_count": 234,
   "metadata": {
    "collapsed": true
   },
   "outputs": [],
   "source": [
    "c = Client()"
   ]
  },
  {
   "cell_type": "code",
   "execution_count": 235,
   "metadata": {
    "collapsed": false
   },
   "outputs": [
    {
     "data": {
      "text/plain": [
       "[]"
      ]
     },
     "execution_count": 235,
     "metadata": {},
     "output_type": "execute_result"
    }
   ],
   "source": [
    "c.pubsub_pub(topic = children_of(4353), payload=json.dumps(message))"
   ]
  },
  {
   "cell_type": "code",
   "execution_count": 236,
   "metadata": {
    "collapsed": false
   },
   "outputs": [
    {
     "data": {
      "text/plain": [
       "b'\\x80\\x03cnumpy.core.multiarray\\n_reconstruct\\nq\\x00cnumpy\\nndarray\\nq\\x01K\\x00\\x85q\\x02C\\x01bq\\x03\\x87q\\x04Rq\\x05(K\\x01K\\x02\\x85q\\x06cnumpy\\ndtype\\nq\\x07X\\x02\\x00\\x00\\x00i8q\\x08K\\x00K\\x01\\x87q\\tRq\\n(K\\x03X\\x01\\x00\\x00\\x00<q\\x0bNNNJ\\xff\\xff\\xff\\xffJ\\xff\\xff\\xff\\xffK\\x00tq\\x0cb\\x89C\\x10-\\x00\\x00\\x00\\x00\\x00\\x00\\x00d\\x01\\x00\\x00\\x00\\x00\\x00\\x00q\\rtq\\x0eb.'"
      ]
     },
     "execution_count": 236,
     "metadata": {},
     "output_type": "execute_result"
    }
   ],
   "source": [
    "data = np.array([45,356])\n",
    "pickle.dumps(data)"
   ]
  },
  {
   "cell_type": "code",
   "execution_count": 237,
   "metadata": {
    "collapsed": false
   },
   "outputs": [],
   "source": [
    "n1 = VersionTreeNode(contents=pickle.dumps(data),parent_hash='4353',ipfs_client=c)"
   ]
  },
  {
   "cell_type": "code",
   "execution_count": 238,
   "metadata": {
    "collapsed": false
   },
   "outputs": [
    {
     "data": {
      "text/plain": [
       "'{\"id_hash\": null, \"parent_hash\": \"4353\"}'"
      ]
     },
     "execution_count": 238,
     "metadata": {},
     "output_type": "execute_result"
    }
   ],
   "source": [
    "n1.to_json()"
   ]
  },
  {
   "cell_type": "code",
   "execution_count": 239,
   "metadata": {
    "collapsed": false
   },
   "outputs": [
    {
     "data": {
      "text/plain": [
       "'QmW12KVNRP83k4hUaKARWbse32wbocrZvKTgUkKsf8KG1a'"
      ]
     },
     "execution_count": 239,
     "metadata": {},
     "output_type": "execute_result"
    }
   ],
   "source": [
    "n1.commit()"
   ]
  },
  {
   "cell_type": "code",
   "execution_count": 240,
   "metadata": {
    "collapsed": false
   },
   "outputs": [],
   "source": [
    "n1.publish_children(c)"
   ]
  },
  {
   "cell_type": "code",
   "execution_count": 241,
   "metadata": {
    "collapsed": false
   },
   "outputs": [
    {
     "name": "stdout",
     "output_type": "stream",
     "text": [
      "{'from': b'\\x12 @\\x9d\\xbe]8\\xb4R)\\xb7Z\\xfdj\\xfd\\xf41\\xc5\\xf5\\xc4\\x8d;^\\xf3\\xd4\\x12\\xeeZ\\xa40\\x8b\\x9d\\xd8|', 'data': '{\"id_hash\": \"QmW12KVNRP83k4hUaKARWbse32wbocrZvKTgUkKsf8KG1a\", \"parent_hash\": \"4353\"}', 'seqno': b\"\\x15!\\xca\\xef\\xca\\xd9('\", 'topicIDs': ['children_of_4353'], 'encoded': {'from': 'EiBAnb5dOLRSKbda/Wr99DHF9cSNO17z1BLuWqQwi53YfA==', 'data': 'eyJpZF9oYXNoIjogIlFtVzEyS1ZOUlA4M2s0aFVhS0FSV2JzZTMyd2JvY3JadktUZ1VrS3NmOEtHMWEiLCAicGFyZW50X2hhc2giOiAiNDM1MyJ9', 'seqno': 'FSHK78rZKCc=', 'topicIDs': ['children_of_4353']}}\n",
      "{'from': b'\\x12 @\\x9d\\xbe]8\\xb4R)\\xb7Z\\xfdj\\xfd\\xf41\\xc5\\xf5\\xc4\\x8d;^\\xf3\\xd4\\x12\\xeeZ\\xa40\\x8b\\x9d\\xd8|', 'data': '{\"id_hash\": \"QmW12KVNRP83k4hUaKARWbse32wbocrZvKTgUkKsf8KG1a\", \"parent_hash\": \"4353\"}', 'seqno': b'\\x15!\\xcb:\\x06\\x82,\\xf1', 'topicIDs': ['children_of_4353'], 'encoded': {'from': 'EiBAnb5dOLRSKbda/Wr99DHF9cSNO17z1BLuWqQwi53YfA==', 'data': 'eyJpZF9oYXNoIjogIlFtVzEyS1ZOUlA4M2s0aFVhS0FSV2JzZTMyd2JvY3JadktUZ1VrS3NmOEtHMWEiLCAicGFyZW50X2hhc2giOiAiNDM1MyJ9', 'seqno': 'FSHLOgaCLPE=', 'topicIDs': ['children_of_4353']}}\n",
      "{'from': b'\\x12 @\\x9d\\xbe]8\\xb4R)\\xb7Z\\xfdj\\xfd\\xf41\\xc5\\xf5\\xc4\\x8d;^\\xf3\\xd4\\x12\\xeeZ\\xa40\\x8b\\x9d\\xd8|', 'data': '{\"content\": [34, 6, 624, 546], \"parent_id\": \"4353\"}', 'seqno': b'\\x15!\\xcb\\xaaW\\xa0\\xeb\\xad', 'topicIDs': ['children_of_4353'], 'encoded': {'from': 'EiBAnb5dOLRSKbda/Wr99DHF9cSNO17z1BLuWqQwi53YfA==', 'data': 'eyJjb250ZW50IjogWzM0LCA2LCA2MjQsIDU0Nl0sICJwYXJlbnRfaWQiOiAiNDM1MyJ9', 'seqno': 'FSHLqleg660=', 'topicIDs': ['children_of_4353']}}\n",
      "{'from': b'\\x12 @\\x9d\\xbe]8\\xb4R)\\xb7Z\\xfdj\\xfd\\xf41\\xc5\\xf5\\xc4\\x8d;^\\xf3\\xd4\\x12\\xeeZ\\xa40\\x8b\\x9d\\xd8|', 'data': '{\"id_hash\": \"QmW12KVNRP83k4hUaKARWbse32wbocrZvKTgUkKsf8KG1a\", \"parent_hash\": \"4353\"}', 'seqno': b'\\x15!\\xcb\\xab\\x92\\xb1\"\\x88', 'topicIDs': ['children_of_4353'], 'encoded': {'from': 'EiBAnb5dOLRSKbda/Wr99DHF9cSNO17z1BLuWqQwi53YfA==', 'data': 'eyJpZF9oYXNoIjogIlFtVzEyS1ZOUlA4M2s0aFVhS0FSV2JzZTMyd2JvY3JadktUZ1VrS3NmOEtHMWEiLCAicGFyZW50X2hhc2giOiAiNDM1MyJ9', 'seqno': 'FSHLq5KxIog=', 'topicIDs': ['children_of_4353']}}\n",
      "{'from': b'\\x12 @\\x9d\\xbe]8\\xb4R)\\xb7Z\\xfdj\\xfd\\xf41\\xc5\\xf5\\xc4\\x8d;^\\xf3\\xd4\\x12\\xeeZ\\xa40\\x8b\\x9d\\xd8|', 'data': '{\"content\": [34, 6, 624, 546], \"parent_id\": \"4353\"}', 'seqno': b'\\x15!\\xcb\\xb9\\x80^\\xdd\\xaa', 'topicIDs': ['children_of_4353'], 'encoded': {'from': 'EiBAnb5dOLRSKbda/Wr99DHF9cSNO17z1BLuWqQwi53YfA==', 'data': 'eyJjb250ZW50IjogWzM0LCA2LCA2MjQsIDU0Nl0sICJwYXJlbnRfaWQiOiAiNDM1MyJ9', 'seqno': 'FSHLuYBe3ao=', 'topicIDs': ['children_of_4353']}}\n",
      "{'from': b'\\x12 @\\x9d\\xbe]8\\xb4R)\\xb7Z\\xfdj\\xfd\\xf41\\xc5\\xf5\\xc4\\x8d;^\\xf3\\xd4\\x12\\xeeZ\\xa40\\x8b\\x9d\\xd8|', 'data': '{\"id_hash\": \"QmW12KVNRP83k4hUaKARWbse32wbocrZvKTgUkKsf8KG1a\", \"parent_hash\": \"4353\"}', 'seqno': b'\\x15!\\xcb\\xba$\\xbfR\\x96', 'topicIDs': ['children_of_4353'], 'encoded': {'from': 'EiBAnb5dOLRSKbda/Wr99DHF9cSNO17z1BLuWqQwi53YfA==', 'data': 'eyJpZF9oYXNoIjogIlFtVzEyS1ZOUlA4M2s0aFVhS0FSV2JzZTMyd2JvY3JadktUZ1VrS3NmOEtHMWEiLCAicGFyZW50X2hhc2giOiAiNDM1MyJ9', 'seqno': 'FSHLuiS/UpY=', 'topicIDs': ['children_of_4353']}}\n",
      "{'from': b'\\x12 @\\x9d\\xbe]8\\xb4R)\\xb7Z\\xfdj\\xfd\\xf41\\xc5\\xf5\\xc4\\x8d;^\\xf3\\xd4\\x12\\xeeZ\\xa40\\x8b\\x9d\\xd8|', 'data': '{\"content\": [34, 6, 624, 546], \"parent_id\": \"4353\"}', 'seqno': b'\\x15!\\xcb\\xdd\\n\\xeai\\xa8', 'topicIDs': ['children_of_4353'], 'encoded': {'from': 'EiBAnb5dOLRSKbda/Wr99DHF9cSNO17z1BLuWqQwi53YfA==', 'data': 'eyJjb250ZW50IjogWzM0LCA2LCA2MjQsIDU0Nl0sICJwYXJlbnRfaWQiOiAiNDM1MyJ9', 'seqno': 'FSHL3Qrqaag=', 'topicIDs': ['children_of_4353']}}\n",
      "{'from': b'\\x12 @\\x9d\\xbe]8\\xb4R)\\xb7Z\\xfdj\\xfd\\xf41\\xc5\\xf5\\xc4\\x8d;^\\xf3\\xd4\\x12\\xeeZ\\xa40\\x8b\\x9d\\xd8|', 'data': '{\"id_hash\": \"QmW12KVNRP83k4hUaKARWbse32wbocrZvKTgUkKsf8KG1a\", \"parent_hash\": \"4353\"}', 'seqno': b'\\x15!\\xcb\\xdd^\\xcc[f', 'topicIDs': ['children_of_4353'], 'encoded': {'from': 'EiBAnb5dOLRSKbda/Wr99DHF9cSNO17z1BLuWqQwi53YfA==', 'data': 'eyJpZF9oYXNoIjogIlFtVzEyS1ZOUlA4M2s0aFVhS0FSV2JzZTMyd2JvY3JadktUZ1VrS3NmOEtHMWEiLCAicGFyZW50X2hhc2giOiAiNDM1MyJ9', 'seqno': 'FSHL3V7MW2Y=', 'topicIDs': ['children_of_4353']}}\n",
      "{'from': b'\\x12 @\\x9d\\xbe]8\\xb4R)\\xb7Z\\xfdj\\xfd\\xf41\\xc5\\xf5\\xc4\\x8d;^\\xf3\\xd4\\x12\\xeeZ\\xa40\\x8b\\x9d\\xd8|', 'data': '{\"content\": [34, 6, 624, 546], \"parent_id\": \"4353\"}', 'seqno': b'\\x15!\\xcb\\xe9\\xfc\\xa7Ke', 'topicIDs': ['children_of_4353'], 'encoded': {'from': 'EiBAnb5dOLRSKbda/Wr99DHF9cSNO17z1BLuWqQwi53YfA==', 'data': 'eyJjb250ZW50IjogWzM0LCA2LCA2MjQsIDU0Nl0sICJwYXJlbnRfaWQiOiAiNDM1MyJ9', 'seqno': 'FSHL6fynS2U=', 'topicIDs': ['children_of_4353']}}\n",
      "{'from': b'\\x12 @\\x9d\\xbe]8\\xb4R)\\xb7Z\\xfdj\\xfd\\xf41\\xc5\\xf5\\xc4\\x8d;^\\xf3\\xd4\\x12\\xeeZ\\xa40\\x8b\\x9d\\xd8|', 'data': '{\"id_hash\": \"QmW12KVNRP83k4hUaKARWbse32wbocrZvKTgUkKsf8KG1a\", \"parent_hash\": \"4353\"}', 'seqno': b'\\x15!\\xcb\\xea\\x82#t\\xa1', 'topicIDs': ['children_of_4353'], 'encoded': {'from': 'EiBAnb5dOLRSKbda/Wr99DHF9cSNO17z1BLuWqQwi53YfA==', 'data': 'eyJpZF9oYXNoIjogIlFtVzEyS1ZOUlA4M2s0aFVhS0FSV2JzZTMyd2JvY3JadktUZ1VrS3NmOEtHMWEiLCAicGFyZW50X2hhc2giOiAiNDM1MyJ9', 'seqno': 'FSHL6oIjdKE=', 'topicIDs': ['children_of_4353']}}\n",
      "{'from': b'\\x12 @\\x9d\\xbe]8\\xb4R)\\xb7Z\\xfdj\\xfd\\xf41\\xc5\\xf5\\xc4\\x8d;^\\xf3\\xd4\\x12\\xeeZ\\xa40\\x8b\\x9d\\xd8|', 'data': '{\"content\": [34, 6, 624, 546], \"parent_id\": \"4353\"}', 'seqno': b'\\x15!\\xcb\\xf7H\\xaf\\xf9\\xad', 'topicIDs': ['children_of_4353'], 'encoded': {'from': 'EiBAnb5dOLRSKbda/Wr99DHF9cSNO17z1BLuWqQwi53YfA==', 'data': 'eyJjb250ZW50IjogWzM0LCA2LCA2MjQsIDU0Nl0sICJwYXJlbnRfaWQiOiAiNDM1MyJ9', 'seqno': 'FSHL90iv+a0=', 'topicIDs': ['children_of_4353']}}\n",
      "{'from': b'\\x12 @\\x9d\\xbe]8\\xb4R)\\xb7Z\\xfdj\\xfd\\xf41\\xc5\\xf5\\xc4\\x8d;^\\xf3\\xd4\\x12\\xeeZ\\xa40\\x8b\\x9d\\xd8|', 'data': '{\"id_hash\": \"QmW12KVNRP83k4hUaKARWbse32wbocrZvKTgUkKsf8KG1a\", \"parent_hash\": \"4353\"}', 'seqno': b'\\x15!\\xcb\\xf7\\x93{\\xa9\\xec', 'topicIDs': ['children_of_4353'], 'encoded': {'from': 'EiBAnb5dOLRSKbda/Wr99DHF9cSNO17z1BLuWqQwi53YfA==', 'data': 'eyJpZF9oYXNoIjogIlFtVzEyS1ZOUlA4M2s0aFVhS0FSV2JzZTMyd2JvY3JadktUZ1VrS3NmOEtHMWEiLCAicGFyZW50X2hhc2giOiAiNDM1MyJ9', 'seqno': 'FSHL95N7qew=', 'topicIDs': ['children_of_4353']}}\n",
      "{'from': b'\\x12 @\\x9d\\xbe]8\\xb4R)\\xb7Z\\xfdj\\xfd\\xf41\\xc5\\xf5\\xc4\\x8d;^\\xf3\\xd4\\x12\\xeeZ\\xa40\\x8b\\x9d\\xd8|', 'data': '{\"content\": [34, 6, 624, 546], \"parent_id\": \"4353\"}', 'seqno': b'\\x15!\\xcc\\x0b\\x05 \\xc0!', 'topicIDs': ['children_of_4353'], 'encoded': {'from': 'EiBAnb5dOLRSKbda/Wr99DHF9cSNO17z1BLuWqQwi53YfA==', 'data': 'eyJjb250ZW50IjogWzM0LCA2LCA2MjQsIDU0Nl0sICJwYXJlbnRfaWQiOiAiNDM1MyJ9', 'seqno': 'FSHMCwUgwCE=', 'topicIDs': ['children_of_4353']}}\n",
      "{'from': b'\\x12 @\\x9d\\xbe]8\\xb4R)\\xb7Z\\xfdj\\xfd\\xf41\\xc5\\xf5\\xc4\\x8d;^\\xf3\\xd4\\x12\\xeeZ\\xa40\\x8b\\x9d\\xd8|', 'data': '{\"id_hash\": \"QmW12KVNRP83k4hUaKARWbse32wbocrZvKTgUkKsf8KG1a\", \"parent_hash\": \"4353\"}', 'seqno': b'\\x15!\\xcc\\x0bft1\\xda', 'topicIDs': ['children_of_4353'], 'encoded': {'from': 'EiBAnb5dOLRSKbda/Wr99DHF9cSNO17z1BLuWqQwi53YfA==', 'data': 'eyJpZF9oYXNoIjogIlFtVzEyS1ZOUlA4M2s0aFVhS0FSV2JzZTMyd2JvY3JadktUZ1VrS3NmOEtHMWEiLCAicGFyZW50X2hhc2giOiAiNDM1MyJ9', 'seqno': 'FSHMC2Z0Mdo=', 'topicIDs': ['children_of_4353']}}\n",
      "{'from': b'\\x12 @\\x9d\\xbe]8\\xb4R)\\xb7Z\\xfdj\\xfd\\xf41\\xc5\\xf5\\xc4\\x8d;^\\xf3\\xd4\\x12\\xeeZ\\xa40\\x8b\\x9d\\xd8|', 'data': '{\"content\": [34, 6, 624, 546], \"parent_id\": \"4353\"}', 'seqno': b'\\x15!\\xcc-\\x9a\\xe1`\\x08', 'topicIDs': ['children_of_4353'], 'encoded': {'from': 'EiBAnb5dOLRSKbda/Wr99DHF9cSNO17z1BLuWqQwi53YfA==', 'data': 'eyJjb250ZW50IjogWzM0LCA2LCA2MjQsIDU0Nl0sICJwYXJlbnRfaWQiOiAiNDM1MyJ9', 'seqno': 'FSHMLZrhYAg=', 'topicIDs': ['children_of_4353']}}\n",
      "{'from': b'\\x12 @\\x9d\\xbe]8\\xb4R)\\xb7Z\\xfdj\\xfd\\xf41\\xc5\\xf5\\xc4\\x8d;^\\xf3\\xd4\\x12\\xeeZ\\xa40\\x8b\\x9d\\xd8|', 'data': '{\"id_hash\": \"QmW12KVNRP83k4hUaKARWbse32wbocrZvKTgUkKsf8KG1a\", \"parent_hash\": \"4353\"}', 'seqno': b'\\x15!\\xcc.)\\xa7\\xd9,', 'topicIDs': ['children_of_4353'], 'encoded': {'from': 'EiBAnb5dOLRSKbda/Wr99DHF9cSNO17z1BLuWqQwi53YfA==', 'data': 'eyJpZF9oYXNoIjogIlFtVzEyS1ZOUlA4M2s0aFVhS0FSV2JzZTMyd2JvY3JadktUZ1VrS3NmOEtHMWEiLCAicGFyZW50X2hhc2giOiAiNDM1MyJ9', 'seqno': 'FSHMLimn2Sw=', 'topicIDs': ['children_of_4353']}}\n",
      "{'from': b'\\x12 @\\x9d\\xbe]8\\xb4R)\\xb7Z\\xfdj\\xfd\\xf41\\xc5\\xf5\\xc4\\x8d;^\\xf3\\xd4\\x12\\xeeZ\\xa40\\x8b\\x9d\\xd8|', 'data': '{\"id_hash\": \"QmW12KVNRP83k4hUaKARWbse32wbocrZvKTgUkKsf8KG1a\", \"parent_hash\": \"4353\"}', 'seqno': b'\\x15!\\xcc7>\\xa1_\\x0c', 'topicIDs': ['children_of_4353'], 'encoded': {'from': 'EiBAnb5dOLRSKbda/Wr99DHF9cSNO17z1BLuWqQwi53YfA==', 'data': 'eyJpZF9oYXNoIjogIlFtVzEyS1ZOUlA4M2s0aFVhS0FSV2JzZTMyd2JvY3JadktUZ1VrS3NmOEtHMWEiLCAicGFyZW50X2hhc2giOiAiNDM1MyJ9', 'seqno': 'FSHMNz6hXww=', 'topicIDs': ['children_of_4353']}}\n",
      "{'from': b'\\x12 @\\x9d\\xbe]8\\xb4R)\\xb7Z\\xfdj\\xfd\\xf41\\xc5\\xf5\\xc4\\x8d;^\\xf3\\xd4\\x12\\xeeZ\\xa40\\x8b\\x9d\\xd8|', 'data': '{\"id_hash\": \"QmW12KVNRP83k4hUaKARWbse32wbocrZvKTgUkKsf8KG1a\", \"parent_hash\": \"4353\"}', 'seqno': b'\\x15!\\xcc<\\x17G\\x15\\xa7', 'topicIDs': ['children_of_4353'], 'encoded': {'from': 'EiBAnb5dOLRSKbda/Wr99DHF9cSNO17z1BLuWqQwi53YfA==', 'data': 'eyJpZF9oYXNoIjogIlFtVzEyS1ZOUlA4M2s0aFVhS0FSV2JzZTMyd2JvY3JadktUZ1VrS3NmOEtHMWEiLCAicGFyZW50X2hhc2giOiAiNDM1MyJ9', 'seqno': 'FSHMPBdHFac=', 'topicIDs': ['children_of_4353']}}\n",
      "{'from': b'\\x12 @\\x9d\\xbe]8\\xb4R)\\xb7Z\\xfdj\\xfd\\xf41\\xc5\\xf5\\xc4\\x8d;^\\xf3\\xd4\\x12\\xeeZ\\xa40\\x8b\\x9d\\xd8|', 'data': '{\"content\": [34, 6, 624, 546], \"parent_id\": \"4353\"}', 'seqno': b'\\x15!\\xcc\\\\h\\x1fa\\xb8', 'topicIDs': ['children_of_4353'], 'encoded': {'from': 'EiBAnb5dOLRSKbda/Wr99DHF9cSNO17z1BLuWqQwi53YfA==', 'data': 'eyJjb250ZW50IjogWzM0LCA2LCA2MjQsIDU0Nl0sICJwYXJlbnRfaWQiOiAiNDM1MyJ9', 'seqno': 'FSHMXGgfYbg=', 'topicIDs': ['children_of_4353']}}\n",
      "{'from': b'\\x12 @\\x9d\\xbe]8\\xb4R)\\xb7Z\\xfdj\\xfd\\xf41\\xc5\\xf5\\xc4\\x8d;^\\xf3\\xd4\\x12\\xeeZ\\xa40\\x8b\\x9d\\xd8|', 'data': '{\"id_hash\": \"QmW12KVNRP83k4hUaKARWbse32wbocrZvKTgUkKsf8KG1a\", \"parent_hash\": \"4353\"}', 'seqno': b'\\x15!\\xcc] h\\xcco', 'topicIDs': ['children_of_4353'], 'encoded': {'from': 'EiBAnb5dOLRSKbda/Wr99DHF9cSNO17z1BLuWqQwi53YfA==', 'data': 'eyJpZF9oYXNoIjogIlFtVzEyS1ZOUlA4M2s0aFVhS0FSV2JzZTMyd2JvY3JadktUZ1VrS3NmOEtHMWEiLCAicGFyZW50X2hhc2giOiAiNDM1MyJ9', 'seqno': 'FSHMXSBozG8=', 'topicIDs': ['children_of_4353']}}\n",
      "{'from': b'\\x12 @\\x9d\\xbe]8\\xb4R)\\xb7Z\\xfdj\\xfd\\xf41\\xc5\\xf5\\xc4\\x8d;^\\xf3\\xd4\\x12\\xeeZ\\xa40\\x8b\\x9d\\xd8|', 'data': '{\"id_hash\": \"QmW12KVNRP83k4hUaKARWbse32wbocrZvKTgUkKsf8KG1a\", \"parent_hash\": \"4353\"}', 'seqno': b'\\x15!\\xcc^\\x8bmgv', 'topicIDs': ['children_of_4353'], 'encoded': {'from': 'EiBAnb5dOLRSKbda/Wr99DHF9cSNO17z1BLuWqQwi53YfA==', 'data': 'eyJpZF9oYXNoIjogIlFtVzEyS1ZOUlA4M2s0aFVhS0FSV2JzZTMyd2JvY3JadktUZ1VrS3NmOEtHMWEiLCAicGFyZW50X2hhc2giOiAiNDM1MyJ9', 'seqno': 'FSHMXottZ3Y=', 'topicIDs': ['children_of_4353']}}\n",
      "{'from': b'\\x12 @\\x9d\\xbe]8\\xb4R)\\xb7Z\\xfdj\\xfd\\xf41\\xc5\\xf5\\xc4\\x8d;^\\xf3\\xd4\\x12\\xeeZ\\xa40\\x8b\\x9d\\xd8|', 'data': '{\"id_hash\": \"QmW12KVNRP83k4hUaKARWbse32wbocrZvKTgUkKsf8KG1a\", \"parent_hash\": \"4353\"}', 'seqno': b'\\x15!\\xcca\\xffp\"O', 'topicIDs': ['children_of_4353'], 'encoded': {'from': 'EiBAnb5dOLRSKbda/Wr99DHF9cSNO17z1BLuWqQwi53YfA==', 'data': 'eyJpZF9oYXNoIjogIlFtVzEyS1ZOUlA4M2s0aFVhS0FSV2JzZTMyd2JvY3JadktUZ1VrS3NmOEtHMWEiLCAicGFyZW50X2hhc2giOiAiNDM1MyJ9', 'seqno': 'FSHMYf9wIk8=', 'topicIDs': ['children_of_4353']}}\n",
      "{'from': b'\\x12 @\\x9d\\xbe]8\\xb4R)\\xb7Z\\xfdj\\xfd\\xf41\\xc5\\xf5\\xc4\\x8d;^\\xf3\\xd4\\x12\\xeeZ\\xa40\\x8b\\x9d\\xd8|', 'data': '{\"content\": [34, 6, 624, 546], \"parent_id\": \"4353\"}', 'seqno': b'\\x15!\\xcci\\xfd\\xc4\\x83`', 'topicIDs': ['children_of_4353'], 'encoded': {'from': 'EiBAnb5dOLRSKbda/Wr99DHF9cSNO17z1BLuWqQwi53YfA==', 'data': 'eyJjb250ZW50IjogWzM0LCA2LCA2MjQsIDU0Nl0sICJwYXJlbnRfaWQiOiAiNDM1MyJ9', 'seqno': 'FSHMaf3Eg2A=', 'topicIDs': ['children_of_4353']}}\n",
      "{'from': b'\\x12 @\\x9d\\xbe]8\\xb4R)\\xb7Z\\xfdj\\xfd\\xf41\\xc5\\xf5\\xc4\\x8d;^\\xf3\\xd4\\x12\\xeeZ\\xa40\\x8b\\x9d\\xd8|', 'data': '{\"id_hash\": \"QmW12KVNRP83k4hUaKARWbse32wbocrZvKTgUkKsf8KG1a\", \"parent_hash\": \"4353\"}', 'seqno': b'\\x15!\\xccj\\xe7R\\r\\xd5', 'topicIDs': ['children_of_4353'], 'encoded': {'from': 'EiBAnb5dOLRSKbda/Wr99DHF9cSNO17z1BLuWqQwi53YfA==', 'data': 'eyJpZF9oYXNoIjogIlFtVzEyS1ZOUlA4M2s0aFVhS0FSV2JzZTMyd2JvY3JadktUZ1VrS3NmOEtHMWEiLCAicGFyZW50X2hhc2giOiAiNDM1MyJ9', 'seqno': 'FSHMaudSDdU=', 'topicIDs': ['children_of_4353']}}\n",
      "{'from': b'\\x12 @\\x9d\\xbe]8\\xb4R)\\xb7Z\\xfdj\\xfd\\xf41\\xc5\\xf5\\xc4\\x8d;^\\xf3\\xd4\\x12\\xeeZ\\xa40\\x8b\\x9d\\xd8|', 'data': '{\"id_hash\": \"QmW12KVNRP83k4hUaKARWbse32wbocrZvKTgUkKsf8KG1a\", \"parent_hash\": \"4353\"}', 'seqno': b'\\x15!\\xccl3\\xc11W', 'topicIDs': ['children_of_4353'], 'encoded': {'from': 'EiBAnb5dOLRSKbda/Wr99DHF9cSNO17z1BLuWqQwi53YfA==', 'data': 'eyJpZF9oYXNoIjogIlFtVzEyS1ZOUlA4M2s0aFVhS0FSV2JzZTMyd2JvY3JadktUZ1VrS3NmOEtHMWEiLCAicGFyZW50X2hhc2giOiAiNDM1MyJ9', 'seqno': 'FSHMbDPBMVc=', 'topicIDs': ['children_of_4353']}}\n",
      "{'from': b'\\x12 @\\x9d\\xbe]8\\xb4R)\\xb7Z\\xfdj\\xfd\\xf41\\xc5\\xf5\\xc4\\x8d;^\\xf3\\xd4\\x12\\xeeZ\\xa40\\x8b\\x9d\\xd8|', 'data': '{\"id_hash\": \"QmW12KVNRP83k4hUaKARWbse32wbocrZvKTgUkKsf8KG1a\", \"parent_hash\": \"4353\"}', 'seqno': b'\\x15!\\xccm\\xc5\\xb8\\xec\"', 'topicIDs': ['children_of_4353'], 'encoded': {'from': 'EiBAnb5dOLRSKbda/Wr99DHF9cSNO17z1BLuWqQwi53YfA==', 'data': 'eyJpZF9oYXNoIjogIlFtVzEyS1ZOUlA4M2s0aFVhS0FSV2JzZTMyd2JvY3JadktUZ1VrS3NmOEtHMWEiLCAicGFyZW50X2hhc2giOiAiNDM1MyJ9', 'seqno': 'FSHMbcW47CI=', 'topicIDs': ['children_of_4353']}}\n",
      "{'from': b'\\x12 @\\x9d\\xbe]8\\xb4R)\\xb7Z\\xfdj\\xfd\\xf41\\xc5\\xf5\\xc4\\x8d;^\\xf3\\xd4\\x12\\xeeZ\\xa40\\x8b\\x9d\\xd8|', 'data': '{\"id_hash\": \"QmW12KVNRP83k4hUaKARWbse32wbocrZvKTgUkKsf8KG1a\", \"parent_hash\": \"4353\"}', 'seqno': b'\\x15!\\xccz\\x03O\\x19\\xed', 'topicIDs': ['children_of_4353'], 'encoded': {'from': 'EiBAnb5dOLRSKbda/Wr99DHF9cSNO17z1BLuWqQwi53YfA==', 'data': 'eyJpZF9oYXNoIjogIlFtVzEyS1ZOUlA4M2s0aFVhS0FSV2JzZTMyd2JvY3JadktUZ1VrS3NmOEtHMWEiLCAicGFyZW50X2hhc2giOiAiNDM1MyJ9', 'seqno': 'FSHMegNPGe0=', 'topicIDs': ['children_of_4353']}}\n",
      "{'from': b'\\x12 @\\x9d\\xbe]8\\xb4R)\\xb7Z\\xfdj\\xfd\\xf41\\xc5\\xf5\\xc4\\x8d;^\\xf3\\xd4\\x12\\xeeZ\\xa40\\x8b\\x9d\\xd8|', 'data': '{\"id_hash\": \"QmXBof6uxEcvWXCdrnas6ewxTxZHNzEUHrNgBY9A5hThTp\", \"parent_hash\": \"4353\"}', 'seqno': b'\\x15!\\xcc\\x82\\xcd \\xa2\\x10', 'topicIDs': ['children_of_4353'], 'encoded': {'from': 'EiBAnb5dOLRSKbda/Wr99DHF9cSNO17z1BLuWqQwi53YfA==', 'data': 'eyJpZF9oYXNoIjogIlFtWEJvZjZ1eEVjdldYQ2RybmFzNmV3eFR4WkhOekVVSHJOZ0JZOUE1aFRoVHAiLCAicGFyZW50X2hhc2giOiAiNDM1MyJ9', 'seqno': 'FSHMgs0gohA=', 'topicIDs': ['children_of_4353']}}\n",
      "{'from': b'\\x12 @\\x9d\\xbe]8\\xb4R)\\xb7Z\\xfdj\\xfd\\xf41\\xc5\\xf5\\xc4\\x8d;^\\xf3\\xd4\\x12\\xeeZ\\xa40\\x8b\\x9d\\xd8|', 'data': '{\"id_hash\": \"QmXBof6uxEcvWXCdrnas6ewxTxZHNzEUHrNgBY9A5hThTp\", \"parent_hash\": \"4353\"}', 'seqno': b'\\x15!\\xcc\\x85X\\x80\\xb4~', 'topicIDs': ['children_of_4353'], 'encoded': {'from': 'EiBAnb5dOLRSKbda/Wr99DHF9cSNO17z1BLuWqQwi53YfA==', 'data': 'eyJpZF9oYXNoIjogIlFtWEJvZjZ1eEVjdldYQ2RybmFzNmV3eFR4WkhOekVVSHJOZ0JZOUE1aFRoVHAiLCAicGFyZW50X2hhc2giOiAiNDM1MyJ9', 'seqno': 'FSHMhViAtH4=', 'topicIDs': ['children_of_4353']}}\n"
     ]
    },
    {
     "ename": "KeyboardInterrupt",
     "evalue": "",
     "output_type": "error",
     "traceback": [
      "\u001b[0;31m---------------------------------------------------------------------------\u001b[0m",
      "\u001b[0;31mKeyboardInterrupt\u001b[0m                         Traceback (most recent call last)",
      "\u001b[0;32m<ipython-input-241-6ed52451578e>\u001b[0m in \u001b[0;36m<module>\u001b[0;34m()\u001b[0m\n\u001b[0;32m----> 1\u001b[0;31m \u001b[0mn1\u001b[0m\u001b[0;34m.\u001b[0m\u001b[0mlisten_for_children\u001b[0m\u001b[0;34m(\u001b[0m\u001b[0mc\u001b[0m\u001b[0;34m)\u001b[0m\u001b[0;34m\u001b[0m\u001b[0m\n\u001b[0m",
      "\u001b[0;32m<ipython-input-229-96b74e654494>\u001b[0m in \u001b[0;36mlisten_for_children\u001b[0;34m(self, ipfs_client)\u001b[0m\n\u001b[1;32m     99\u001b[0m         \u001b[0;31m#message = self.decode_message(new_messages)\u001b[0m\u001b[0;34m\u001b[0m\u001b[0;34m\u001b[0m\u001b[0m\n\u001b[1;32m    100\u001b[0m \u001b[0;34m\u001b[0m\u001b[0m\n\u001b[0;32m--> 101\u001b[0;31m         \u001b[0;32mfor\u001b[0m \u001b[0mm\u001b[0m \u001b[0;32min\u001b[0m \u001b[0mnew_messages\u001b[0m\u001b[0;34m:\u001b[0m\u001b[0;34m\u001b[0m\u001b[0m\n\u001b[0m\u001b[1;32m    102\u001b[0m             \u001b[0mmessage\u001b[0m \u001b[0;34m=\u001b[0m \u001b[0mself\u001b[0m\u001b[0;34m.\u001b[0m\u001b[0mdecode_message\u001b[0m\u001b[0;34m(\u001b[0m\u001b[0mm\u001b[0m\u001b[0;34m)\u001b[0m\u001b[0;34m\u001b[0m\u001b[0m\n\u001b[1;32m    103\u001b[0m             \u001b[0;32mif\u001b[0m \u001b[0mmessage\u001b[0m \u001b[0;32mis\u001b[0m \u001b[0;32mnot\u001b[0m \u001b[0;32mNone\u001b[0m\u001b[0;34m:\u001b[0m\u001b[0;34m\u001b[0m\u001b[0m\n",
      "\u001b[0;32m~/anaconda2/envs/openmined2/lib/python3.6/site-packages/grid-0.1.0-py3.6.egg/grid/ipfsapi/http.py\u001b[0m in \u001b[0;36mstream_decode\u001b[0;34m()\u001b[0m\n\u001b[1;32m    106\u001b[0m             \u001b[0;31m# Decode each item as it is read\u001b[0m\u001b[0;34m\u001b[0m\u001b[0;34m\u001b[0m\u001b[0m\n\u001b[1;32m    107\u001b[0m             \u001b[0;32mdef\u001b[0m \u001b[0mstream_decode\u001b[0m\u001b[0;34m(\u001b[0m\u001b[0;34m)\u001b[0m\u001b[0;34m:\u001b[0m\u001b[0;34m\u001b[0m\u001b[0m\n\u001b[0;32m--> 108\u001b[0;31m                 \u001b[0;32mfor\u001b[0m \u001b[0mdata\u001b[0m \u001b[0;32min\u001b[0m \u001b[0mres\u001b[0m\u001b[0;34m:\u001b[0m\u001b[0;34m\u001b[0m\u001b[0m\n\u001b[0m\u001b[1;32m    109\u001b[0m                     \u001b[0;32mfor\u001b[0m \u001b[0mresult\u001b[0m \u001b[0;32min\u001b[0m \u001b[0mparser\u001b[0m\u001b[0;34m.\u001b[0m\u001b[0mparse_partial\u001b[0m\u001b[0;34m(\u001b[0m\u001b[0mdata\u001b[0m\u001b[0;34m)\u001b[0m\u001b[0;34m:\u001b[0m\u001b[0;34m\u001b[0m\u001b[0m\n\u001b[1;32m    110\u001b[0m                         \u001b[0;32myield\u001b[0m \u001b[0mresult\u001b[0m\u001b[0;34m\u001b[0m\u001b[0m\n",
      "\u001b[0;32m~/anaconda2/envs/openmined2/lib/python3.6/site-packages/requests/models.py\u001b[0m in \u001b[0;36mgenerate\u001b[0;34m()\u001b[0m\n\u001b[1;32m    743\u001b[0m             \u001b[0;32mif\u001b[0m \u001b[0mhasattr\u001b[0m\u001b[0;34m(\u001b[0m\u001b[0mself\u001b[0m\u001b[0;34m.\u001b[0m\u001b[0mraw\u001b[0m\u001b[0;34m,\u001b[0m \u001b[0;34m'stream'\u001b[0m\u001b[0;34m)\u001b[0m\u001b[0;34m:\u001b[0m\u001b[0;34m\u001b[0m\u001b[0m\n\u001b[1;32m    744\u001b[0m                 \u001b[0;32mtry\u001b[0m\u001b[0;34m:\u001b[0m\u001b[0;34m\u001b[0m\u001b[0m\n\u001b[0;32m--> 745\u001b[0;31m                     \u001b[0;32mfor\u001b[0m \u001b[0mchunk\u001b[0m \u001b[0;32min\u001b[0m \u001b[0mself\u001b[0m\u001b[0;34m.\u001b[0m\u001b[0mraw\u001b[0m\u001b[0;34m.\u001b[0m\u001b[0mstream\u001b[0m\u001b[0;34m(\u001b[0m\u001b[0mchunk_size\u001b[0m\u001b[0;34m,\u001b[0m \u001b[0mdecode_content\u001b[0m\u001b[0;34m=\u001b[0m\u001b[0;32mTrue\u001b[0m\u001b[0;34m)\u001b[0m\u001b[0;34m:\u001b[0m\u001b[0;34m\u001b[0m\u001b[0m\n\u001b[0m\u001b[1;32m    746\u001b[0m                         \u001b[0;32myield\u001b[0m \u001b[0mchunk\u001b[0m\u001b[0;34m\u001b[0m\u001b[0m\n\u001b[1;32m    747\u001b[0m                 \u001b[0;32mexcept\u001b[0m \u001b[0mProtocolError\u001b[0m \u001b[0;32mas\u001b[0m \u001b[0me\u001b[0m\u001b[0;34m:\u001b[0m\u001b[0;34m\u001b[0m\u001b[0m\n",
      "\u001b[0;32m~/anaconda2/envs/openmined2/lib/python3.6/site-packages/urllib3/response.py\u001b[0m in \u001b[0;36mstream\u001b[0;34m(self, amt, decode_content)\u001b[0m\n\u001b[1;32m    430\u001b[0m         \"\"\"\n\u001b[1;32m    431\u001b[0m         \u001b[0;32mif\u001b[0m \u001b[0mself\u001b[0m\u001b[0;34m.\u001b[0m\u001b[0mchunked\u001b[0m \u001b[0;32mand\u001b[0m \u001b[0mself\u001b[0m\u001b[0;34m.\u001b[0m\u001b[0msupports_chunked_reads\u001b[0m\u001b[0;34m(\u001b[0m\u001b[0;34m)\u001b[0m\u001b[0;34m:\u001b[0m\u001b[0;34m\u001b[0m\u001b[0m\n\u001b[0;32m--> 432\u001b[0;31m             \u001b[0;32mfor\u001b[0m \u001b[0mline\u001b[0m \u001b[0;32min\u001b[0m \u001b[0mself\u001b[0m\u001b[0;34m.\u001b[0m\u001b[0mread_chunked\u001b[0m\u001b[0;34m(\u001b[0m\u001b[0mamt\u001b[0m\u001b[0;34m,\u001b[0m \u001b[0mdecode_content\u001b[0m\u001b[0;34m=\u001b[0m\u001b[0mdecode_content\u001b[0m\u001b[0;34m)\u001b[0m\u001b[0;34m:\u001b[0m\u001b[0;34m\u001b[0m\u001b[0m\n\u001b[0m\u001b[1;32m    433\u001b[0m                 \u001b[0;32myield\u001b[0m \u001b[0mline\u001b[0m\u001b[0;34m\u001b[0m\u001b[0m\n\u001b[1;32m    434\u001b[0m         \u001b[0;32melse\u001b[0m\u001b[0;34m:\u001b[0m\u001b[0;34m\u001b[0m\u001b[0m\n",
      "\u001b[0;32m~/anaconda2/envs/openmined2/lib/python3.6/site-packages/urllib3/response.py\u001b[0m in \u001b[0;36mread_chunked\u001b[0;34m(self, amt, decode_content)\u001b[0m\n\u001b[1;32m    596\u001b[0m         \u001b[0;32mwith\u001b[0m \u001b[0mself\u001b[0m\u001b[0;34m.\u001b[0m\u001b[0m_error_catcher\u001b[0m\u001b[0;34m(\u001b[0m\u001b[0;34m)\u001b[0m\u001b[0;34m:\u001b[0m\u001b[0;34m\u001b[0m\u001b[0m\n\u001b[1;32m    597\u001b[0m             \u001b[0;32mwhile\u001b[0m \u001b[0;32mTrue\u001b[0m\u001b[0;34m:\u001b[0m\u001b[0;34m\u001b[0m\u001b[0m\n\u001b[0;32m--> 598\u001b[0;31m                 \u001b[0mself\u001b[0m\u001b[0;34m.\u001b[0m\u001b[0m_update_chunk_length\u001b[0m\u001b[0;34m(\u001b[0m\u001b[0;34m)\u001b[0m\u001b[0;34m\u001b[0m\u001b[0m\n\u001b[0m\u001b[1;32m    599\u001b[0m                 \u001b[0;32mif\u001b[0m \u001b[0mself\u001b[0m\u001b[0;34m.\u001b[0m\u001b[0mchunk_left\u001b[0m \u001b[0;34m==\u001b[0m \u001b[0;36m0\u001b[0m\u001b[0;34m:\u001b[0m\u001b[0;34m\u001b[0m\u001b[0m\n\u001b[1;32m    600\u001b[0m                     \u001b[0;32mbreak\u001b[0m\u001b[0;34m\u001b[0m\u001b[0m\n",
      "\u001b[0;32m~/anaconda2/envs/openmined2/lib/python3.6/site-packages/urllib3/response.py\u001b[0m in \u001b[0;36m_update_chunk_length\u001b[0;34m(self)\u001b[0m\n\u001b[1;32m    538\u001b[0m         \u001b[0;32mif\u001b[0m \u001b[0mself\u001b[0m\u001b[0;34m.\u001b[0m\u001b[0mchunk_left\u001b[0m \u001b[0;32mis\u001b[0m \u001b[0;32mnot\u001b[0m \u001b[0;32mNone\u001b[0m\u001b[0;34m:\u001b[0m\u001b[0;34m\u001b[0m\u001b[0m\n\u001b[1;32m    539\u001b[0m             \u001b[0;32mreturn\u001b[0m\u001b[0;34m\u001b[0m\u001b[0m\n\u001b[0;32m--> 540\u001b[0;31m         \u001b[0mline\u001b[0m \u001b[0;34m=\u001b[0m \u001b[0mself\u001b[0m\u001b[0;34m.\u001b[0m\u001b[0m_fp\u001b[0m\u001b[0;34m.\u001b[0m\u001b[0mfp\u001b[0m\u001b[0;34m.\u001b[0m\u001b[0mreadline\u001b[0m\u001b[0;34m(\u001b[0m\u001b[0;34m)\u001b[0m\u001b[0;34m\u001b[0m\u001b[0m\n\u001b[0m\u001b[1;32m    541\u001b[0m         \u001b[0mline\u001b[0m \u001b[0;34m=\u001b[0m \u001b[0mline\u001b[0m\u001b[0;34m.\u001b[0m\u001b[0msplit\u001b[0m\u001b[0;34m(\u001b[0m\u001b[0;34mb';'\u001b[0m\u001b[0;34m,\u001b[0m \u001b[0;36m1\u001b[0m\u001b[0;34m)\u001b[0m\u001b[0;34m[\u001b[0m\u001b[0;36m0\u001b[0m\u001b[0;34m]\u001b[0m\u001b[0;34m\u001b[0m\u001b[0m\n\u001b[1;32m    542\u001b[0m         \u001b[0;32mtry\u001b[0m\u001b[0;34m:\u001b[0m\u001b[0;34m\u001b[0m\u001b[0m\n",
      "\u001b[0;32m~/anaconda2/envs/openmined2/lib/python3.6/socket.py\u001b[0m in \u001b[0;36mreadinto\u001b[0;34m(self, b)\u001b[0m\n\u001b[1;32m    584\u001b[0m         \u001b[0;32mwhile\u001b[0m \u001b[0;32mTrue\u001b[0m\u001b[0;34m:\u001b[0m\u001b[0;34m\u001b[0m\u001b[0m\n\u001b[1;32m    585\u001b[0m             \u001b[0;32mtry\u001b[0m\u001b[0;34m:\u001b[0m\u001b[0;34m\u001b[0m\u001b[0m\n\u001b[0;32m--> 586\u001b[0;31m                 \u001b[0;32mreturn\u001b[0m \u001b[0mself\u001b[0m\u001b[0;34m.\u001b[0m\u001b[0m_sock\u001b[0m\u001b[0;34m.\u001b[0m\u001b[0mrecv_into\u001b[0m\u001b[0;34m(\u001b[0m\u001b[0mb\u001b[0m\u001b[0;34m)\u001b[0m\u001b[0;34m\u001b[0m\u001b[0m\n\u001b[0m\u001b[1;32m    587\u001b[0m             \u001b[0;32mexcept\u001b[0m \u001b[0mtimeout\u001b[0m\u001b[0;34m:\u001b[0m\u001b[0;34m\u001b[0m\u001b[0m\n\u001b[1;32m    588\u001b[0m                 \u001b[0mself\u001b[0m\u001b[0;34m.\u001b[0m\u001b[0m_timeout_occurred\u001b[0m \u001b[0;34m=\u001b[0m \u001b[0;32mTrue\u001b[0m\u001b[0;34m\u001b[0m\u001b[0m\n",
      "\u001b[0;31mKeyboardInterrupt\u001b[0m: "
     ]
    }
   ],
   "source": [
    "n1.listen_for_children(c)"
   ]
  },
  {
   "cell_type": "code",
   "execution_count": 173,
   "metadata": {
    "collapsed": false
   },
   "outputs": [
    {
     "name": "stdout",
     "output_type": "stream",
     "text": [
      "{}\n",
      "{'from': 'EiBAnb5dOLRSKbda/Wr99DHF9cSNO17z1BLuWqQwi53YfA==', 'data': 'eyJjb250ZW50IjogWzM0LCA2LCA2MjQsIDU0Nl0sICJwYXJlbnRfaWQiOiAiNDM1MyJ9', 'seqno': 'FSHFXsFIDU4=', 'topicIDs': ['children_of_4353']}\n",
      "{'from': 'EiBAnb5dOLRSKbda/Wr99DHF9cSNO17z1BLuWqQwi53YfA==', 'data': 'eyJpZF9oYXNoIjogIlFtVzEyS1ZOUlA4M2s0aFVhS0FSV2JzZTMyd2JvY3JadktUZ1VrS3NmOEtHMWEiLCAicGFyZW50X2hhc2giOiAiNDM1MyJ9', 'seqno': 'FSHFYAGbVcI=', 'topicIDs': ['children_of_4353']}\n",
      "{'from': 'EiBAnb5dOLRSKbda/Wr99DHF9cSNO17z1BLuWqQwi53YfA==', 'data': 'eyJpZF9oYXNoIjogIlFtVzEyS1ZOUlA4M2s0aFVhS0FSV2JzZTMyd2JvY3JadktUZ1VrS3NmOEtHMWEiLCAicGFyZW50X2hhc2giOiAiNDM1MyJ9', 'seqno': 'FSHFZj+w7AY=', 'topicIDs': ['children_of_4353']}\n"
     ]
    },
    {
     "ename": "KeyboardInterrupt",
     "evalue": "",
     "output_type": "error",
     "traceback": [
      "\u001b[0;31m---------------------------------------------------------------------------\u001b[0m",
      "\u001b[0;31mKeyboardInterrupt\u001b[0m                         Traceback (most recent call last)",
      "\u001b[0;32m<ipython-input-173-d46b6c1910c1>\u001b[0m in \u001b[0;36m<module>\u001b[0;34m()\u001b[0m\n\u001b[0;32m----> 1\u001b[0;31m \u001b[0;32mfor\u001b[0m \u001b[0mi\u001b[0m \u001b[0;32min\u001b[0m \u001b[0myo\u001b[0m\u001b[0;34m:\u001b[0m\u001b[0;34m\u001b[0m\u001b[0m\n\u001b[0m\u001b[1;32m      2\u001b[0m     \u001b[0mprint\u001b[0m\u001b[0;34m(\u001b[0m\u001b[0mi\u001b[0m\u001b[0;34m)\u001b[0m\u001b[0;34m\u001b[0m\u001b[0m\n",
      "\u001b[0;32m~/anaconda2/envs/openmined2/lib/python3.6/site-packages/grid-0.1.0-py3.6.egg/grid/ipfsapi/http.py\u001b[0m in \u001b[0;36mstream_decode\u001b[0;34m()\u001b[0m\n\u001b[1;32m    106\u001b[0m             \u001b[0;31m# Decode each item as it is read\u001b[0m\u001b[0;34m\u001b[0m\u001b[0;34m\u001b[0m\u001b[0m\n\u001b[1;32m    107\u001b[0m             \u001b[0;32mdef\u001b[0m \u001b[0mstream_decode\u001b[0m\u001b[0;34m(\u001b[0m\u001b[0;34m)\u001b[0m\u001b[0;34m:\u001b[0m\u001b[0;34m\u001b[0m\u001b[0m\n\u001b[0;32m--> 108\u001b[0;31m                 \u001b[0;32mfor\u001b[0m \u001b[0mdata\u001b[0m \u001b[0;32min\u001b[0m \u001b[0mres\u001b[0m\u001b[0;34m:\u001b[0m\u001b[0;34m\u001b[0m\u001b[0m\n\u001b[0m\u001b[1;32m    109\u001b[0m                     \u001b[0;32mfor\u001b[0m \u001b[0mresult\u001b[0m \u001b[0;32min\u001b[0m \u001b[0mparser\u001b[0m\u001b[0;34m.\u001b[0m\u001b[0mparse_partial\u001b[0m\u001b[0;34m(\u001b[0m\u001b[0mdata\u001b[0m\u001b[0;34m)\u001b[0m\u001b[0;34m:\u001b[0m\u001b[0;34m\u001b[0m\u001b[0m\n\u001b[1;32m    110\u001b[0m                         \u001b[0;32myield\u001b[0m \u001b[0mresult\u001b[0m\u001b[0;34m\u001b[0m\u001b[0m\n",
      "\u001b[0;32m~/anaconda2/envs/openmined2/lib/python3.6/site-packages/requests/models.py\u001b[0m in \u001b[0;36mgenerate\u001b[0;34m()\u001b[0m\n\u001b[1;32m    743\u001b[0m             \u001b[0;32mif\u001b[0m \u001b[0mhasattr\u001b[0m\u001b[0;34m(\u001b[0m\u001b[0mself\u001b[0m\u001b[0;34m.\u001b[0m\u001b[0mraw\u001b[0m\u001b[0;34m,\u001b[0m \u001b[0;34m'stream'\u001b[0m\u001b[0;34m)\u001b[0m\u001b[0;34m:\u001b[0m\u001b[0;34m\u001b[0m\u001b[0m\n\u001b[1;32m    744\u001b[0m                 \u001b[0;32mtry\u001b[0m\u001b[0;34m:\u001b[0m\u001b[0;34m\u001b[0m\u001b[0m\n\u001b[0;32m--> 745\u001b[0;31m                     \u001b[0;32mfor\u001b[0m \u001b[0mchunk\u001b[0m \u001b[0;32min\u001b[0m \u001b[0mself\u001b[0m\u001b[0;34m.\u001b[0m\u001b[0mraw\u001b[0m\u001b[0;34m.\u001b[0m\u001b[0mstream\u001b[0m\u001b[0;34m(\u001b[0m\u001b[0mchunk_size\u001b[0m\u001b[0;34m,\u001b[0m \u001b[0mdecode_content\u001b[0m\u001b[0;34m=\u001b[0m\u001b[0;32mTrue\u001b[0m\u001b[0;34m)\u001b[0m\u001b[0;34m:\u001b[0m\u001b[0;34m\u001b[0m\u001b[0m\n\u001b[0m\u001b[1;32m    746\u001b[0m                         \u001b[0;32myield\u001b[0m \u001b[0mchunk\u001b[0m\u001b[0;34m\u001b[0m\u001b[0m\n\u001b[1;32m    747\u001b[0m                 \u001b[0;32mexcept\u001b[0m \u001b[0mProtocolError\u001b[0m \u001b[0;32mas\u001b[0m \u001b[0me\u001b[0m\u001b[0;34m:\u001b[0m\u001b[0;34m\u001b[0m\u001b[0m\n",
      "\u001b[0;32m~/anaconda2/envs/openmined2/lib/python3.6/site-packages/urllib3/response.py\u001b[0m in \u001b[0;36mstream\u001b[0;34m(self, amt, decode_content)\u001b[0m\n\u001b[1;32m    430\u001b[0m         \"\"\"\n\u001b[1;32m    431\u001b[0m         \u001b[0;32mif\u001b[0m \u001b[0mself\u001b[0m\u001b[0;34m.\u001b[0m\u001b[0mchunked\u001b[0m \u001b[0;32mand\u001b[0m \u001b[0mself\u001b[0m\u001b[0;34m.\u001b[0m\u001b[0msupports_chunked_reads\u001b[0m\u001b[0;34m(\u001b[0m\u001b[0;34m)\u001b[0m\u001b[0;34m:\u001b[0m\u001b[0;34m\u001b[0m\u001b[0m\n\u001b[0;32m--> 432\u001b[0;31m             \u001b[0;32mfor\u001b[0m \u001b[0mline\u001b[0m \u001b[0;32min\u001b[0m \u001b[0mself\u001b[0m\u001b[0;34m.\u001b[0m\u001b[0mread_chunked\u001b[0m\u001b[0;34m(\u001b[0m\u001b[0mamt\u001b[0m\u001b[0;34m,\u001b[0m \u001b[0mdecode_content\u001b[0m\u001b[0;34m=\u001b[0m\u001b[0mdecode_content\u001b[0m\u001b[0;34m)\u001b[0m\u001b[0;34m:\u001b[0m\u001b[0;34m\u001b[0m\u001b[0m\n\u001b[0m\u001b[1;32m    433\u001b[0m                 \u001b[0;32myield\u001b[0m \u001b[0mline\u001b[0m\u001b[0;34m\u001b[0m\u001b[0m\n\u001b[1;32m    434\u001b[0m         \u001b[0;32melse\u001b[0m\u001b[0;34m:\u001b[0m\u001b[0;34m\u001b[0m\u001b[0m\n",
      "\u001b[0;32m~/anaconda2/envs/openmined2/lib/python3.6/site-packages/urllib3/response.py\u001b[0m in \u001b[0;36mread_chunked\u001b[0;34m(self, amt, decode_content)\u001b[0m\n\u001b[1;32m    596\u001b[0m         \u001b[0;32mwith\u001b[0m \u001b[0mself\u001b[0m\u001b[0;34m.\u001b[0m\u001b[0m_error_catcher\u001b[0m\u001b[0;34m(\u001b[0m\u001b[0;34m)\u001b[0m\u001b[0;34m:\u001b[0m\u001b[0;34m\u001b[0m\u001b[0m\n\u001b[1;32m    597\u001b[0m             \u001b[0;32mwhile\u001b[0m \u001b[0;32mTrue\u001b[0m\u001b[0;34m:\u001b[0m\u001b[0;34m\u001b[0m\u001b[0m\n\u001b[0;32m--> 598\u001b[0;31m                 \u001b[0mself\u001b[0m\u001b[0;34m.\u001b[0m\u001b[0m_update_chunk_length\u001b[0m\u001b[0;34m(\u001b[0m\u001b[0;34m)\u001b[0m\u001b[0;34m\u001b[0m\u001b[0m\n\u001b[0m\u001b[1;32m    599\u001b[0m                 \u001b[0;32mif\u001b[0m \u001b[0mself\u001b[0m\u001b[0;34m.\u001b[0m\u001b[0mchunk_left\u001b[0m \u001b[0;34m==\u001b[0m \u001b[0;36m0\u001b[0m\u001b[0;34m:\u001b[0m\u001b[0;34m\u001b[0m\u001b[0m\n\u001b[1;32m    600\u001b[0m                     \u001b[0;32mbreak\u001b[0m\u001b[0;34m\u001b[0m\u001b[0m\n",
      "\u001b[0;32m~/anaconda2/envs/openmined2/lib/python3.6/site-packages/urllib3/response.py\u001b[0m in \u001b[0;36m_update_chunk_length\u001b[0;34m(self)\u001b[0m\n\u001b[1;32m    538\u001b[0m         \u001b[0;32mif\u001b[0m \u001b[0mself\u001b[0m\u001b[0;34m.\u001b[0m\u001b[0mchunk_left\u001b[0m \u001b[0;32mis\u001b[0m \u001b[0;32mnot\u001b[0m \u001b[0;32mNone\u001b[0m\u001b[0;34m:\u001b[0m\u001b[0;34m\u001b[0m\u001b[0m\n\u001b[1;32m    539\u001b[0m             \u001b[0;32mreturn\u001b[0m\u001b[0;34m\u001b[0m\u001b[0m\n\u001b[0;32m--> 540\u001b[0;31m         \u001b[0mline\u001b[0m \u001b[0;34m=\u001b[0m \u001b[0mself\u001b[0m\u001b[0;34m.\u001b[0m\u001b[0m_fp\u001b[0m\u001b[0;34m.\u001b[0m\u001b[0mfp\u001b[0m\u001b[0;34m.\u001b[0m\u001b[0mreadline\u001b[0m\u001b[0;34m(\u001b[0m\u001b[0;34m)\u001b[0m\u001b[0;34m\u001b[0m\u001b[0m\n\u001b[0m\u001b[1;32m    541\u001b[0m         \u001b[0mline\u001b[0m \u001b[0;34m=\u001b[0m \u001b[0mline\u001b[0m\u001b[0;34m.\u001b[0m\u001b[0msplit\u001b[0m\u001b[0;34m(\u001b[0m\u001b[0;34mb';'\u001b[0m\u001b[0;34m,\u001b[0m \u001b[0;36m1\u001b[0m\u001b[0;34m)\u001b[0m\u001b[0;34m[\u001b[0m\u001b[0;36m0\u001b[0m\u001b[0;34m]\u001b[0m\u001b[0;34m\u001b[0m\u001b[0m\n\u001b[1;32m    542\u001b[0m         \u001b[0;32mtry\u001b[0m\u001b[0;34m:\u001b[0m\u001b[0;34m\u001b[0m\u001b[0m\n",
      "\u001b[0;32m~/anaconda2/envs/openmined2/lib/python3.6/socket.py\u001b[0m in \u001b[0;36mreadinto\u001b[0;34m(self, b)\u001b[0m\n\u001b[1;32m    584\u001b[0m         \u001b[0;32mwhile\u001b[0m \u001b[0;32mTrue\u001b[0m\u001b[0;34m:\u001b[0m\u001b[0;34m\u001b[0m\u001b[0m\n\u001b[1;32m    585\u001b[0m             \u001b[0;32mtry\u001b[0m\u001b[0;34m:\u001b[0m\u001b[0;34m\u001b[0m\u001b[0m\n\u001b[0;32m--> 586\u001b[0;31m                 \u001b[0;32mreturn\u001b[0m \u001b[0mself\u001b[0m\u001b[0;34m.\u001b[0m\u001b[0m_sock\u001b[0m\u001b[0;34m.\u001b[0m\u001b[0mrecv_into\u001b[0m\u001b[0;34m(\u001b[0m\u001b[0mb\u001b[0m\u001b[0;34m)\u001b[0m\u001b[0;34m\u001b[0m\u001b[0m\n\u001b[0m\u001b[1;32m    587\u001b[0m             \u001b[0;32mexcept\u001b[0m \u001b[0mtimeout\u001b[0m\u001b[0;34m:\u001b[0m\u001b[0;34m\u001b[0m\u001b[0m\n\u001b[1;32m    588\u001b[0m                 \u001b[0mself\u001b[0m\u001b[0;34m.\u001b[0m\u001b[0m_timeout_occurred\u001b[0m \u001b[0;34m=\u001b[0m \u001b[0;32mTrue\u001b[0m\u001b[0;34m\u001b[0m\u001b[0m\n",
      "\u001b[0;31mKeyboardInterrupt\u001b[0m: "
     ]
    }
   ],
   "source": [
    "for i in yo:\n",
    "    print(i)"
   ]
  },
  {
   "cell_type": "code",
   "execution_count": 170,
   "metadata": {
    "collapsed": false
   },
   "outputs": [
    {
     "ename": "TypeError",
     "evalue": "listen_for_children() missing 1 required positional argument: 'ipfs_client'",
     "output_type": "error",
     "traceback": [
      "\u001b[0;31m---------------------------------------------------------------------------\u001b[0m",
      "\u001b[0;31mTypeError\u001b[0m                                 Traceback (most recent call last)",
      "\u001b[0;32m<ipython-input-170-4cb481855fa7>\u001b[0m in \u001b[0;36m<module>\u001b[0;34m()\u001b[0m\n\u001b[0;32m----> 1\u001b[0;31m \u001b[0;32mfor\u001b[0m \u001b[0mm\u001b[0m \u001b[0;32min\u001b[0m \u001b[0mn1\u001b[0m\u001b[0;34m.\u001b[0m\u001b[0mlisten_for_children\u001b[0m\u001b[0;34m(\u001b[0m\u001b[0;34m)\u001b[0m\u001b[0;34m:\u001b[0m\u001b[0;34m\u001b[0m\u001b[0m\n\u001b[0m\u001b[1;32m      2\u001b[0m     \u001b[0mprint\u001b[0m\u001b[0;34m(\u001b[0m\u001b[0mm\u001b[0m\u001b[0;34m)\u001b[0m\u001b[0;34m\u001b[0m\u001b[0m\n",
      "\u001b[0;31mTypeError\u001b[0m: listen_for_children() missing 1 required positional argument: 'ipfs_client'"
     ]
    }
   ],
   "source": [
    "for m in n1.listen_for_children():\n",
    "    print(m)"
   ]
  },
  {
   "cell_type": "code",
   "execution_count": 76,
   "metadata": {
    "collapsed": false
   },
   "outputs": [
    {
     "ename": "TypeError",
     "evalue": "'generator' object is not subscriptable",
     "output_type": "error",
     "traceback": [
      "\u001b[0;31m---------------------------------------------------------------------------\u001b[0m",
      "\u001b[0;31mTypeError\u001b[0m                                 Traceback (most recent call last)",
      "\u001b[0;32m<ipython-input-76-2c511e125855>\u001b[0m in \u001b[0;36m<module>\u001b[0;34m()\u001b[0m\n\u001b[0;32m----> 1\u001b[0;31m \u001b[0mn1\u001b[0m\u001b[0;34m.\u001b[0m\u001b[0mlisten_for_children\u001b[0m\u001b[0;34m(\u001b[0m\u001b[0;34m)\u001b[0m\u001b[0;34m\u001b[0m\u001b[0m\n\u001b[0m",
      "\u001b[0;32m<ipython-input-72-1196abd2c50e>\u001b[0m in \u001b[0;36mlisten_for_children\u001b[0;34m(self)\u001b[0m\n\u001b[1;32m     93\u001b[0m \u001b[0;34m\u001b[0m\u001b[0m\n\u001b[1;32m     94\u001b[0m         \u001b[0mnew_messages\u001b[0m \u001b[0;34m=\u001b[0m \u001b[0mc\u001b[0m\u001b[0;34m.\u001b[0m\u001b[0mpubsub_sub\u001b[0m\u001b[0;34m(\u001b[0m\u001b[0mtopic\u001b[0m\u001b[0;34m=\u001b[0m\u001b[0mchannel\u001b[0m\u001b[0;34m,\u001b[0m \u001b[0mstream\u001b[0m\u001b[0;34m=\u001b[0m\u001b[0;32mTrue\u001b[0m\u001b[0;34m)\u001b[0m\u001b[0;34m\u001b[0m\u001b[0m\n\u001b[0;32m---> 95\u001b[0;31m         \u001b[0mmessage\u001b[0m \u001b[0;34m=\u001b[0m \u001b[0mself\u001b[0m\u001b[0;34m.\u001b[0m\u001b[0mdecode_message\u001b[0m\u001b[0;34m(\u001b[0m\u001b[0mnew_messages\u001b[0m\u001b[0;34m)\u001b[0m\u001b[0;34m\u001b[0m\u001b[0m\n\u001b[0m\u001b[1;32m     96\u001b[0m         \u001b[0mprint\u001b[0m\u001b[0;34m(\u001b[0m\u001b[0mmessage\u001b[0m\u001b[0;34m)\u001b[0m\u001b[0;34m\u001b[0m\u001b[0m\n\u001b[1;32m     97\u001b[0m \u001b[0;34m\u001b[0m\u001b[0m\n",
      "\u001b[0;32m<ipython-input-72-1196abd2c50e>\u001b[0m in \u001b[0;36mdecode_message\u001b[0;34m(self, encoded)\u001b[0m\n\u001b[1;32m     99\u001b[0m     \u001b[0;32mdef\u001b[0m \u001b[0mdecode_message\u001b[0m\u001b[0;34m(\u001b[0m\u001b[0mself\u001b[0m\u001b[0;34m,\u001b[0m \u001b[0mencoded\u001b[0m\u001b[0;34m)\u001b[0m\u001b[0;34m:\u001b[0m\u001b[0;34m\u001b[0m\u001b[0m\n\u001b[1;32m    100\u001b[0m         \u001b[0mdecoded\u001b[0m \u001b[0;34m=\u001b[0m \u001b[0;34m{\u001b[0m\u001b[0;34m}\u001b[0m\u001b[0;34m\u001b[0m\u001b[0m\n\u001b[0;32m--> 101\u001b[0;31m         \u001b[0mdecoded\u001b[0m\u001b[0;34m[\u001b[0m\u001b[0;34m'contents'\u001b[0m\u001b[0;34m]\u001b[0m \u001b[0;34m=\u001b[0m \u001b[0mbase64\u001b[0m\u001b[0;34m.\u001b[0m\u001b[0mstandard_b64decode\u001b[0m\u001b[0;34m(\u001b[0m\u001b[0mencoded\u001b[0m\u001b[0;34m[\u001b[0m\u001b[0;34m'contents'\u001b[0m\u001b[0;34m]\u001b[0m\u001b[0;34m)\u001b[0m\u001b[0;34m\u001b[0m\u001b[0m\n\u001b[0m\u001b[1;32m    102\u001b[0m         \u001b[0mdecoded\u001b[0m\u001b[0;34m[\u001b[0m\u001b[0;34m'parent_hash'\u001b[0m\u001b[0;34m]\u001b[0m \u001b[0;34m=\u001b[0m \u001b[0mbase64\u001b[0m\u001b[0;34m.\u001b[0m\u001b[0mstandard_b64decode\u001b[0m\u001b[0;34m(\u001b[0m\u001b[0mencoded\u001b[0m\u001b[0;34m[\u001b[0m\u001b[0;34m'parent_hash'\u001b[0m\u001b[0;34m]\u001b[0m\u001b[0;34m)\u001b[0m\u001b[0;34m\u001b[0m\u001b[0m\n\u001b[1;32m    103\u001b[0m         \u001b[0;32mreturn\u001b[0m \u001b[0mdecode\u001b[0m\u001b[0;34m\u001b[0m\u001b[0m\n",
      "\u001b[0;31mTypeError\u001b[0m: 'generator' object is not subscriptable"
     ]
    }
   ],
   "source": [
    "n1.listen_for_children()"
   ]
  },
  {
   "cell_type": "code",
   "execution_count": null,
   "metadata": {
    "collapsed": true
   },
   "outputs": [],
   "source": []
  }
 ],
 "metadata": {
  "anaconda-cloud": {},
  "kernelspec": {
   "display_name": "Python [conda env:openmined2]",
   "language": "python",
   "name": "conda-env-openmined2-py"
  },
  "language_info": {
   "codemirror_mode": {
    "name": "ipython",
    "version": 3
   },
   "file_extension": ".py",
   "mimetype": "text/x-python",
   "name": "python",
   "nbconvert_exporter": "python",
   "pygments_lexer": "ipython3",
   "version": "3.6.4"
  }
 },
 "nbformat": 4,
 "nbformat_minor": 1
}
