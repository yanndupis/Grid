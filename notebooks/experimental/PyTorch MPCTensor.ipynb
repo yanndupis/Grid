{
 "cells": [
  {
   "cell_type": "code",
   "execution_count": 225,
   "metadata": {},
   "outputs": [],
   "source": [
    "import torch\n",
    "import random\n",
    "from functools import reduce\n",
    "import numpy as np\n",
    "from datetime import datetime\n",
    "from math import log, ceil\n",
    "\n",
    "log2 = lambda x: log(x)/log(2)\n",
    "prod = lambda xs: reduce(lambda x, y: x * y, xs)\n",
    "\n",
    "ms = torch.LongTensor([89702869, 78489023, 69973811, 70736797, 79637461])\n",
    "for mi in ms: assert 2 * log2(mi) + log2(1024) < 63, mi\n",
    "\n",
    "M = prod(ms)\n",
    "assert log2(M) >= 120\n",
    "\n",
    "K = 2**16"
   ]
  },
  {
   "cell_type": "code",
   "execution_count": 226,
   "metadata": {},
   "outputs": [],
   "source": [
    "def egcd(a, b):\n",
    "    print(\"a:\" + str(a) + \" b:\" + str(b))\n",
    "    if a == 0:\n",
    "        return (b, 0, 1)\n",
    "    else:\n",
    "        g, y, x = egcd(b % a, a)\n",
    "        \n",
    "        g_, y_, x_ = (g, x - (b // a) * y, y)\n",
    "\n",
    "#         print(g_, y_, x_)\n",
    "        return (g_, y_, x_)"
   ]
  },
  {
   "cell_type": "code",
   "execution_count": 227,
   "metadata": {},
   "outputs": [],
   "source": [
    "def gcd(x, y):\n",
    "    while y != 0:\n",
    "        print(\"x:\" + str(x) + \" y:\" + str(y))\n",
    "        (x, y) = (y, x % y)\n",
    "        print(\"x:\" + str(x) + \" y:\" + str(y))\n",
    "    return x\n"
   ]
  },
  {
   "cell_type": "code",
   "execution_count": 228,
   "metadata": {},
   "outputs": [],
   "source": [
    "def gcd_torch(a,b):\n",
    "    \n",
    "    size = o.size()[0]\n",
    "    \n",
    "    # determine which dimensions are already complete\n",
    "    a_mask = (a == 0).long()\n",
    "    \n",
    "    # just creating a tensor of 0s of the same shape as x\n",
    "    g = b * 0\n",
    "    \n",
    "    while a_mask.sum() != size:\n",
    "        \n",
    "        # strip out remainder - pad (x+1) with y_mask if gcd is \n",
    "        # already found for that dimension... preventing mod \n",
    "        # by zero which would throw an error\n",
    "        (a,b) = (b % (a + a_mask),a)\n",
    "        \n",
    "        # determine which dimensions are complete\n",
    "        a_mask = (a == 0).long()\n",
    "        \n",
    "        # if dimension complete - increment gcd_output\n",
    "        # note that after initial discovery of true factor\n",
    "        # x == 0 - which prevents gcd_output from continuing\n",
    "        # to increment the factor. Before this event, y_mask == 0\n",
    "        # which prevents gcd_output from incrementing prematurely high\n",
    "        # factors\n",
    "        g += (b * a_mask)\n",
    "        print(g.tolist())\n",
    "        \n",
    "    return g"
   ]
  },
  {
   "cell_type": "code",
   "execution_count": 229,
   "metadata": {},
   "outputs": [],
   "source": [
    "def gcd_torch(a,b,a_mask=None):\n",
    "\n",
    "    if(a_mask is None):\n",
    "        # determine which dimensions are already complete\n",
    "        a_mask = (a == 0).long()\n",
    "    \n",
    "    if (a_mask.sum() == a.size()[0]):\n",
    "        \n",
    "        return b * 0\n",
    "    \n",
    "    else:\n",
    "        \n",
    "        # strip out remainder - pad (x+1) with y_mask if gcd is \n",
    "        # already found for that dimension... preventing mod \n",
    "        # by zero which would throw an error\n",
    "        (a,b) = (b % (a + a_mask),a)\n",
    "        \n",
    "        # determine which dimensions are complete\n",
    "        a_mask = (a == 0).long()\n",
    "        \n",
    "        # if dimension complete - increment gcd_output\n",
    "        # note that after initial discovery of true factor\n",
    "        # x == 0 - which prevents gcd_output from continuing\n",
    "        # to increment the factor. Before this event, y_mask == 0\n",
    "        # which prevents gcd_output from incrementing prematurely high\n",
    "        # factors\n",
    "        g = (b * a_mask) + gcd_torch(a,b,a_mask=a_mask)\n",
    "        \n",
    "        return g\n",
    "\n",
    "    return g"
   ]
  },
  {
   "cell_type": "code",
   "execution_count": 230,
   "metadata": {},
   "outputs": [
    {
     "data": {
      "text/plain": [
       "\n",
       " 12\n",
       "  1\n",
       "[torch.LongTensor of size 2]"
      ]
     },
     "execution_count": 230,
     "metadata": {},
     "output_type": "execute_result"
    }
   ],
   "source": [
    "gcd_torch(torch.LongTensor([12, 1023529]),torch.LongTensor([12, 9]))"
   ]
  },
  {
   "cell_type": "code",
   "execution_count": 231,
   "metadata": {},
   "outputs": [
    {
     "name": "stdout",
     "output_type": "stream",
     "text": [
      "x:1023529 y:10\n",
      "x:10 y:9\n",
      "x:10 y:9\n",
      "x:9 y:1\n",
      "x:9 y:1\n",
      "x:1 y:0\n"
     ]
    },
    {
     "data": {
      "text/plain": [
       "1"
      ]
     },
     "execution_count": 231,
     "metadata": {},
     "output_type": "execute_result"
    }
   ],
   "source": [
    "gcd(1023529,10)"
   ]
  },
  {
   "cell_type": "code",
   "execution_count": 221,
   "metadata": {},
   "outputs": [
    {
     "name": "stdout",
     "output_type": "stream",
     "text": [
      "x:12 y:12\n",
      "x:12 y:0\n"
     ]
    },
    {
     "data": {
      "text/plain": [
       "12"
      ]
     },
     "execution_count": 221,
     "metadata": {},
     "output_type": "execute_result"
    }
   ],
   "source": [
    "gcd(12,12)"
   ]
  },
  {
   "cell_type": "code",
   "execution_count": 222,
   "metadata": {},
   "outputs": [
    {
     "name": "stdout",
     "output_type": "stream",
     "text": [
      "a:12 b:8\n",
      "a:8 b:12\n",
      "a:4 b:8\n",
      "a:0 b:4\n"
     ]
    },
    {
     "data": {
      "text/plain": [
       "(4, 1, -1)"
      ]
     },
     "execution_count": 222,
     "metadata": {},
     "output_type": "execute_result"
    }
   ],
   "source": [
    "egcd(12,8)"
   ]
  },
  {
   "cell_type": "code",
   "execution_count": 223,
   "metadata": {},
   "outputs": [],
   "source": [
    "def egcd_torch(a, b):\n",
    "    if a[0] == 0:\n",
    "        return (b, torch.zeros(1).long(), torch.ones(1).long())\n",
    "    else:\n",
    "        g, y, x = egcd_torch(b % a, a)\n",
    "        \n",
    "        g_, y_, x_ = (g, x - (b / a) * y, y)\n",
    "        print(\"a:\" + str(a.tolist()) + \" b:\" + str(b.tolist()))\n",
    "        print(g_.tolist(), y_.tolist(), x_.tolist())\n",
    "        return (g_, y_, x_)"
   ]
  },
  {
   "cell_type": "code",
   "execution_count": 224,
   "metadata": {},
   "outputs": [
    {
     "name": "stdout",
     "output_type": "stream",
     "text": [
      "a:[4] b:[8]\n",
      "[4] [1] [0]\n",
      "a:[8] b:[12]\n",
      "[4] [-1] [1]\n",
      "a:[12] b:[8]\n",
      "[4] [1] [-1]\n"
     ]
    },
    {
     "data": {
      "text/plain": [
       "(\n",
       "  4\n",
       " [torch.LongTensor of size 1], \n",
       "  1\n",
       " [torch.LongTensor of size 1], \n",
       " -1\n",
       " [torch.LongTensor of size 1])"
      ]
     },
     "execution_count": 224,
     "metadata": {},
     "output_type": "execute_result"
    }
   ],
   "source": [
    "a = torch.LongTensor([12])\n",
    "b = torch.LongTensor([8])\n",
    "\n",
    "egcd_torch(a,b)"
   ]
  },
  {
   "cell_type": "code",
   "execution_count": null,
   "metadata": {},
   "outputs": [],
   "source": []
  },
  {
   "cell_type": "code",
   "execution_count": null,
   "metadata": {},
   "outputs": [],
   "source": []
  }
 ],
 "metadata": {
  "kernelspec": {
   "display_name": "Python 3",
   "language": "python",
   "name": "python3"
  },
  "language_info": {
   "codemirror_mode": {
    "name": "ipython",
    "version": 3
   },
   "file_extension": ".py",
   "mimetype": "text/x-python",
   "name": "python",
   "nbconvert_exporter": "python",
   "pygments_lexer": "ipython3",
   "version": "3.6.1"
  }
 },
 "nbformat": 4,
 "nbformat_minor": 2
}
