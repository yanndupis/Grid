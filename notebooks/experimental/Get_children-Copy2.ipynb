{
 "cells": [
  {
   "cell_type": "code",
   "execution_count": 530,
   "metadata": {
    "collapsed": false
   },
   "outputs": [],
   "source": [
    "from grid.ipfsapi.client import Client\n",
    "from datetime import datetime\n",
    "from grid.lib import utils\n",
    "import json\n",
    "import numpy as np\n",
    "import pickle\n",
    "import base64\n",
    "from bitcoin import base58\n",
    "from threading import Thread\n",
    "import threading \n",
    "client = Client()"
   ]
  },
  {
   "cell_type": "code",
   "execution_count": 531,
   "metadata": {
    "collapsed": false
   },
   "outputs": [],
   "source": [
    "\"\"\" This module contains an implementation of an IPFS\n",
    "version-control system, which is structured as a directed in-tree with nodes\n",
    "represented by the bytes representation of the VersionTreeNode class. \"\"\"\n",
    "from typing import Optional, Iterator\n",
    "\n",
    "from grid import ipfsapi\n",
    "\n",
    "# TODO: Unit tests.\n",
    "# TODO: Do we want to store the hash on the node after it's been committed?\n",
    "class VersionTreeNode:\n",
    "    \"\"\" Thin wrapper around a piece of IPFS-versioned data and the\n",
    "    IPFS multihash of its parent. \"\"\"\n",
    "    # Delimiter for serializing packed object. Should not be alphanumeric.\n",
    "    DELIMITER = b\"|\"\n",
    "\n",
    "    def __init__(self,\n",
    "                 contents: bytes,\n",
    "                 id_hash: Optional[str] = None,\n",
    "                 parent_hash: Optional[str] = None,\n",
    "                 ipfs_client: ipfsapi.Client = None):\n",
    "        \"\"\" parent_hash is a UTF-8 IPFS multihash identifying\n",
    "        this node's parent in the version tree. If parent_hash is None,\n",
    "        this node is the root of a version tree. \"\"\"\n",
    "        self.contents = contents\n",
    "        # Convert empty string to None to minimize typing bugs.\n",
    "        self.id_hash = id_hash or None\n",
    "        self.parent_hash = parent_hash or None\n",
    "        self.ipfs_client = ipfs_client\n",
    "\n",
    "    def commit(self, ipfs_client: ipfsapi.Client = None,\n",
    "               parent_hash = None,\n",
    "               broadcast = True, \n",
    "               broadcast_period = 1) -> str:\n",
    "        \"\"\" Commits the node to the version tree,if broadcast set to true, \n",
    "        broadcast child periodically on pubsub and \n",
    "        returns the UTF-8 multihash representing its IPFS ID\"\"\"\n",
    "        \n",
    "        if parent_hash is not None:\n",
    "            self.parent_hash = parent_hash\n",
    "            \n",
    "        self.id_hash = (ipfs_client or self.ipfs_client).add_bytes(self.to_bytes())\n",
    "        # If there parent_hash is set to None it means it's the root of the tree\n",
    "        # therefore don't need to broadcast\n",
    "        if self.parent_hash is not None and broadcast:\n",
    "            self.broadcast_child_periodically(ipfs_client, broadcast_period)\n",
    "            \n",
    "        return self.id_hash\n",
    "    \n",
    "    @classmethod\n",
    "    def get_node_by_hash(cls,\n",
    "                         multihash: str,\n",
    "                         ipfs_client: ipfsapi.Client) -> \"VersionTreeNode\":\n",
    "        \"\"\" Retrieve and deserialize a VersionTreeNode addressed\n",
    "        by it's UTF-8 multihash IPFS ID. \"\"\"\n",
    "        return cls.from_bytes(ipfs_client.cat(multihash))\n",
    "\n",
    "    def get_with_ancestors(\n",
    "            self,\n",
    "            ipfs_client: ipfsapi.Client = None) -> Iterator[\"VersionTreeNode\"]:\n",
    "        \"\"\" Return an iterator containing this node and all its\n",
    "        direct ancestors in the version tree, in that order. \"\"\"\n",
    "        yield self\n",
    "        parent_hash = self.parent_hash\n",
    "        while parent_hash is not None:\n",
    "            parent_node = self.get_node_by_hash(\n",
    "                parent_hash,\n",
    "                (ipfs_client or self.ipfs_client))\n",
    "            parent_hash = parent_node.parent_hash\n",
    "            yield parent_node\n",
    "\n",
    "    @classmethod\n",
    "    def get_node_with_ancestors_by_hash(\n",
    "            cls,\n",
    "            multihash: str,\n",
    "            ipfs_client: ipfsapi.Client) -> Iterator[\"VersionTreeNode\"]:\n",
    "        \"\"\" Convenience method to get an iterator of the node identified by the\n",
    "        provided UTF-8 IPFS multihash, along with all of its ancestors, in\n",
    "        that order.\"\"\"\n",
    "        return cls.get_node_by_hash(\n",
    "            multihash, ipfs_client).get_with_ancestors(ipfs_client)\n",
    "\n",
    "    def to_bytes(self) -> bytes:\n",
    "        \"\"\" For contents b\"foo\", parent_hash \"bar\", and DELIMITER b\"|\",\n",
    "        returns b\"foo|bar\" \"\"\"\n",
    "        parent_hash_bytes = self.parent_hash.encode(\"utf-8\") if \\\n",
    "            self.parent_hash else \\\n",
    "            b\"\"\n",
    "        return self.DELIMITER.join((self.contents, parent_hash_bytes))\n",
    "\n",
    "    @classmethod\n",
    "    def from_bytes(cls, b: bytes) -> \"VersionTreeNode\":\n",
    "        \"\"\" In case the contents section happens to contain the DELIMITER\n",
    "        string, only splits on the final occurrence of DELIMITER. The\n",
    "        multihash is hexadecimal, so it won't contain the non-hex DELIMITER.\"\"\"\n",
    "        contents, parent_hash_bytes = b.rsplit(cls.DELIMITER, maxsplit=1)\n",
    "        return cls(contents, parent_hash_bytes.decode(\"utf-8\"))\n",
    "    \n",
    "    def to_json(self) -> str:\n",
    "        \"\"\"Jsonify attributes of the child that will be \n",
    "        broadcasted on the channel openmined:children_of_<parent_hash>\"\"\"\n",
    "        child = {'id_hash': self.id_hash, 'parent_hash': self.parent_hash}\n",
    "        return json.dumps(child)\n",
    "    \n",
    "    def broadcast_child_periodically(self, ipfs_client: ipfsapi.Client, \n",
    "                                     broadcast_period = 1):\n",
    "        \"\"\"Broadcast child periodically on openmined:children_of_<parent_hash>\n",
    "        to indicate to the parent the existence of the child\"\"\"\n",
    "        channel = 'openmined:children_of_' + str(self.parent_hash)\n",
    "        ipfs_client.pubsub_pub(topic = channel, \n",
    "                               payload=self.to_json(),\n",
    "                               stream = True)\n",
    "        \n",
    "        _args = (ipfs_client,)\n",
    "        threading.Timer(broadcast_period, \n",
    "                        self.broadcast_child_periodically, \n",
    "                        args=_args).start()\n",
    "    \n",
    "    def get_children(\n",
    "            self, \n",
    "            ipfs_client: ipfsapi.Client,\n",
    "            timeout = 5) -> Iterator[\"VersionTreeNode\"]:\n",
    "        \"\"\"Listen to openmined:children_of_<parent_hash> and \n",
    "        return list of children (VersionTreeNode)\"\"\"\n",
    "        channel = 'openmined:children_of_' + str(self.parent_hash)\n",
    "        child_attributes =  self.listen_to_channel_impl(ipfs_client, \n",
    "                                           channel, \n",
    "                                           self.receive_child, \n",
    "                                           timeout)\n",
    "        \n",
    "        node_list = [self.get_node_by_hash(child['id_hash'],ipfs_client) \n",
    "                     for child in child_attributes]\n",
    "    \n",
    "        return node_list\n",
    "    \n",
    "    def receive_child(self, message: str) -> dict:\n",
    "        \"\"\"Extract child attributes from messages\n",
    "        published on the channel openmined:children_of_<parent_hash> \"\"\"\n",
    "        msg = utils.unpack(message)\n",
    "        child = {}\n",
    "        child['id_hash'] = msg['id_hash']\n",
    "        child['parent_hash'] = msg['parent_hash']\n",
    "        return child\n",
    "\n",
    "    def listen_to_channel_impl(self,\n",
    "                               ipfs_client: ipfsapi.Client,\n",
    "                               channel: str,\n",
    "                               handle_message: dict,\n",
    "                               timeout: int = 5) -> list:\n",
    "        \"\"\"Listen to channel for a certain period of time \n",
    "        and return a list of messages (info extracted based\n",
    "        on handle message)\"\"\"\n",
    "        start_time = datetime.now()\n",
    "        time_delta = 0\n",
    "        out_list = list()\n",
    "\n",
    "        new_messages = ipfs_client.pubsub_sub(topic=channel, stream = True)\n",
    "\n",
    "        # new_messages is a generator which will keep yield new messages until\n",
    "        # you return from the loop. If you do return from the loop, we will no\n",
    "        # longer be subscribed.\n",
    "        for m in new_messages:\n",
    "            message = self.decode_message(m)\n",
    "            if message is not None:\n",
    "                out = handle_message(message)\n",
    "                if out is not None and out not in out_list:\n",
    "                    out_list.append(out)\n",
    "                    \n",
    "            time_delta = datetime.now() - start_time   \n",
    "            \n",
    "            if time_delta.seconds >= timeout:\n",
    "                break\n",
    "                \n",
    "        return out_list\n",
    "\n",
    "                    \n",
    "    def decode_message(self, encoded: dict) -> dict:\n",
    "        \"\"\"Decode message published on pubsub\"\"\"\n",
    "        if ('from' in encoded):\n",
    "            decoded = {}\n",
    "            decoded['from'] = base64.standard_b64decode(encoded['from'])\n",
    "            decoded['data'] = base64.standard_b64decode(\n",
    "                encoded['data']).decode('ascii')\n",
    "            decoded['seqno'] = base64.standard_b64decode(encoded['seqno'])\n",
    "            decoded['topicIDs'] = encoded['topicIDs']\n",
    "            decoded['encoded'] = encoded\n",
    "            return decoded\n",
    "        else:\n",
    "            return None"
   ]
  },
  {
   "cell_type": "code",
   "execution_count": 532,
   "metadata": {
    "collapsed": true
   },
   "outputs": [],
   "source": [
    "# When commit publish on channel children of\n",
    "# When commit listen for children\n",
    "# Will have to include in the VersionTreeNode the ipfs address"
   ]
  },
  {
   "cell_type": "code",
   "execution_count": 533,
   "metadata": {
    "collapsed": false
   },
   "outputs": [],
   "source": [
    "import grid.ipfsapi.client\n",
    "\n",
    "#message = {'content' : [34,6,624,546], 'parent_id': '4353'}\n",
    "\n",
    "children_of(4353)\n",
    "\n",
    "c = Client()\n",
    "\n",
    "#c.pubsub_pub(topic = children_of(4353), payload=json.dumps(message))\n",
    "\n",
    "data = np.array([45,356])\n",
    "data2 = np.array([54,7346])"
   ]
  },
  {
   "cell_type": "code",
   "execution_count": 538,
   "metadata": {
    "collapsed": false
   },
   "outputs": [],
   "source": [
    "n1 = VersionTreeNode(contents=pickle.dumps(data),parent_hash='6457',ipfs_client=c)"
   ]
  },
  {
   "cell_type": "code",
   "execution_count": 539,
   "metadata": {
    "collapsed": false
   },
   "outputs": [
    {
     "data": {
      "text/plain": [
       "'QmU9Q7ZoXLFXBd7honuh9eu2ayDL2d2RRsizPvBZ8jLnxM'"
      ]
     },
     "execution_count": 539,
     "metadata": {},
     "output_type": "execute_result"
    }
   ],
   "source": [
    "n1.commit(c)"
   ]
  },
  {
   "cell_type": "code",
   "execution_count": 536,
   "metadata": {
    "collapsed": false
   },
   "outputs": [
    {
     "ename": "AttributeError",
     "evalue": "'VersionTreeNode' object has no attribute 'broadcast_periodically_leaf'",
     "output_type": "error",
     "traceback": [
      "\u001b[0;31m---------------------------------------------------------------------------\u001b[0m",
      "\u001b[0;31mAttributeError\u001b[0m                            Traceback (most recent call last)",
      "\u001b[0;32m<ipython-input-536-2cc1dbd69d74>\u001b[0m in \u001b[0;36m<module>\u001b[0;34m()\u001b[0m\n\u001b[0;32m----> 1\u001b[0;31m \u001b[0mn1\u001b[0m\u001b[0;34m.\u001b[0m\u001b[0mbroadcast_periodically_leaf\u001b[0m\u001b[0;34m(\u001b[0m\u001b[0;34m)\u001b[0m\u001b[0;34m\u001b[0m\u001b[0m\n\u001b[0m",
      "\u001b[0;31mAttributeError\u001b[0m: 'VersionTreeNode' object has no attribute 'broadcast_periodically_leaf'"
     ]
    }
   ],
   "source": [
    "n1.broadcast_periodically_leaf()"
   ]
  },
  {
   "cell_type": "code",
   "execution_count": 537,
   "metadata": {
    "collapsed": false
   },
   "outputs": [],
   "source": [
    "n2 = VersionTreeNode(contents=pickle.dumps(data2),parent_hash='4353',ipfs_client=c)"
   ]
  },
  {
   "cell_type": "code",
   "execution_count": 513,
   "metadata": {
    "collapsed": false
   },
   "outputs": [
    {
     "data": {
      "text/plain": [
       "'Qme7fauo6yNV6FVUT4yXmQvkF5XLvDN85U47LKcN3BkTPn'"
      ]
     },
     "execution_count": 513,
     "metadata": {},
     "output_type": "execute_result"
    }
   ],
   "source": [
    "n2.commit()"
   ]
  },
  {
   "cell_type": "code",
   "execution_count": 514,
   "metadata": {
    "collapsed": false
   },
   "outputs": [
    {
     "data": {
      "text/plain": [
       "'Qme7fauo6yNV6FVUT4yXmQvkF5XLvDN85U47LKcN3BkTPn'"
      ]
     },
     "execution_count": 514,
     "metadata": {},
     "output_type": "execute_result"
    }
   ],
   "source": [
    "n2.id_hash"
   ]
  },
  {
   "cell_type": "code",
   "execution_count": 515,
   "metadata": {
    "collapsed": false
   },
   "outputs": [],
   "source": [
    "n2.broadcast_periodically_leaf()"
   ]
  },
  {
   "cell_type": "code",
   "execution_count": 516,
   "metadata": {
    "collapsed": false
   },
   "outputs": [
    {
     "name": "stdout",
     "output_type": "stream",
     "text": [
      "ignore mssage from self\n"
     ]
    }
   ],
   "source": [
    "child = n1.get_leafs(c)"
   ]
  },
  {
   "cell_type": "code",
   "execution_count": 517,
   "metadata": {
    "collapsed": false
   },
   "outputs": [
    {
     "data": {
      "text/plain": [
       "[{'id_hash': 'QmbNW98vfwAgaquf9dwt9Uc6ZggbFDabAv9q5GVZMZD6AS',\n",
       "  'parent_hash': '4353'},\n",
       " {'id_hash': 'Qme7fauo6yNV6FVUT4yXmQvkF5XLvDN85U47LKcN3BkTPn',\n",
       "  'parent_hash': '4353'},\n",
       " {'id_hash': 'QmeKXFgKuo1kgfHCHpTiMa9FcMGVgyLuP2vrjVPbsDLk4d',\n",
       "  'parent_hash': '4353'},\n",
       " {'id_hash': 'QmW12KVNRP83k4hUaKARWbse32wbocrZvKTgUkKsf8KG1a',\n",
       "  'parent_hash': '4353'},\n",
       " {'id_hash': 'QmP7ZLqxAtPjaezcai3aVkP6JjcJbc3Mm5UgnkQAQSKCSo',\n",
       "  'parent_hash': '4353'}]"
      ]
     },
     "execution_count": 517,
     "metadata": {},
     "output_type": "execute_result"
    }
   ],
   "source": [
    "child"
   ]
  },
  {
   "cell_type": "code",
   "execution_count": 518,
   "metadata": {
    "collapsed": false
   },
   "outputs": [
    {
     "name": "stdout",
     "output_type": "stream",
     "text": [
      "[  54 7346]\n",
      "[  54 7346]\n",
      "[ 45 356]\n",
      "[ 45 356]\n",
      "[ 45 356]\n"
     ]
    }
   ],
   "source": [
    "for i in range(len(child)):\n",
    "    print(pickle.loads(n2.get_node_by_hash(child[i]['id_hash'],c).contents))"
   ]
  },
  {
   "cell_type": "code",
   "execution_count": 519,
   "metadata": {
    "collapsed": true
   },
   "outputs": [],
   "source": [
    "yo = n2.get_node_by_hash(child[0]['id_hash'],c)"
   ]
  },
  {
   "cell_type": "code",
   "execution_count": 520,
   "metadata": {
    "collapsed": false
   },
   "outputs": [
    {
     "name": "stdout",
     "output_type": "stream",
     "text": [
      "4353\n"
     ]
    }
   ],
   "source": [
    "print(yo.id_hash)"
   ]
  },
  {
   "cell_type": "code",
   "execution_count": 521,
   "metadata": {
    "collapsed": true
   },
   "outputs": [],
   "source": [
    "message = {'id_hash': 'frf', 'parent_hash': 'freffygt'}"
   ]
  },
  {
   "cell_type": "code",
   "execution_count": 529,
   "metadata": {
    "collapsed": false
   },
   "outputs": [
    {
     "data": {
      "text/plain": [
       "str"
      ]
     },
     "execution_count": 529,
     "metadata": {},
     "output_type": "execute_result"
    }
   ],
   "source": [
    "type(json.dumps(message))"
   ]
  },
  {
   "cell_type": "code",
   "execution_count": null,
   "metadata": {
    "collapsed": true
   },
   "outputs": [],
   "source": []
  }
 ],
 "metadata": {
  "anaconda-cloud": {},
  "kernelspec": {
   "display_name": "Python [conda env:openmined2]",
   "language": "python",
   "name": "conda-env-openmined2-py"
  },
  "language_info": {
   "codemirror_mode": {
    "name": "ipython",
    "version": 3
   },
   "file_extension": ".py",
   "mimetype": "text/x-python",
   "name": "python",
   "nbconvert_exporter": "python",
   "pygments_lexer": "ipython3",
   "version": "3.6.4"
  }
 },
 "nbformat": 4,
 "nbformat_minor": 1
}
