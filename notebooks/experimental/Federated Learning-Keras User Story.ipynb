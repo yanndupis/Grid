{
 "cells": [
  {
   "cell_type": "code",
   "execution_count": 1,
   "metadata": {},
   "outputs": [
    {
     "name": "stderr",
     "output_type": "stream",
     "text": [
      "Using TensorFlow backend.\n"
     ]
    }
   ],
   "source": [
    "from grid.pubsub.client import Client\n",
    "\n",
    "client = Client()\n",
    "# client.find_tasks()"
   ]
  },
  {
   "cell_type": "code",
   "execution_count": 3,
   "metadata": {},
   "outputs": [
    {
     "data": {
      "text/plain": [
       "'/Users/bendecoste/code/Grid/notebooks'"
      ]
     },
     "execution_count": 3,
     "metadata": {},
     "output_type": "execute_result"
    }
   ],
   "source": [
    "import os\n",
    "os.getcwd()"
   ]
  },
  {
   "cell_type": "code",
   "execution_count": 2,
   "metadata": {
    "collapsed": true
   },
   "outputs": [],
   "source": [
    "from keras import Sequential\n",
    "from keras.layers import Dense\n",
    "from keras.optimizers import SGD\n",
    "\n",
    "model = Sequential()\n",
    "\n",
    "model.add(Dense(16, activation='relu', input_shape=(784,)))\n",
    "model.add(Dense(10, activation='softmax'))\n",
    "\n",
    "model.compile(loss='categorical_crossentropy',\n",
    "              optimizer=SGD(),\n",
    "              metrics=['accuracy'])"
   ]
  },
  {
   "cell_type": "code",
   "execution_count": 5,
   "metadata": {},
   "outputs": [
    {
     "name": "stdout",
     "output_type": "stream",
     "text": [
      "ADDED NEW MODELS WEIGHT TO QmY8PmgZLFPh4u9wHCwMPq8P21LM9TrwomX69RfPLQVG5W\n"
     ]
    }
   ],
   "source": [
    "client.add_model('tweets666', model)"
   ]
  },
  {
   "cell_type": "code",
   "execution_count": 9,
   "metadata": {},
   "outputs": [
    {
     "data": {
      "application/vnd.jupyter.widget-view+json": {
       "model_id": "652e63a6c5c84cecbd8d0419d89c5d9d",
       "version_major": 2,
       "version_minor": 0
      },
      "text/plain": [
       "A Jupyter Widget"
      ]
     },
     "metadata": {},
     "output_type": "display_data"
    },
    {
     "name": "stderr",
     "output_type": "stream",
     "text": [
      "Exception in thread Thread-12:\n",
      "Traceback (most recent call last):\n",
      "  File \"/Users/bendecoste/anaconda3/lib/python3.6/threading.py\", line 916, in _bootstrap_inner\n",
      "    self.run()\n",
      "  File \"/Users/bendecoste/anaconda3/lib/python3.6/threading.py\", line 864, in run\n",
      "    self._target(*self._args, **self._kwargs)\n",
      "  File \"/Users/bendecoste/anaconda3/lib/python3.6/site-packages/grid-0.1.0-py3.6.egg/grid/pubsub/base.py\", line 74, in listen_to_channel_impl\n",
      "    out = handle_message(message)\n",
      "  File \"/Users/bendecoste/anaconda3/lib/python3.6/site-packages/grid-0.1.0-py3.6.egg/grid/pubsub/client.py\", line 158, in __added_model\n",
      "    info = self.api.get_json(info['data'])\n",
      "UnboundLocalError: local variable 'info' referenced before assignment\n",
      "\n",
      "Exception in thread Thread-10:\n",
      "Traceback (most recent call last):\n",
      "  File \"/Users/bendecoste/anaconda3/lib/python3.6/threading.py\", line 916, in _bootstrap_inner\n",
      "    self.run()\n",
      "  File \"/Users/bendecoste/anaconda3/lib/python3.6/threading.py\", line 864, in run\n",
      "    self._target(*self._args, **self._kwargs)\n",
      "  File \"/Users/bendecoste/anaconda3/lib/python3.6/site-packages/grid-0.1.0-py3.6.egg/grid/pubsub/base.py\", line 74, in listen_to_channel_impl\n",
      "    out = handle_message(message)\n",
      "  File \"/Users/bendecoste/anaconda3/lib/python3.6/site-packages/grid-0.1.0-py3.6.egg/grid/pubsub/client.py\", line 158, in __added_model\n",
      "    info = self.api.get_json(info['data'])\n",
      "UnboundLocalError: local variable 'info' referenced before assignment\n",
      "Exception in thread Thread-8:\n",
      "Traceback (most recent call last):\n",
      "  File \"/Users/bendecoste/anaconda3/lib/python3.6/threading.py\", line 916, in _bootstrap_inner\n",
      "    self.run()\n",
      "  File \"/Users/bendecoste/anaconda3/lib/python3.6/threading.py\", line 864, in run\n",
      "    self._target(*self._args, **self._kwargs)\n",
      "  File \"/Users/bendecoste/anaconda3/lib/python3.6/site-packages/grid-0.1.0-py3.6.egg/grid/pubsub/base.py\", line 74, in listen_to_channel_impl\n",
      "    out = handle_message(message)\n",
      "  File \"/Users/bendecoste/anaconda3/lib/python3.6/site-packages/grid-0.1.0-py3.6.egg/grid/pubsub/client.py\", line 158, in __added_model\n",
      "    info = self.api.get_json(info['data'])\n",
      "UnboundLocalError: local variable 'info' referenced before assignment\n",
      "Exception in thread Thread-9:\n",
      "Traceback (most recent call last):\n",
      "  File \"/Users/bendecoste/anaconda3/lib/python3.6/threading.py\", line 916, in _bootstrap_inner\n",
      "    self.run()\n",
      "  File \"/Users/bendecoste/anaconda3/lib/python3.6/threading.py\", line 864, in run\n",
      "    self._target(*self._args, **self._kwargs)\n",
      "  File \"/Users/bendecoste/anaconda3/lib/python3.6/site-packages/grid-0.1.0-py3.6.egg/grid/pubsub/base.py\", line 74, in listen_to_channel_impl\n",
      "    out = handle_message(message)\n",
      "  File \"/Users/bendecoste/anaconda3/lib/python3.6/site-packages/grid-0.1.0-py3.6.egg/grid/pubsub/client.py\", line 158, in __added_model\n",
      "    info = self.api.get_json(info['data'])\n",
      "UnboundLocalError: local variable 'info' referenced before assignment\n",
      "Exception in thread Thread-11:\n",
      "Traceback (most recent call last):\n",
      "  File \"/Users/bendecoste/anaconda3/lib/python3.6/threading.py\", line 916, in _bootstrap_inner\n",
      "    self.run()\n",
      "  File \"/Users/bendecoste/anaconda3/lib/python3.6/threading.py\", line 864, in run\n",
      "    self._target(*self._args, **self._kwargs)\n",
      "  File \"/Users/bendecoste/anaconda3/lib/python3.6/site-packages/grid-0.1.0-py3.6.egg/grid/pubsub/base.py\", line 74, in listen_to_channel_impl\n",
      "    out = handle_message(message)\n",
      "  File \"/Users/bendecoste/anaconda3/lib/python3.6/site-packages/grid-0.1.0-py3.6.egg/grid/pubsub/client.py\", line 158, in __added_model\n",
      "    info = self.api.get_json(info['data'])\n",
      "UnboundLocalError: local variable 'info' referenced before assignment\n",
      "\n",
      "\n",
      "\n",
      "\n"
     ]
    }
   ],
   "source": [
    "from grid.pubsub.client import Client\n",
    "client = Client()\n",
    "client.best_models('other task 2')"
   ]
  },
  {
   "cell_type": "code",
   "execution_count": 3,
   "metadata": {
    "collapsed": true
   },
   "outputs": [],
   "source": []
  },
  {
   "cell_type": "code",
   "execution_count": 2,
   "metadata": {},
   "outputs": [
    {
     "data": {
      "application/vnd.jupyter.widget-view+json": {
       "model_id": "bf85efce883643e0b44398a64c19efd7",
       "version_major": 2,
       "version_minor": 0
      },
      "text/plain": [
       "A Jupyter Widget"
      ]
     },
     "metadata": {},
     "output_type": "display_data"
    }
   ],
   "source": [
    "import ipywidgets as widgets\n",
    "widgets.VBox([widgets.HBox([widgets.Label('Model Address')])])"
   ]
  },
  {
   "cell_type": "code",
   "execution_count": null,
   "metadata": {
    "collapsed": true
   },
   "outputs": [],
   "source": []
  }
 ],
 "metadata": {
  "kernelspec": {
   "display_name": "Python 3",
   "language": "python",
   "name": "python3"
  },
  "language_info": {
   "codemirror_mode": {
    "name": "ipython",
    "version": 3
   },
   "file_extension": ".py",
   "mimetype": "text/x-python",
   "name": "python",
   "nbconvert_exporter": "python",
   "pygments_lexer": "ipython3",
   "version": "3.6.3"
  }
 },
 "nbformat": 4,
 "nbformat_minor": 2
}
